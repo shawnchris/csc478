{
 "cells": [
  {
   "cell_type": "code",
   "execution_count": 1,
   "metadata": {
    "collapsed": true
   },
   "outputs": [],
   "source": [
    "# CSC478 Final Project Itembased app\n",
    "import os\n",
    "import numpy as np\n",
    "import scipy as sp\n",
    "import pandas as pd\n",
    "import matplotlib.pyplot as plt"
   ]
  },
  {
   "cell_type": "code",
   "execution_count": 2,
   "metadata": {
    "collapsed": false
   },
   "outputs": [],
   "source": [
    "# Load movieLens data\n",
    "path = 'F:\\Computer science\\csc478\\csc478 Final\\movielens\\Movielens-02'\n",
    "os.chdir(path)\n",
    "users = pd.read_table('u.user',delimiter='|',header=None,names=[\"id\",\"age\",\"gender\",\"job\",\"zip code\"])\n",
    "movies = pd.read_table('u.item',delimiter='|',header=None, names=[\"id\",\"title\",\"rl_date\",\"vrl_date\",\"url\",\n",
    "                                                                 \"unknown\",\"Action\",\"Adventure\",\"Animation\",\n",
    "                                                                 \"Children's \",\"Comedy\",\"Crime\",\"Documentary\",\n",
    "                                                                 \"Drama\",\"Fantasy\",\"Film-Noir\",\"Horror\",\n",
    "                                                                 \"Musical\",\"Mystery\",\"Romance\",\"Sci-Fi\",\n",
    "                                                                 \"Thriller\",\"War\",\"Western\"])\n",
    "ratings = pd.read_table('u.data',delimiter='\\t',header=None,names=[\"user\",\"movie\",\"rating\",\"timestamp\"])\n",
    "genres = pd.read_table('u.genre',delimiter='|',header=None,names=[\"genre\",\"id\"])"
   ]
  },
  {
   "cell_type": "code",
   "execution_count": 3,
   "metadata": {
    "collapsed": false
   },
   "outputs": [],
   "source": [
    "npmovies = np.genfromtxt('u.item',delimiter='|',dtype=str)"
   ]
  },
  {
   "cell_type": "code",
   "execution_count": 4,
   "metadata": {
    "collapsed": false
   },
   "outputs": [
    {
     "data": {
      "text/plain": [
       "(1682L, 24L)"
      ]
     },
     "execution_count": 4,
     "metadata": {},
     "output_type": "execute_result"
    }
   ],
   "source": [
    "npmovies.shape"
   ]
  },
  {
   "cell_type": "code",
   "execution_count": 5,
   "metadata": {
    "collapsed": true
   },
   "outputs": [],
   "source": [
    "npuser = np.genfromtxt('u.user',delimiter='|',dtype=str)"
   ]
  },
  {
   "cell_type": "code",
   "execution_count": 6,
   "metadata": {
    "collapsed": false
   },
   "outputs": [
    {
     "data": {
      "text/plain": [
       "array([['1', '24', 'M', 'technician', '85711'],\n",
       "       ['2', '53', 'F', 'other', '94043'],\n",
       "       ['3', '23', 'M', 'writer', '32067'],\n",
       "       ..., \n",
       "       ['941', '20', 'M', 'student', '97229'],\n",
       "       ['942', '48', 'F', 'librarian', '78209'],\n",
       "       ['943', '22', 'M', 'student', '77841']], \n",
       "      dtype='|S13')"
      ]
     },
     "execution_count": 6,
     "metadata": {},
     "output_type": "execute_result"
    }
   ],
   "source": [
    "npuser\n"
   ]
  },
  {
   "cell_type": "code",
   "execution_count": 7,
   "metadata": {
    "collapsed": false
   },
   "outputs": [],
   "source": [
    "#list1=ratelist(npratings,npmovies,npuser)"
   ]
  },
  {
   "cell_type": "code",
   "execution_count": 8,
   "metadata": {
    "collapsed": false
   },
   "outputs": [
    {
     "data": {
      "text/plain": [
       "(943L, 1682L)"
      ]
     },
     "execution_count": 8,
     "metadata": {},
     "output_type": "execute_result"
    }
   ],
   "source": [
    "rating_mat=np.zeros((len(users),len(movies)))\n",
    "rating_mat.shape"
   ]
  },
  {
   "cell_type": "code",
   "execution_count": 9,
   "metadata": {
    "collapsed": true
   },
   "outputs": [],
   "source": [
    "\n",
    "for i in range(len(ratings)):\n",
    "    user=int(ratings.user[i])-1\n",
    "    movie=int(ratings.movie[i])-1\n",
    "    rating=int(ratings.rating[i])\n",
    "    rating_mat[user,movie]=rating"
   ]
  },
  {
   "cell_type": "code",
   "execution_count": 11,
   "metadata": {
    "collapsed": false
   },
   "outputs": [
    {
     "data": {
      "text/plain": [
       "(943L, 1682L)"
      ]
     },
     "execution_count": 11,
     "metadata": {},
     "output_type": "execute_result"
    }
   ],
   "source": [
    "rating_mat.shape"
   ]
  },
  {
   "cell_type": "code",
   "execution_count": 13,
   "metadata": {
    "collapsed": false
   },
   "outputs": [],
   "source": [
    "import numpy as np\n",
    "import pylab as pl\n",
    "from sklearn .cluster import KMeans\n",
    "from sklearn import preprocessing\n",
    "\n",
    "from sklearn import metrics"
   ]
  },
  {
   "cell_type": "code",
   "execution_count": 15,
   "metadata": {
    "collapsed": false
   },
   "outputs": [
    {
     "data": {
      "text/plain": [
       "array([[ 5.,  3.,  4., ...,  0.,  0.,  0.],\n",
       "       [ 4.,  0.,  0., ...,  0.,  0.,  0.],\n",
       "       [ 0.,  0.,  0., ...,  0.,  0.,  0.],\n",
       "       ..., \n",
       "       [ 5.,  0.,  0., ...,  0.,  0.,  0.],\n",
       "       [ 0.,  0.,  0., ...,  0.,  0.,  0.],\n",
       "       [ 0.,  5.,  0., ...,  0.,  0.,  0.]])"
      ]
     },
     "execution_count": 15,
     "metadata": {},
     "output_type": "execute_result"
    }
   ],
   "source": [
    "rating_mat"
   ]
  },
  {
   "cell_type": "code",
   "execution_count": 172,
   "metadata": {
    "collapsed": false
   },
   "outputs": [
    {
     "data": {
      "text/plain": [
       "array([['1', 'Toy Story (1995)', '01-Jan-1995', ..., '0', '0', '0'],\n",
       "       ['2', 'GoldenEye (1995)', '01-Jan-1995', ..., '1', '0', '0'],\n",
       "       ['3', 'Four Rooms (1995)', '01-Jan-1995', ..., '1', '0', '0'],\n",
       "       ..., \n",
       "       ['1680', 'Sliding Doors (1998)', '01-Jan-1998', ..., '0', '0', '0'],\n",
       "       ['1681', 'You So Crazy (1994)', '01-Jan-1994', ..., '0', '0', '0'],\n",
       "       ['1682', 'Scream of Stone (Schrei aus Stein) (1991)', '08-Mar-1996',\n",
       "        ..., '0', '0', '0']], \n",
       "      dtype='|S134')"
      ]
     },
     "execution_count": 172,
     "metadata": {},
     "output_type": "execute_result"
    }
   ],
   "source": [
    "npmovies"
   ]
  },
  {
   "cell_type": "code",
   "execution_count": 151,
   "metadata": {
    "collapsed": false
   },
   "outputs": [],
   "source": [
    "from numpy import *\n",
    "from numpy import linalg as la\n",
    "import numpy as np\n",
    "\n",
    "def ecludSim(inA,inB):\n",
    "    return 1.0 / (1.0 + la.norm(inA - inB))\n",
    "\n",
    "def pearsSim(inA,inB):\n",
    "    if len(inA) < 3 : return 1.0\n",
    "    return 0.5 + 0.5 * corrcoef(inA, inB, rowvar = 0)[0][1]\n",
    "\n",
    "def cosSim(inA,inB):\n",
    "    num = float(inA.T * inB)\n",
    "    denom = la.norm(inA)*la.norm(inB)\n",
    "    return 0.5 + 0.5 * (num / denom)\n",
    "def cosSim2(vecA,vecB):\n",
    "    return np.dot(vecA, vecB) / ( np.linalg.norm(vecA) * np.linalg.norm(vecB) )\n",
    "\n",
    "def standEst(dataMat, user, simMeas, item):\n",
    "    n = shape(dataMat)[1]\n",
    "    simTotal = 0.0; ratSimTotal = 0.0\n",
    "    for j in range(n):\n",
    "        userRating = dataMat[user,j]\n",
    "        if userRating == 0: continue\n",
    "        overLap = nonzero(logical_and(dataMat[:,item]>0, \\\n",
    "                                      dataMat[:,j]>0))[0]\n",
    "        if len(overLap) == 0: similarity = 0\n",
    "        else: similarity = simMeas(dataMat[overLap,item], \\\n",
    "                                   dataMat[overLap,j])\n",
    "        #print 'the %d and %d similarity is: %f' % (item, j, similarity)\n",
    "        simTotal += similarity\n",
    "        ratSimTotal += similarity * userRating\n",
    "    if simTotal == 0: return 0\n",
    "    else: return ratSimTotal/simTotal\n",
    "    \n",
    "\n",
    "\n",
    "\n",
    "\n",
    "# This function performs cross-validation on a single user based on the test_ratio\n",
    "# For example, with test_ratio = 0.2, 5-fold x-validation is performed where in each fold, \n",
    "# 20 percent of rated items are withheld and the rest are used to estimate the withheld ratings\n",
    "\n",
    "def cross_validate_user(dataMat, user, test_ratio, estMethod=standEst, simMeas=pearsSim):\n",
    "    number_of_items = np.shape(dataMat)[1]\n",
    "    rated_items_by_user = np.array([i for i in range(number_of_items) if dataMat[user,i]>0])\n",
    "    test_size = test_ratio * len(rated_items_by_user)\n",
    "    test_indices = np.random.randint(0, len(rated_items_by_user), test_size)\n",
    "    withheld_items = rated_items_by_user[test_indices]\n",
    "    original_user_profile = np.copy(dataMat[user])\n",
    "    dataMat[user, withheld_items] = 0 # So that the withheld test items is not used in the rating estimation below\n",
    "    error_u = 0.0\n",
    "    count_u = len(withheld_items)\n",
    "# Compute absolute error for user u over all test items\n",
    "    for item in withheld_items:\n",
    "    # Estimate rating on the withheld item\n",
    "        estimatedScore = estMethod(dataMat, user, simMeas, item)\n",
    "        error_u = error_u + abs(estimatedScore - original_user_profile[item])\t\n",
    "\n",
    "# Now restore ratings of the withheld items to the user profile\n",
    "    for item in withheld_items:\n",
    "        dataMat[user, item] = original_user_profile[item]\n",
    "\n",
    "    # Return sum of absolute errors and the count of test cases for this user\n",
    "    # Note that these will have to be accumulated for each user to compute MAE\n",
    "    return error_u, count_u\n",
    "\n",
    "\n",
    "\n",
    "def test(MData, testRatio, method,simMethod):\n",
    "    totalerror = 0.0\n",
    "    total = 0\n",
    "    for user in range(len(MData)):\n",
    "        \n",
    "        error, count = cross_validate_user(MData, user, testRatio, estMethod=method,simMeas=simMethod)\n",
    "        \n",
    "        totalerror += error\n",
    "        total += count\n",
    "    MAE = totalerror / float(total)\n",
    "    print 'Mean Absoloute Error for ',method,' : ', MAE\n",
    "\n",
    "def test1(MData, testRatio, method,simMethod):\n",
    "    totalerror = 0.0\n",
    "    total = 0\n",
    "    for user in range(len(MData)):\n",
    "        \n",
    "        error, count = cross_validate_user(MData, user, testRatio, estMethod=method,simMeas=simMethod)\n",
    "        if isnan(error):\n",
    "            continue\n",
    "        totalerror += error\n",
    "        total += count\n",
    "    MAE = totalerror / float(total)\n",
    "    print 'Mean Absoloute Error for ',method,' : ', MAE\n",
    "    \n",
    "\n",
    "\n",
    "def get_mv_text(movie, id):\n",
    "    return movie[id]\n"
   ]
  },
  {
   "cell_type": "code",
   "execution_count": null,
   "metadata": {
    "collapsed": true
   },
   "outputs": [],
   "source": [
    "# Mean absoloute for cosine simalarity"
   ]
  },
  {
   "cell_type": "code",
   "execution_count": 129,
   "metadata": {
    "collapsed": false
   },
   "outputs": [
    {
     "name": "stdout",
     "output_type": "stream",
     "text": [
      "Mean Absoloute Error for  <function standEst at 0x000000000D952DD8>  :  0.829079195273\n"
     ]
    },
    {
     "name": "stderr",
     "output_type": "stream",
     "text": [
      "e:\\Anaconda2\\lib\\site-packages\\ipykernel\\__main__.py:69: DeprecationWarning: using a non-integer number instead of an integer will result in an error in the future\n"
     ]
    }
   ],
   "source": [
    "test(rating_mat, 0.2, standEst,cosSim2)\n"
   ]
  },
  {
   "cell_type": "code",
   "execution_count": null,
   "metadata": {
    "collapsed": true
   },
   "outputs": [],
   "source": [
    "#MAE for ecludSim"
   ]
  },
  {
   "cell_type": "code",
   "execution_count": 131,
   "metadata": {
    "collapsed": false
   },
   "outputs": [
    {
     "name": "stdout",
     "output_type": "stream",
     "text": [
      "Mean Absoloute Error for  <function standEst at 0x000000000D952DD8>  :  0.834439256357\n"
     ]
    },
    {
     "name": "stderr",
     "output_type": "stream",
     "text": [
      "e:\\Anaconda2\\lib\\site-packages\\ipykernel\\__main__.py:69: DeprecationWarning: using a non-integer number instead of an integer will result in an error in the future\n"
     ]
    }
   ],
   "source": [
    "test(rating_mat, 0.2, standEst,ecludSim)"
   ]
  },
  {
   "cell_type": "code",
   "execution_count": null,
   "metadata": {
    "collapsed": true
   },
   "outputs": [],
   "source": [
    "#MAE for pearsSim"
   ]
  },
  {
   "cell_type": "code",
   "execution_count": 150,
   "metadata": {
    "collapsed": false
   },
   "outputs": [
    {
     "name": "stdout",
     "output_type": "stream",
     "text": [
      "Mean Absoloute Error for  <function standEst at 0x000000000D952DD8>  :  0.816964270507\n"
     ]
    },
    {
     "name": "stderr",
     "output_type": "stream",
     "text": [
      "e:\\Anaconda2\\lib\\site-packages\\ipykernel\\__main__.py:69: DeprecationWarning: using a non-integer number instead of an integer will result in an error in the future\n"
     ]
    }
   ],
   "source": [
    "test1(rating_mat,0.2,standEst,pearsSim)"
   ]
  },
  {
   "cell_type": "code",
   "execution_count": 168,
   "metadata": {
    "collapsed": true
   },
   "outputs": [],
   "source": [
    "def rec_most_similar_movies(dataMat, movie, querymovie, k, metric=pearsSim):\n",
    "    mv = get_mv_text(movie, querymovie)\n",
    "    print 'Selected Movie: \\n'\n",
    "    print mv[:5]\n",
    "    \n",
    "    simMovie = zeros(dataMat.shape[1])\n",
    "    for i in range(dataMat.shape[1]):\n",
    "        if i != querymovie:\n",
    "            simMovie[i] = metric(dataMat[:,i], dataMat[:, querymovie])\n",
    "    sortedVec = simMovie.argsort()[::-1]\n",
    "    print '\\nTop 5 Recommended movies are :\\n'\n",
    "    for i in range(k):\n",
    "        print movie[sortedVec[i]][:5], '\\n_______________\\n'"
   ]
  },
  {
   "cell_type": "code",
   "execution_count": 169,
   "metadata": {
    "collapsed": true
   },
   "outputs": [],
   "source": [
    "# Count Knn by pearsSim, then recommand the most sim n.\n",
    "# The sim is based on the movoe's rating"
   ]
  },
  {
   "cell_type": "code",
   "execution_count": 170,
   "metadata": {
    "collapsed": false
   },
   "outputs": [
    {
     "name": "stdout",
     "output_type": "stream",
     "text": [
      "Selected Movie: \n",
      "\n",
      "['4' 'Get Shorty (1995)' '01-Jan-1995' ''\n",
      " 'http://us.imdb.com/M/title-exact?Get%20Shorty%20(1995)']\n",
      "\n",
      "Top 5 Recommended movies are :\n",
      "\n",
      "['56' 'Pulp Fiction (1994)' '01-Jan-1994' ''\n",
      " 'http://us.imdb.com/M/title-exact?Pulp%20Fiction%20(1994)'] \n",
      "_______________\n",
      "\n",
      "['202' 'Groundhog Day (1993)' '01-Jan-1993' ''\n",
      " 'http://us.imdb.com/M/title-exact?Groundhog%20Day%20(1993)'] \n",
      "_______________\n",
      "\n",
      "['204' 'Back to the Future (1985)' '01-Jan-1985' ''\n",
      " 'http://us.imdb.com/M/title-exact?Back%20to%20the%20Future%20(1985)'] \n",
      "_______________\n",
      "\n",
      "['385' 'True Lies (1994)' '01-Jan-1994' ''\n",
      " 'http://us.imdb.com/M/title-exact?True%20Lies%20(1994)'] \n",
      "_______________\n",
      "\n",
      "['96' 'Terminator 2: Judgment Day (1991)' '01-Jan-1991' ''\n",
      " 'http://us.imdb.com/M/title-exact?Terminator%202:%20Judgment%20Day%20(1991)'] \n",
      "_______________\n",
      "\n"
     ]
    }
   ],
   "source": [
    "rec_most_similar_movies(rating_mat,npmovies,3,5,pearsSim)"
   ]
  },
  {
   "cell_type": "code",
   "execution_count": 20,
   "metadata": {
    "collapsed": true
   },
   "outputs": [],
   "source": [
    "def unratedMovies(userId,movies,datamat):\n",
    "    unrated = []\n",
    "    for i in range(len(movies)):\n",
    "        if datamat[userId,i] ==0:\n",
    "            unrated.append(i)\n",
    "    return unrated"
   ]
  },
  {
   "cell_type": "code",
   "execution_count": 21,
   "metadata": {
    "collapsed": false
   },
   "outputs": [],
   "source": [
    "# Predict all unrated movie for a user\n",
    "# predict based by that user 's rating on most similiar movies\n",
    "def PredictRateForUser(dataMat, movie, userId, metric=pearsSim):\n",
    "    #mv = get_mv_text(movie, querymovie)\n",
    "    #print 'Selected Movie: \\n'\n",
    "    #print mv[:5]\n",
    "    \n",
    "    unrated = unratedMovies(userId,movies,dataMat)\n",
    "    simMovie = zeros(dataMat.shape[1])\n",
    "    for querymovie in unrated:\n",
    "        \n",
    "        for i in range(dataMat.shape[1]):\n",
    "            if i != querymovie:\n",
    "                simMovie[i] = metric(dataMat[:,i], dataMat[:, querymovie])\n",
    "        sortedVec = simMovie.argsort()[::-1]\n",
    "        for j in sortedVec:\n",
    "            if dataMat[userId][j] !=0:\n",
    "                t = dataMat[userId][j]\n",
    "                break\n",
    "        print \"Predict rating for user # %d movie: %s is: %d \"%(userId,movie[querymovie][1],t)\n",
    "    \n",
    "   \n",
    "        \n",
    "        \n",
    "        \n",
    "    "
   ]
  },
  {
   "cell_type": "code",
   "execution_count": 165,
   "metadata": {
    "collapsed": false
   },
   "outputs": [
    {
     "name": "stdout",
     "output_type": "stream",
     "text": [
      "Predict rating for user # 1 movie: GoldenEye (1995) is: 5 \n",
      "Predict rating for user # 1 movie: Four Rooms (1995) is: 4 \n",
      "Predict rating for user # 1 movie: Get Shorty (1995) is: 5 \n",
      "Predict rating for user # 1 movie: Copycat (1995) is: 3 \n",
      "Predict rating for user # 1 movie: Shanghai Triad (Yao a yao yao dao waipo qiao) (1995) is: 5 \n",
      "Predict rating for user # 1 movie: Twelve Monkeys (1995) is: 5 \n",
      "Predict rating for user # 1 movie: Babe (1995) is: 5 \n",
      "Predict rating for user # 1 movie: Dead Man Walking (1995) is: 4 \n",
      "Predict rating for user # 1 movie: Seven (Se7en) (1995) is: 5 \n",
      "Predict rating for user # 1 movie: Usual Suspects, The (1995) is: 5 \n",
      "Predict rating for user # 1 movie: Mr. Holland's Opus (1995) is: 4 \n",
      "Predict rating for user # 1 movie: French Twist (Gazon maudit) (1995) is: 5 \n",
      "Predict rating for user # 1 movie: From Dusk Till Dawn (1996) is: 4 \n",
      "Predict rating for user # 1 movie: White Balloon, The (1995) is: 5 \n",
      "Predict rating for user # 1 movie: Angels and Insects (1995) is: 5 \n",
      "Predict rating for user # 1 movie: Muppet Treasure Island (1996) is: 4 \n",
      "Predict rating for user # 1 movie: Braveheart (1995) is: 5 \n",
      "Predict rating for user # 1 movie: Taxi Driver (1976) is: 5 \n",
      "Predict rating for user # 1 movie: Rumble in the Bronx (1995) is: 4 \n",
      "Predict rating for user # 1 movie: Brothers McMullen, The (1995) is: 4 \n",
      "Predict rating for user # 1 movie: Bad Boys (1995) is: 4 \n",
      "Predict rating for user # 1 movie: Apollo 13 (1995) is: 4 \n",
      "Predict rating for user # 1 movie: Batman Forever (1995) is: 4 \n",
      "Predict rating for user # 1 movie: Belle de jour (1967) is: 2 \n",
      "Predict rating for user # 1 movie: Crimson Tide (1995) is: 5 \n",
      "Predict rating for user # 1 movie: Crumb (1994) is: 4 \n",
      "Predict rating for user # 1 movie: Desperado (1995) is: 4 \n",
      "Predict rating for user # 1 movie: Doom Generation, The (1995) is: 1 \n",
      "Predict rating for user # 1 movie: Free Willy 2: The Adventure Home (1995) is: 4 \n",
      "Predict rating for user # 1 movie: Mad Love (1995) is: 3 \n",
      "Predict rating for user # 1 movie: Nadja (1994) is: 3 \n",
      "Predict rating for user # 1 movie: Net, The (1995) is: 3 \n",
      "Predict rating for user # 1 movie: Strange Days (1995) is: 4 \n",
      "Predict rating for user # 1 movie: To Wong Foo, Thanks for Everything! Julie Newmar (1995) is: 3 \n",
      "Predict rating for user # 1 movie: Billy Madison (1995) is: 4 \n",
      "Predict rating for user # 1 movie: Clerks (1994) is: 5 \n",
      "Predict rating for user # 1 movie: Disclosure (1994) is: 4 \n",
      "Predict rating for user # 1 movie: Dolores Claiborne (1994) is: 4 \n",
      "Predict rating for user # 1 movie: Eat Drink Man Woman (1994) is: 5 \n",
      "Predict rating for user # 1 movie: Exotica (1994) is: 4 \n",
      "Predict rating for user # 1 movie: Ed Wood (1994) is: 4 \n",
      "Predict rating for user # 1 movie: Hoop Dreams (1994) is: 5 \n",
      "Predict rating for user # 1 movie: I.Q. (1994) is: 4 \n",
      "Predict rating for user # 1 movie: Legends of the Fall (1994) is: 4 \n",
      "Predict rating for user # 1 movie: Madness of King George, The (1994) is: 2 \n",
      "Predict rating for user # 1 movie: Natural Born Killers (1994) is: 4 \n",
      "Predict rating for user # 1 movie: Outbreak (1995) is: 4 \n",
      "Predict rating for user # 1 movie: Professional, The (1994) is: 4 \n",
      "Predict rating for user # 1 movie: Pulp Fiction (1994) is: 5 \n",
      "Predict rating for user # 1 movie: Priest (1994) is: 4 \n",
      "Predict rating for user # 1 movie: Quiz Show (1994) is: 5 \n",
      "Predict rating for user # 1 movie: Three Colors: Red (1994) is: 4 \n",
      "Predict rating for user # 1 movie: Three Colors: Blue (1993) is: 4 \n",
      "Predict rating for user # 1 movie: Three Colors: White (1994) is: 4 \n",
      "Predict rating for user # 1 movie: Stargate (1994) is: 5 \n",
      "Predict rating for user # 1 movie: Santa Clause, The (1994) is: 4 \n",
      "Predict rating for user # 1 movie: Shawshank Redemption, The (1994) is: 5 \n",
      "Predict rating for user # 1 movie: What's Eating Gilbert Grape (1993) is: 4 \n",
      "Predict rating for user # 1 movie: While You Were Sleeping (1995) is: 3 \n",
      "Predict rating for user # 1 movie: Ace Ventura: Pet Detective (1994) is: 4 \n",
      "Predict rating for user # 1 movie: Crow, The (1994) is: 3 \n",
      "Predict rating for user # 1 movie: Forrest Gump (1994) is: 5 \n",
      "Predict rating for user # 1 movie: Four Weddings and a Funeral (1994) is: 5 \n",
      "Predict rating for user # 1 movie: Lion King, The (1994) is: 4 \n",
      "Predict rating for user # 1 movie: Mask, The (1994) is: 4 \n",
      "Predict rating for user # 1 movie: Maverick (1994) is: 5 \n",
      "Predict rating for user # 1 movie: Faster Pussycat! Kill! Kill! (1965) is: 4 \n",
      "Predict rating for user # 1 movie: Brother Minister: The Assassination of Malcolm X (1994) is: 3 \n",
      "Predict rating for user # 1 movie: Carlito's Way (1993) is: 5 \n",
      "Predict rating for user # 1 movie: Firm, The (1993) is: 3 \n",
      "Predict rating for user # 1 movie: Free Willy (1993) is: 3 \n",
      "Predict rating for user # 1 movie: Fugitive, The (1993) is: 5 \n",
      "Predict rating for user # 1 movie: Hot Shots! Part Deux (1993) is: 3 \n",
      "Predict rating for user # 1 movie: Hudsucker Proxy, The (1994) is: 5 \n",
      "Predict rating for user # 1 movie: Jurassic Park (1993) is: 5 \n",
      "Predict rating for user # 1 movie: Much Ado About Nothing (1993) is: 5 \n",
      "Predict rating for user # 1 movie: Robert A. Heinlein's The Puppet Masters (1994) is: 4 \n",
      "Predict rating for user # 1 movie: Ref, The (1994) is: 3 \n",
      "Predict rating for user # 1 movie: Remains of the Day, The (1993) is: 5 \n",
      "Predict rating for user # 1 movie: Searching for Bobby Fischer (1993) is: 5 \n",
      "Predict rating for user # 1 movie: Sleepless in Seattle (1993) is: 3 \n",
      "Predict rating for user # 1 movie: Blade Runner (1982) is: 5 \n",
      "Predict rating for user # 1 movie: So I Married an Axe Murderer (1993) is: 5 \n",
      "Predict rating for user # 1 movie: Nightmare Before Christmas, The (1993) is: 5 \n",
      "Predict rating for user # 1 movie: True Romance (1993) is: 4 \n",
      "Predict rating for user # 1 movie: Welcome to the Dollhouse (1995) is: 4 \n",
      "Predict rating for user # 1 movie: Home Alone (1990) is: 4 \n",
      "Predict rating for user # 1 movie: Aladdin (1992) is: 4 \n",
      "Predict rating for user # 1 movie: Terminator 2: Judgment Day (1991) is: 5 \n",
      "Predict rating for user # 1 movie: Dances with Wolves (1990) is: 5 \n",
      "Predict rating for user # 1 movie: Silence of the Lambs, The (1991) is: 5 \n",
      "Predict rating for user # 1 movie: Snow White and the Seven Dwarfs (1937) is: 5 \n",
      "Predict rating for user # 1 movie: Heavy Metal (1981) is: 4 \n",
      "Predict rating for user # 1 movie: Aristocats, The (1970) is: 4 \n",
      "Predict rating for user # 1 movie: All Dogs Go to Heaven 2 (1996) is: 3 \n",
      "Predict rating for user # 1 movie: Theodore Rex (1995) is: 3 \n",
      "Predict rating for user # 1 movie: Sgt. Bilko (1996) is: 4 \n",
      "Predict rating for user # 1 movie: Diabolique (1996) is: 3 \n",
      "Predict rating for user # 1 movie: Moll Flanders (1996) is: 4 \n",
      "Predict rating for user # 1 movie: Kids in the Hall: Brain Candy (1996) is: 4 \n",
      "Predict rating for user # 1 movie: Mystery Science Theater 3000: The Movie (1996) is: 5 \n",
      "Predict rating for user # 1 movie: Operation Dumbo Drop (1995) is: 3 \n"
     ]
    },
    {
     "ename": "KeyboardInterrupt",
     "evalue": "",
     "output_type": "error",
     "traceback": [
      "\u001b[1;31m---------------------------------------------------------------------------\u001b[0m",
      "\u001b[1;31mKeyboardInterrupt\u001b[0m                         Traceback (most recent call last)",
      "\u001b[1;32m<ipython-input-165-aed2646f7759>\u001b[0m in \u001b[0;36m<module>\u001b[1;34m()\u001b[0m\n\u001b[1;32m----> 1\u001b[1;33m \u001b[0mPredictRateForUser\u001b[0m\u001b[1;33m(\u001b[0m\u001b[0mrating_mat\u001b[0m\u001b[1;33m,\u001b[0m\u001b[0mnpmovies\u001b[0m\u001b[1;33m,\u001b[0m\u001b[1;36m1\u001b[0m\u001b[1;33m,\u001b[0m\u001b[0mpearsSim\u001b[0m\u001b[1;33m)\u001b[0m\u001b[1;33m\u001b[0m\u001b[0m\n\u001b[0m",
      "\u001b[1;32m<ipython-input-21-29a63b4e2958>\u001b[0m in \u001b[0;36mPredictRateForUser\u001b[1;34m(dataMat, movie, userId, metric)\u001b[0m\n\u001b[0;32m     12\u001b[0m         \u001b[1;32mfor\u001b[0m \u001b[0mi\u001b[0m \u001b[1;32min\u001b[0m \u001b[0mrange\u001b[0m\u001b[1;33m(\u001b[0m\u001b[0mdataMat\u001b[0m\u001b[1;33m.\u001b[0m\u001b[0mshape\u001b[0m\u001b[1;33m[\u001b[0m\u001b[1;36m1\u001b[0m\u001b[1;33m]\u001b[0m\u001b[1;33m)\u001b[0m\u001b[1;33m:\u001b[0m\u001b[1;33m\u001b[0m\u001b[0m\n\u001b[0;32m     13\u001b[0m             \u001b[1;32mif\u001b[0m \u001b[0mi\u001b[0m \u001b[1;33m!=\u001b[0m \u001b[0mquerymovie\u001b[0m\u001b[1;33m:\u001b[0m\u001b[1;33m\u001b[0m\u001b[0m\n\u001b[1;32m---> 14\u001b[1;33m                 \u001b[0msimMovie\u001b[0m\u001b[1;33m[\u001b[0m\u001b[0mi\u001b[0m\u001b[1;33m]\u001b[0m \u001b[1;33m=\u001b[0m \u001b[0mmetric\u001b[0m\u001b[1;33m(\u001b[0m\u001b[0mdataMat\u001b[0m\u001b[1;33m[\u001b[0m\u001b[1;33m:\u001b[0m\u001b[1;33m,\u001b[0m\u001b[0mi\u001b[0m\u001b[1;33m]\u001b[0m\u001b[1;33m,\u001b[0m \u001b[0mdataMat\u001b[0m\u001b[1;33m[\u001b[0m\u001b[1;33m:\u001b[0m\u001b[1;33m,\u001b[0m \u001b[0mquerymovie\u001b[0m\u001b[1;33m]\u001b[0m\u001b[1;33m)\u001b[0m\u001b[1;33m\u001b[0m\u001b[0m\n\u001b[0m\u001b[0;32m     15\u001b[0m         \u001b[0msortedVec\u001b[0m \u001b[1;33m=\u001b[0m \u001b[0msimMovie\u001b[0m\u001b[1;33m.\u001b[0m\u001b[0margsort\u001b[0m\u001b[1;33m(\u001b[0m\u001b[1;33m)\u001b[0m\u001b[1;33m[\u001b[0m\u001b[1;33m:\u001b[0m\u001b[1;33m:\u001b[0m\u001b[1;33m-\u001b[0m\u001b[1;36m1\u001b[0m\u001b[1;33m]\u001b[0m\u001b[1;33m\u001b[0m\u001b[0m\n\u001b[0;32m     16\u001b[0m         \u001b[1;32mfor\u001b[0m \u001b[0mj\u001b[0m \u001b[1;32min\u001b[0m \u001b[0msortedVec\u001b[0m\u001b[1;33m:\u001b[0m\u001b[1;33m\u001b[0m\u001b[0m\n",
      "\u001b[1;32m<ipython-input-151-732059a34a96>\u001b[0m in \u001b[0;36mpearsSim\u001b[1;34m(inA, inB)\u001b[0m\n\u001b[0;32m      8\u001b[0m \u001b[1;32mdef\u001b[0m \u001b[0mpearsSim\u001b[0m\u001b[1;33m(\u001b[0m\u001b[0minA\u001b[0m\u001b[1;33m,\u001b[0m\u001b[0minB\u001b[0m\u001b[1;33m)\u001b[0m\u001b[1;33m:\u001b[0m\u001b[1;33m\u001b[0m\u001b[0m\n\u001b[0;32m      9\u001b[0m     \u001b[1;32mif\u001b[0m \u001b[0mlen\u001b[0m\u001b[1;33m(\u001b[0m\u001b[0minA\u001b[0m\u001b[1;33m)\u001b[0m \u001b[1;33m<\u001b[0m \u001b[1;36m3\u001b[0m \u001b[1;33m:\u001b[0m \u001b[1;32mreturn\u001b[0m \u001b[1;36m1.0\u001b[0m\u001b[1;33m\u001b[0m\u001b[0m\n\u001b[1;32m---> 10\u001b[1;33m     \u001b[1;32mreturn\u001b[0m \u001b[1;36m0.5\u001b[0m \u001b[1;33m+\u001b[0m \u001b[1;36m0.5\u001b[0m \u001b[1;33m*\u001b[0m \u001b[0mcorrcoef\u001b[0m\u001b[1;33m(\u001b[0m\u001b[0minA\u001b[0m\u001b[1;33m,\u001b[0m \u001b[0minB\u001b[0m\u001b[1;33m,\u001b[0m \u001b[0mrowvar\u001b[0m \u001b[1;33m=\u001b[0m \u001b[1;36m0\u001b[0m\u001b[1;33m)\u001b[0m\u001b[1;33m[\u001b[0m\u001b[1;36m0\u001b[0m\u001b[1;33m]\u001b[0m\u001b[1;33m[\u001b[0m\u001b[1;36m1\u001b[0m\u001b[1;33m]\u001b[0m\u001b[1;33m\u001b[0m\u001b[0m\n\u001b[0m\u001b[0;32m     11\u001b[0m \u001b[1;33m\u001b[0m\u001b[0m\n\u001b[0;32m     12\u001b[0m \u001b[1;32mdef\u001b[0m \u001b[0mcosSim\u001b[0m\u001b[1;33m(\u001b[0m\u001b[0minA\u001b[0m\u001b[1;33m,\u001b[0m\u001b[0minB\u001b[0m\u001b[1;33m)\u001b[0m\u001b[1;33m:\u001b[0m\u001b[1;33m\u001b[0m\u001b[0m\n",
      "\u001b[1;32me:\\Anaconda2\\lib\\site-packages\\numpy\\lib\\function_base.pyc\u001b[0m in \u001b[0;36mcorrcoef\u001b[1;34m(x, y, rowvar, bias, ddof)\u001b[0m\n\u001b[0;32m   2143\u001b[0m         warnings.warn('bias and ddof have no affect and are deprecated',\n\u001b[0;32m   2144\u001b[0m                       DeprecationWarning)\n\u001b[1;32m-> 2145\u001b[1;33m     \u001b[0mc\u001b[0m \u001b[1;33m=\u001b[0m \u001b[0mcov\u001b[0m\u001b[1;33m(\u001b[0m\u001b[0mx\u001b[0m\u001b[1;33m,\u001b[0m \u001b[0my\u001b[0m\u001b[1;33m,\u001b[0m \u001b[0mrowvar\u001b[0m\u001b[1;33m)\u001b[0m\u001b[1;33m\u001b[0m\u001b[0m\n\u001b[0m\u001b[0;32m   2146\u001b[0m     \u001b[1;32mtry\u001b[0m\u001b[1;33m:\u001b[0m\u001b[1;33m\u001b[0m\u001b[0m\n\u001b[0;32m   2147\u001b[0m         \u001b[0md\u001b[0m \u001b[1;33m=\u001b[0m \u001b[0mdiag\u001b[0m\u001b[1;33m(\u001b[0m\u001b[0mc\u001b[0m\u001b[1;33m)\u001b[0m\u001b[1;33m\u001b[0m\u001b[0m\n",
      "\u001b[1;32me:\\Anaconda2\\lib\\site-packages\\numpy\\lib\\function_base.pyc\u001b[0m in \u001b[0;36mcov\u001b[1;34m(m, y, rowvar, bias, ddof, fweights, aweights)\u001b[0m\n\u001b[0;32m   2085\u001b[0m     \u001b[1;32melse\u001b[0m\u001b[1;33m:\u001b[0m\u001b[1;33m\u001b[0m\u001b[0m\n\u001b[0;32m   2086\u001b[0m         \u001b[0mX_T\u001b[0m \u001b[1;33m=\u001b[0m \u001b[1;33m(\u001b[0m\u001b[0mX\u001b[0m\u001b[1;33m*\u001b[0m\u001b[0mw\u001b[0m\u001b[1;33m)\u001b[0m\u001b[1;33m.\u001b[0m\u001b[0mT\u001b[0m\u001b[1;33m\u001b[0m\u001b[0m\n\u001b[1;32m-> 2087\u001b[1;33m     \u001b[1;32mreturn\u001b[0m \u001b[1;33m(\u001b[0m\u001b[0mdot\u001b[0m\u001b[1;33m(\u001b[0m\u001b[0mX\u001b[0m\u001b[1;33m,\u001b[0m \u001b[0mX_T\u001b[0m\u001b[1;33m.\u001b[0m\u001b[0mconj\u001b[0m\u001b[1;33m(\u001b[0m\u001b[1;33m)\u001b[0m\u001b[1;33m)\u001b[0m\u001b[1;33m/\u001b[0m\u001b[0mfact\u001b[0m\u001b[1;33m)\u001b[0m\u001b[1;33m.\u001b[0m\u001b[0msqueeze\u001b[0m\u001b[1;33m(\u001b[0m\u001b[1;33m)\u001b[0m\u001b[1;33m\u001b[0m\u001b[0m\n\u001b[0m\u001b[0;32m   2088\u001b[0m \u001b[1;33m\u001b[0m\u001b[0m\n\u001b[0;32m   2089\u001b[0m \u001b[1;33m\u001b[0m\u001b[0m\n",
      "\u001b[1;31mKeyboardInterrupt\u001b[0m: "
     ]
    }
   ],
   "source": [
    " PredictRateForUser(rating_mat,npmovies,1,pearsSim)"
   ]
  },
  {
   "cell_type": "code",
   "execution_count": 24,
   "metadata": {
    "collapsed": false
   },
   "outputs": [],
   "source": [
    "# Predict all unrated movie for a user and a specific movie\n",
    "def PredictRateForUserMovie(dataMat, movie, userId,querymovie,metric=pearsSim):\n",
    "    #mv = get_mv_text(movie, querymovie)\n",
    "    #print 'Selected Movie: \\n'\n",
    "    #print mv[:5]\n",
    "    \n",
    "    unrated = unratedMovies(userId,movies,dataMat)\n",
    "    simMovie = zeros(dataMat.shape[1])\n",
    "    if querymovie not in unrated:\n",
    "        print \"User # %d has rated the movie, the rating is %d \"%(userId,dataMat[userId][querymovie])\n",
    "    else:   \n",
    "        for i in range(dataMat.shape[1]):\n",
    "            if i != querymovie:\n",
    "                simMovie[i] = metric(dataMat[:,i], dataMat[:, querymovie])\n",
    "        sortedVec = simMovie.argsort()[::-1]\n",
    "        for j in sortedVec:\n",
    "            if dataMat[userId][j] !=0:\n",
    "                t = dataMat[userId][j]\n",
    "                break\n",
    "        print \"Predict rating for user # %d, movie:  %s is: %d \"%(userId,movie[querymovie][1],t)\n",
    "    \n",
    "   \n",
    "        "
   ]
  },
  {
   "cell_type": "code",
   "execution_count": 25,
   "metadata": {
    "collapsed": false
   },
   "outputs": [
    {
     "name": "stdout",
     "output_type": "stream",
     "text": [
      "Predict rating for user # 1, movie:  Four Rooms (1995) is: 4 \n"
     ]
    }
   ],
   "source": [
    "PredictRateForUserMovie(rating_mat,npmovies,1,2,pearsSim)"
   ]
  },
  {
   "cell_type": "code",
   "execution_count": null,
   "metadata": {
    "collapsed": true
   },
   "outputs": [],
   "source": [
    "# PredictTest will predict rating for a rated movie of the user, and then compare the predict result with actual rating "
   ]
  },
  {
   "cell_type": "code",
   "execution_count": 26,
   "metadata": {
    "collapsed": false
   },
   "outputs": [],
   "source": [
    "def PredictTest(dataMat, movie, userId, metric=pearsSim):\n",
    "    #mv = get_mv_text(movie, querymovie)\n",
    "    #print 'Selected Movie: \\n'\n",
    "    #print mv[:5]\n",
    "    \n",
    "    unrated = unratedMovies(userId,movies,dataMat)\n",
    "    simMovie = zeros(dataMat.shape[1])\n",
    "    \n",
    "    for j in range(dataMat.shape[1]) :\n",
    "        if j not in unrated:\n",
    "            for i in range(dataMat.shape[1]):\n",
    "                if i not in unrated and i !=j:\n",
    "                    simMovie[i] = metric(dataMat[:,i], dataMat[:, j])\n",
    "            sortedVec = simMovie.argsort()[::-1]\n",
    "            for k in sortedVec:\n",
    "                if dataMat[userId][k] !=0:\n",
    "                    t = dataMat[userId][k]\n",
    "                    break\n",
    "            print \"Predict rating for user # %d movie: %s is: %d \"%(userId,movie[j][1],t)\n",
    "            print \"Actual rating for user # %d movie: %s is %d\"%(userId,movie[j][1],dataMat[userId][j])\n",
    "            print \"\""
   ]
  },
  {
   "cell_type": "code",
   "execution_count": 286,
   "metadata": {
    "collapsed": false
   },
   "outputs": [
    {
     "name": "stdout",
     "output_type": "stream",
     "text": [
      "Predict rating for user # 1 movie: Toy Story (1995) is: 5 \n",
      "Actual rating for user # 1 movie: Toy Story (1995) is 4\n",
      "\n",
      "Predict rating for user # 1 movie: Richard III (1995) is: 4 \n",
      "Actual rating for user # 1 movie: Richard III (1995) is 2\n",
      "\n",
      "Predict rating for user # 1 movie: Mighty Aphrodite (1995) is: 5 \n",
      "Actual rating for user # 1 movie: Mighty Aphrodite (1995) is 4\n",
      "\n",
      "Predict rating for user # 1 movie: Postino, Il (1994) is: 5 \n",
      "Actual rating for user # 1 movie: Postino, Il (1994) is 4\n",
      "\n",
      "Predict rating for user # 1 movie: Antonia's Line (1995) is: 3 \n",
      "Actual rating for user # 1 movie: Antonia's Line (1995) is 3\n",
      "\n",
      "Predict rating for user # 1 movie: Birdcage, The (1996) is: 4 \n",
      "Actual rating for user # 1 movie: Birdcage, The (1996) is 4\n",
      "\n",
      "Predict rating for user # 1 movie: Star Wars (1977) is: 4 \n",
      "Actual rating for user # 1 movie: Star Wars (1977) is 5\n",
      "\n",
      "Predict rating for user # 1 movie: Fargo (1996) is: 4 \n",
      "Actual rating for user # 1 movie: Fargo (1996) is 5\n",
      "\n",
      "Predict rating for user # 1 movie: Truth About Cats & Dogs, The (1996) is: 3 \n",
      "Actual rating for user # 1 movie: Truth About Cats & Dogs, The (1996) is 4\n",
      "\n",
      "Predict rating for user # 1 movie: Godfather, The (1972) is: 5 \n",
      "Actual rating for user # 1 movie: Godfather, The (1972) is 5\n",
      "\n",
      "Predict rating for user # 1 movie: Jerry Maguire (1996) is: 4 \n",
      "Actual rating for user # 1 movie: Jerry Maguire (1996) is 4\n",
      "\n",
      "Predict rating for user # 1 movie: Kolya (1996) is: 3 \n",
      "Actual rating for user # 1 movie: Kolya (1996) is 5\n",
      "\n",
      "Predict rating for user # 1 movie: Shall We Dance? (1996) is: 4 \n",
      "Actual rating for user # 1 movie: Shall We Dance? (1996) is 5\n",
      "\n",
      "Predict rating for user # 1 movie: My Best Friend's Wedding (1997) is: 4 \n",
      "Actual rating for user # 1 movie: My Best Friend's Wedding (1997) is 4\n",
      "\n",
      "Predict rating for user # 1 movie: Men in Black (1997) is: 5 \n",
      "Actual rating for user # 1 movie: Men in Black (1997) is 4\n",
      "\n",
      "Predict rating for user # 1 movie: Contact (1997) is: 4 \n",
      "Actual rating for user # 1 movie: Contact (1997) is 3\n",
      "\n",
      "Predict rating for user # 1 movie: Full Monty, The (1997) is: 5 \n",
      "Actual rating for user # 1 movie: Full Monty, The (1997) is 4\n",
      "\n",
      "Predict rating for user # 1 movie: Good Will Hunting (1997) is: 1 \n",
      "Actual rating for user # 1 movie: Good Will Hunting (1997) is 5\n",
      "\n",
      "Predict rating for user # 1 movie: Heat (1995) is: 4 \n",
      "Actual rating for user # 1 movie: Heat (1995) is 4\n",
      "\n",
      "Predict rating for user # 1 movie: Sabrina (1995) is: 4 \n",
      "Actual rating for user # 1 movie: Sabrina (1995) is 3\n",
      "\n",
      "Predict rating for user # 1 movie: Sense and Sensibility (1995) is: 5 \n",
      "Actual rating for user # 1 movie: Sense and Sensibility (1995) is 5\n",
      "\n",
      "Predict rating for user # 1 movie: Leaving Las Vegas (1995) is: 5 \n",
      "Actual rating for user # 1 movie: Leaving Las Vegas (1995) is 4\n",
      "\n",
      "Predict rating for user # 1 movie: Restoration (1995) is: 3 \n",
      "Actual rating for user # 1 movie: Restoration (1995) is 4\n",
      "\n",
      "Predict rating for user # 1 movie: Bed of Roses (1996) is: 3 \n",
      "Actual rating for user # 1 movie: Bed of Roses (1996) is 3\n",
      "\n",
      "Predict rating for user # 1 movie: Once Upon a Time... When We Were Colored (1995) is: 1 \n",
      "Actual rating for user # 1 movie: Once Upon a Time... When We Were Colored (1995) is 4\n",
      "\n",
      "Predict rating for user # 1 movie: Up Close and Personal (1996) is: 3 \n",
      "Actual rating for user # 1 movie: Up Close and Personal (1996) is 3\n",
      "\n",
      "Predict rating for user # 1 movie: River Wild, The (1994) is: 4 \n",
      "Actual rating for user # 1 movie: River Wild, The (1994) is 3\n",
      "\n",
      "Predict rating for user # 1 movie: Time to Kill, A (1996) is: 4 \n",
      "Actual rating for user # 1 movie: Time to Kill, A (1996) is 4\n",
      "\n",
      "Predict rating for user # 1 movie: Emma (1996) is: 5 \n",
      "Actual rating for user # 1 movie: Emma (1996) is 5\n",
      "\n",
      "Predict rating for user # 1 movie: Tin Cup (1996) is: 4 \n",
      "Actual rating for user # 1 movie: Tin Cup (1996) is 4\n",
      "\n",
      "Predict rating for user # 1 movie: Secrets & Lies (1996) is: 4 \n",
      "Actual rating for user # 1 movie: Secrets & Lies (1996) is 5\n",
      "\n",
      "Predict rating for user # 1 movie: English Patient, The (1996) is: 4 \n",
      "Actual rating for user # 1 movie: English Patient, The (1996) is 4\n",
      "\n",
      "Predict rating for user # 1 movie: Marvin's Room (1996) is: 5 \n",
      "Actual rating for user # 1 movie: Marvin's Room (1996) is 3\n",
      "\n",
      "Predict rating for user # 1 movie: Scream (1996) is: 1 \n",
      "Actual rating for user # 1 movie: Scream (1996) is 3\n",
      "\n",
      "Predict rating for user # 1 movie: Evita (1996) is: 4 \n",
      "Actual rating for user # 1 movie: Evita (1996) is 3\n",
      "\n",
      "Predict rating for user # 1 movie: Fierce Creatures (1997) is: 3 \n",
      "Actual rating for user # 1 movie: Fierce Creatures (1997) is 3\n",
      "\n",
      "Predict rating for user # 1 movie: Absolute Power (1997) is: 4 \n",
      "Actual rating for user # 1 movie: Absolute Power (1997) is 3\n",
      "\n",
      "Predict rating for user # 1 movie: Rosewood (1997) is: 4 \n",
      "Actual rating for user # 1 movie: Rosewood (1997) is 4\n",
      "\n",
      "Predict rating for user # 1 movie: Donnie Brasco (1997) is: 3 \n",
      "Actual rating for user # 1 movie: Donnie Brasco (1997) is 4\n",
      "\n",
      "Predict rating for user # 1 movie: Liar Liar (1997) is: 4 \n",
      "Actual rating for user # 1 movie: Liar Liar (1997) is 1\n",
      "\n",
      "Predict rating for user # 1 movie: Breakdown (1997) is: 3 \n",
      "Actual rating for user # 1 movie: Breakdown (1997) is 4\n",
      "\n",
      "Predict rating for user # 1 movie: Promesse, La (1996) is: 4 \n",
      "Actual rating for user # 1 movie: Promesse, La (1996) is 3\n",
      "\n",
      "Predict rating for user # 1 movie: Ulee's Gold (1997) is: 4 \n",
      "Actual rating for user # 1 movie: Ulee's Gold (1997) is 4\n",
      "\n",
      "Predict rating for user # 1 movie: Face/Off (1997) is: 4 \n",
      "Actual rating for user # 1 movie: Face/Off (1997) is 3\n",
      "\n",
      "Predict rating for user # 1 movie: Hoodlum (1997) is: 4 \n",
      "Actual rating for user # 1 movie: Hoodlum (1997) is 4\n",
      "\n",
      "Predict rating for user # 1 movie: Air Force One (1997) is: 1 \n",
      "Actual rating for user # 1 movie: Air Force One (1997) is 4\n",
      "\n",
      "Predict rating for user # 1 movie: In & Out (1997) is: 4 \n",
      "Actual rating for user # 1 movie: In & Out (1997) is 4\n",
      "\n",
      "Predict rating for user # 1 movie: L.A. Confidential (1997) is: 4 \n",
      "Actual rating for user # 1 movie: L.A. Confidential (1997) is 5\n",
      "\n",
      "Predict rating for user # 1 movie: Ulee's Gold (1997) is: 4 \n",
      "Actual rating for user # 1 movie: Ulee's Gold (1997) is 4\n",
      "\n",
      "Predict rating for user # 1 movie: Fly Away Home (1996) is: 4 \n",
      "Actual rating for user # 1 movie: Fly Away Home (1996) is 4\n",
      "\n",
      "Predict rating for user # 1 movie: Ice Storm, The (1997) is: 4 \n",
      "Actual rating for user # 1 movie: Ice Storm, The (1997) is 3\n",
      "\n",
      "Predict rating for user # 1 movie: Mrs. Brown (Her Majesty, Mrs. Brown) (1997) is: 4 \n",
      "Actual rating for user # 1 movie: Mrs. Brown (Her Majesty, Mrs. Brown) (1997) is 4\n",
      "\n",
      "Predict rating for user # 1 movie: Devil's Advocate, The (1997) is: 5 \n",
      "Actual rating for user # 1 movie: Devil's Advocate, The (1997) is 3\n",
      "\n",
      "Predict rating for user # 1 movie: FairyTale: A True Story (1997) is: 4 \n",
      "Actual rating for user # 1 movie: FairyTale: A True Story (1997) is 3\n",
      "\n",
      "Predict rating for user # 1 movie: Deceiver (1997) is: 3 \n",
      "Actual rating for user # 1 movie: Deceiver (1997) is 1\n",
      "\n",
      "Predict rating for user # 1 movie: Rainmaker, The (1997) is: 5 \n",
      "Actual rating for user # 1 movie: Rainmaker, The (1997) is 4\n",
      "\n",
      "Predict rating for user # 1 movie: Wings of the Dove, The (1997) is: 3 \n",
      "Actual rating for user # 1 movie: Wings of the Dove, The (1997) is 5\n",
      "\n",
      "Predict rating for user # 1 movie: Midnight in the Garden of Good and Evil (1997) is: 5 \n",
      "Actual rating for user # 1 movie: Midnight in the Garden of Good and Evil (1997) is 3\n",
      "\n",
      "Predict rating for user # 1 movie: Titanic (1997) is: 5 \n",
      "Actual rating for user # 1 movie: Titanic (1997) is 5\n",
      "\n",
      "Predict rating for user # 1 movie: 3 Ninjas: High Noon At Mega Mountain (1998) is: 4 \n",
      "Actual rating for user # 1 movie: 3 Ninjas: High Noon At Mega Mountain (1998) is 1\n",
      "\n",
      "Predict rating for user # 1 movie: Apt Pupil (1998) is: 5 \n",
      "Actual rating for user # 1 movie: Apt Pupil (1998) is 1\n",
      "\n",
      "Predict rating for user # 1 movie: As Good As It Gets (1997) is: 5 \n",
      "Actual rating for user # 1 movie: As Good As It Gets (1997) is 5\n",
      "\n"
     ]
    }
   ],
   "source": [
    " PredictTest(rating_mat,npmovies,1,pearsSim)"
   ]
  },
  {
   "cell_type": "code",
   "execution_count": null,
   "metadata": {
    "collapsed": true
   },
   "outputs": [],
   "source": [
    "#PredictTest2 will find the the accuracy by how close the predicted movie rating to the actual movie rating."
   ]
  },
  {
   "cell_type": "code",
   "execution_count": 56,
   "metadata": {
    "collapsed": true
   },
   "outputs": [],
   "source": [
    "def PredictTest2(dataMat, movie, userId, metric=pearsSim):\n",
    "    #mv = get_mv_text(movie, querymovie)\n",
    "    #print 'Selected Movie: \\n'\n",
    "    #print mv[:5]\n",
    "    \n",
    "    unrated = unratedMovies(userId,movies,dataMat)\n",
    "    simMovie = zeros(dataMat.shape[1])\n",
    "    n=0\n",
    "    p=0\n",
    "    for j in range(dataMat.shape[1]) :\n",
    "        if j not in unrated:\n",
    "            for i in range(dataMat.shape[1]):\n",
    "                if i not in unrated and i !=j:\n",
    "                    simMovie[i] = metric(dataMat[:,i], dataMat[:, j])\n",
    "            sortedVec = simMovie.argsort()[::-1]\n",
    "            for k in sortedVec:\n",
    "                if dataMat[userId][k] !=0:\n",
    "                    t = dataMat[userId][k]\n",
    "                    break\n",
    "            p +=t/dataMat[userId][j] if t < dataMat[userId][j] else dataMat[userId][j]/t\n",
    "            \n",
    "            n+=1\n",
    "           \n",
    "    print \"acuracy is : %f\"%(p/n)"
   ]
  },
  {
   "cell_type": "code",
   "execution_count": null,
   "metadata": {
    "collapsed": true
   },
   "outputs": [],
   "source": [
    "#accury using pearsSim"
   ]
  },
  {
   "cell_type": "code",
   "execution_count": 167,
   "metadata": {
    "collapsed": false
   },
   "outputs": [
    {
     "name": "stdout",
     "output_type": "stream",
     "text": [
      "acuracy is : 0.761582\n"
     ]
    }
   ],
   "source": [
    "PredictTest2(rating_mat,npmovies,i,pearsSim)"
   ]
  },
  {
   "cell_type": "code",
   "execution_count": null,
   "metadata": {
    "collapsed": true
   },
   "outputs": [],
   "source": [
    "#PRedictTest4 is modified edition of PredictTest2, it returns the accurcy for a single user instead of printing it out."
   ]
  },
  {
   "cell_type": "code",
   "execution_count": 158,
   "metadata": {
    "collapsed": false
   },
   "outputs": [],
   "source": [
    "def PredictTest4(dataMat, movie, userId, metric=pearsSim):\n",
    "    #mv = get_mv_text(movie, querymovie)\n",
    "    #print 'Selected Movie: \\n'\n",
    "    #print mv[:5]\n",
    "    \n",
    "    unrated = unratedMovies(userId,movies,dataMat)\n",
    "    simMovie = zeros(dataMat.shape[1])\n",
    "    n=0\n",
    "    p=0\n",
    "    for j in range(dataMat.shape[1]) :\n",
    "        if j not in unrated:\n",
    "            for i in range(dataMat.shape[1]):\n",
    "                if i not in unrated and i !=j:\n",
    "                    simMovie[i] = metric(dataMat[:,i], dataMat[:, j])\n",
    "            sortedVec = simMovie.argsort()[::-1]\n",
    "            for k in sortedVec:\n",
    "                if dataMat[userId][k] !=0:\n",
    "                    t = dataMat[userId][k]\n",
    "                    break\n",
    "            p +=t/dataMat[userId][j] if t < dataMat[userId][j] else dataMat[userId][j]/t\n",
    "            \n",
    "            n+=1\n",
    "            t= p/n\n",
    "    return t"
   ]
  },
  {
   "cell_type": "code",
   "execution_count": null,
   "metadata": {
    "collapsed": true
   },
   "outputs": [],
   "source": [
    "#find 20% of the total user data"
   ]
  },
  {
   "cell_type": "code",
   "execution_count": 159,
   "metadata": {
    "collapsed": false
   },
   "outputs": [
    {
     "data": {
      "text/plain": [
       "188.60000000000002"
      ]
     },
     "execution_count": 159,
     "metadata": {},
     "output_type": "execute_result"
    }
   ],
   "source": [
    "len(rating_mat)*0.2"
   ]
  },
  {
   "cell_type": "code",
   "execution_count": null,
   "metadata": {
    "collapsed": true
   },
   "outputs": [],
   "source": [
    "#So I would like to use 189 user as test data"
   ]
  },
  {
   "cell_type": "code",
   "execution_count": null,
   "metadata": {
    "collapsed": true
   },
   "outputs": [],
   "source": [
    "#accury using ecludSim"
   ]
  },
  {
   "cell_type": "code",
   "execution_count": 162,
   "metadata": {
    "collapsed": false
   },
   "outputs": [
    {
     "name": "stdout",
     "output_type": "stream",
     "text": [
      "The accuracy using ecludSim is 0.775267\n"
     ]
    }
   ],
   "source": [
    "n=0\n",
    "k=0\n",
    "for i in range(1,190):\n",
    "    k+=PredictTest4(rating_mat,npmovies,i,ecludSim)\n",
    "    n+=1\n",
    "print \"The accuracy using ecludSim is %f\"%(k/n)"
   ]
  },
  {
   "cell_type": "code",
   "execution_count": null,
   "metadata": {
    "collapsed": true
   },
   "outputs": [],
   "source": [
    "#accury using pearsSim"
   ]
  },
  {
   "cell_type": "code",
   "execution_count": 163,
   "metadata": {
    "collapsed": false
   },
   "outputs": [
    {
     "name": "stdout",
     "output_type": "stream",
     "text": [
      "The accuracy using pearsSim is 0.796405\n"
     ]
    }
   ],
   "source": [
    "n=0\n",
    "k=0\n",
    "for i in range(1,190):\n",
    "    k+=PredictTest4(rating_mat,npmovies,i,pearsSim)\n",
    "    n+=1\n",
    "print \"The accuracy using pearsSim is %f\"%(k/n)"
   ]
  },
  {
   "cell_type": "code",
   "execution_count": 104,
   "metadata": {
    "collapsed": true
   },
   "outputs": [],
   "source": [
    "#accurcy using CosSim"
   ]
  },
  {
   "cell_type": "code",
   "execution_count": 164,
   "metadata": {
    "collapsed": false
   },
   "outputs": [
    {
     "name": "stdout",
     "output_type": "stream",
     "text": [
      "The accuracy using cosSim is 0.795872\n"
     ]
    }
   ],
   "source": [
    "n=0\n",
    "k=0\n",
    "for i in range(1,190):\n",
    "    k+=PredictTest4(rating_mat,npmovies,i,cosSim2)\n",
    "    n+=1\n",
    "print \"The accuracy using cosSim is %f\"%(k/n)"
   ]
  }
 ],
 "metadata": {
  "kernelspec": {
   "display_name": "Python 2",
   "language": "python",
   "name": "python2"
  },
  "language_info": {
   "codemirror_mode": {
    "name": "ipython",
    "version": 2
   },
   "file_extension": ".py",
   "mimetype": "text/x-python",
   "name": "python",
   "nbconvert_exporter": "python",
   "pygments_lexer": "ipython2",
   "version": "2.7.11"
  }
 },
 "nbformat": 4,
 "nbformat_minor": 0
}
