{
 "cells": [
  {
   "cell_type": "code",
   "execution_count": 1,
   "metadata": {
    "collapsed": true
   },
   "outputs": [],
   "source": [
    "# CSC478 Final Project - Data Analysis\n",
    "import os\n",
    "import numpy as np\n",
    "import scipy as sp\n",
    "import pandas as pd\n",
    "import matplotlib.pyplot as plt"
   ]
  },
  {
   "cell_type": "code",
   "execution_count": 2,
   "metadata": {
    "collapsed": false
   },
   "outputs": [],
   "source": [
    "# Section 1: Explore the general characteristics of the data\n",
    "\n",
    "# Load movieLens data\n",
    "#path = 'C:\\Users\\Shawn\\csc478\\Movielens'\n",
    "path = os.getcwd() + '/Movielens'\n",
    "os.chdir(path)\n",
    "users = pd.read_table('u.user',delimiter='|',header=None,names=[\"id\",\"age\",\"gender\",\"job\",\"zip code\"])\n",
    "movies = pd.read_table('u.item',delimiter='|',header=None, names=[\"id\",\"title\",\"rl_date\",\"vrl_date\",\"url\",\n",
    "                                                                 \"unknown\",\"Action\",\"Adventure\",\"Animation\",\n",
    "                                                                 \"Children's\",\"Comedy\",\"Crime\",\"Documentary\",\n",
    "                                                                 \"Drama\",\"Fantasy\",\"Film-Noir\",\"Horror\",\n",
    "                                                                 \"Musical\",\"Mystery\",\"Romance\",\"Sci-Fi\",\n",
    "                                                                 \"Thriller\",\"War\",\"Western\"])\n",
    "ratings = pd.read_table('u.data',delimiter='\\t',header=None,names=[\"user\",\"movie\",\"rating\",\"timestamp\"])\n",
    "genres = pd.read_table('u.genre',delimiter='|',header=None,names=[\"genre\",\"id\"])"
   ]
  },
  {
   "cell_type": "code",
   "execution_count": 3,
   "metadata": {
    "collapsed": false
   },
   "outputs": [
    {
     "name": "stdout",
     "output_type": "stream",
     "text": [
      "   id  age gender         job zip code\n",
      "0   1   24      M  technician    85711\n",
      "1   2   53      F       other    94043\n",
      "2   3   23      M      writer    32067\n",
      "3   4   24      M  technician    43537\n",
      "4   5   33      F       other    15213\n"
     ]
    },
    {
     "data": {
      "text/html": [
       "<div>\n",
       "<table border=\"1\" class=\"dataframe\">\n",
       "  <thead>\n",
       "    <tr style=\"text-align: right;\">\n",
       "      <th></th>\n",
       "      <th>id</th>\n",
       "      <th>age</th>\n",
       "      <th>gender</th>\n",
       "      <th>job</th>\n",
       "      <th>zip code</th>\n",
       "    </tr>\n",
       "  </thead>\n",
       "  <tbody>\n",
       "    <tr>\n",
       "      <th>count</th>\n",
       "      <td>943.000000</td>\n",
       "      <td>943.000000</td>\n",
       "      <td>943</td>\n",
       "      <td>943</td>\n",
       "      <td>943</td>\n",
       "    </tr>\n",
       "    <tr>\n",
       "      <th>unique</th>\n",
       "      <td>NaN</td>\n",
       "      <td>NaN</td>\n",
       "      <td>2</td>\n",
       "      <td>21</td>\n",
       "      <td>795</td>\n",
       "    </tr>\n",
       "    <tr>\n",
       "      <th>top</th>\n",
       "      <td>NaN</td>\n",
       "      <td>NaN</td>\n",
       "      <td>M</td>\n",
       "      <td>student</td>\n",
       "      <td>55414</td>\n",
       "    </tr>\n",
       "    <tr>\n",
       "      <th>freq</th>\n",
       "      <td>NaN</td>\n",
       "      <td>NaN</td>\n",
       "      <td>670</td>\n",
       "      <td>196</td>\n",
       "      <td>9</td>\n",
       "    </tr>\n",
       "    <tr>\n",
       "      <th>mean</th>\n",
       "      <td>472.000000</td>\n",
       "      <td>34.051962</td>\n",
       "      <td>NaN</td>\n",
       "      <td>NaN</td>\n",
       "      <td>NaN</td>\n",
       "    </tr>\n",
       "    <tr>\n",
       "      <th>std</th>\n",
       "      <td>272.364951</td>\n",
       "      <td>12.192740</td>\n",
       "      <td>NaN</td>\n",
       "      <td>NaN</td>\n",
       "      <td>NaN</td>\n",
       "    </tr>\n",
       "    <tr>\n",
       "      <th>min</th>\n",
       "      <td>1.000000</td>\n",
       "      <td>7.000000</td>\n",
       "      <td>NaN</td>\n",
       "      <td>NaN</td>\n",
       "      <td>NaN</td>\n",
       "    </tr>\n",
       "    <tr>\n",
       "      <th>25%</th>\n",
       "      <td>236.500000</td>\n",
       "      <td>25.000000</td>\n",
       "      <td>NaN</td>\n",
       "      <td>NaN</td>\n",
       "      <td>NaN</td>\n",
       "    </tr>\n",
       "    <tr>\n",
       "      <th>50%</th>\n",
       "      <td>472.000000</td>\n",
       "      <td>31.000000</td>\n",
       "      <td>NaN</td>\n",
       "      <td>NaN</td>\n",
       "      <td>NaN</td>\n",
       "    </tr>\n",
       "    <tr>\n",
       "      <th>75%</th>\n",
       "      <td>707.500000</td>\n",
       "      <td>43.000000</td>\n",
       "      <td>NaN</td>\n",
       "      <td>NaN</td>\n",
       "      <td>NaN</td>\n",
       "    </tr>\n",
       "    <tr>\n",
       "      <th>max</th>\n",
       "      <td>943.000000</td>\n",
       "      <td>73.000000</td>\n",
       "      <td>NaN</td>\n",
       "      <td>NaN</td>\n",
       "      <td>NaN</td>\n",
       "    </tr>\n",
       "  </tbody>\n",
       "</table>\n",
       "</div>"
      ],
      "text/plain": [
       "                id         age gender      job zip code\n",
       "count   943.000000  943.000000    943      943      943\n",
       "unique         NaN         NaN      2       21      795\n",
       "top            NaN         NaN      M  student    55414\n",
       "freq           NaN         NaN    670      196        9\n",
       "mean    472.000000   34.051962    NaN      NaN      NaN\n",
       "std     272.364951   12.192740    NaN      NaN      NaN\n",
       "min       1.000000    7.000000    NaN      NaN      NaN\n",
       "25%     236.500000   25.000000    NaN      NaN      NaN\n",
       "50%     472.000000   31.000000    NaN      NaN      NaN\n",
       "75%     707.500000   43.000000    NaN      NaN      NaN\n",
       "max     943.000000   73.000000    NaN      NaN      NaN"
      ]
     },
     "execution_count": 3,
     "metadata": {},
     "output_type": "execute_result"
    }
   ],
   "source": [
    "# Users data overview\n",
    "print users.head(5)\n",
    "users.describe(include=\"all\")"
   ]
  },
  {
   "cell_type": "code",
   "execution_count": 4,
   "metadata": {
    "collapsed": false,
    "scrolled": false
   },
   "outputs": [
    {
     "data": {
      "image/png": "[encoded data removed]",
      "text/plain": [
       "<matplotlib.figure.Figure at 0xab51240>"
      ]
     },
     "metadata": {},
     "output_type": "display_data"
    }
   ],
   "source": [
    "# Distribution of user ages\n",
    "%matplotlib inline\n",
    "plt.hist(users[\"age\"])\n",
    "plt.xlabel(\"Age\")\n",
    "plt.ylabel(\"Count\")\n",
    "plt.show()"
   ]
  },
  {
   "cell_type": "code",
   "execution_count": 5,
   "metadata": {
    "collapsed": true
   },
   "outputs": [],
   "source": [
    "# As we can see, most of the users are between 20 - 30 year old."
   ]
  },
  {
   "cell_type": "code",
   "execution_count": 6,
   "metadata": {
    "collapsed": false,
    "scrolled": true
   },
   "outputs": [
    {
     "data": {
      "text/plain": [
       "<matplotlib.axes._subplots.AxesSubplot at 0xa94e128>"
      ]
     },
     "execution_count": 6,
     "metadata": {},
     "output_type": "execute_result"
    },
    {
     "data": {
      "image/png": "[encoded data removed]",
      "text/plain": [
       "<matplotlib.figure.Figure at 0x9f3d780>"
      ]
     },
     "metadata": {},
     "output_type": "display_data"
    }
   ],
   "source": [
    "# Distribution of user genders\n",
    "users.gender.value_counts().plot(kind='bar')"
   ]
  },
  {
   "cell_type": "code",
   "execution_count": 7,
   "metadata": {
    "collapsed": true
   },
   "outputs": [],
   "source": [
    "# As we can see, number of male users are twice as many as female users."
   ]
  },
  {
   "cell_type": "code",
   "execution_count": 8,
   "metadata": {
    "collapsed": false
   },
   "outputs": [
    {
     "data": {
      "text/plain": [
       "<matplotlib.axes._subplots.AxesSubplot at 0xaaba240>"
      ]
     },
     "execution_count": 8,
     "metadata": {},
     "output_type": "execute_result"
    },
    {
     "data": {
      "image/png": "[encoded data removed]",
      "text/plain": [
       "<matplotlib.figure.Figure at 0xaacc780>"
      ]
     },
     "metadata": {},
     "output_type": "display_data"
    }
   ],
   "source": [
    "# Distribution of user professions\n",
    "users.job.value_counts().plot(kind='bar')"
   ]
  },
  {
   "cell_type": "code",
   "execution_count": 9,
   "metadata": {
    "collapsed": true
   },
   "outputs": [],
   "source": [
    "# As we can see, most of the users are students."
   ]
  },
  {
   "cell_type": "code",
   "execution_count": 10,
   "metadata": {
    "collapsed": false
   },
   "outputs": [
    {
     "data": {
      "text/html": [
       "<div>\n",
       "<table border=\"1\" class=\"dataframe\">\n",
       "  <thead>\n",
       "    <tr style=\"text-align: right;\">\n",
       "      <th></th>\n",
       "      <th>id</th>\n",
       "      <th>title</th>\n",
       "      <th>rl_date</th>\n",
       "      <th>vrl_date</th>\n",
       "      <th>url</th>\n",
       "      <th>unknown</th>\n",
       "      <th>Action</th>\n",
       "      <th>Adventure</th>\n",
       "      <th>Animation</th>\n",
       "      <th>Children's</th>\n",
       "      <th>...</th>\n",
       "      <th>Fantasy</th>\n",
       "      <th>Film-Noir</th>\n",
       "      <th>Horror</th>\n",
       "      <th>Musical</th>\n",
       "      <th>Mystery</th>\n",
       "      <th>Romance</th>\n",
       "      <th>Sci-Fi</th>\n",
       "      <th>Thriller</th>\n",
       "      <th>War</th>\n",
       "      <th>Western</th>\n",
       "    </tr>\n",
       "  </thead>\n",
       "  <tbody>\n",
       "    <tr>\n",
       "      <th>0</th>\n",
       "      <td>1</td>\n",
       "      <td>Toy Story (1995)</td>\n",
       "      <td>01-Jan-1995</td>\n",
       "      <td>NaN</td>\n",
       "      <td>http://us.imdb.com/M/title-exact?Toy%20Story%2...</td>\n",
       "      <td>0</td>\n",
       "      <td>0</td>\n",
       "      <td>0</td>\n",
       "      <td>1</td>\n",
       "      <td>1</td>\n",
       "      <td>...</td>\n",
       "      <td>0</td>\n",
       "      <td>0</td>\n",
       "      <td>0</td>\n",
       "      <td>0</td>\n",
       "      <td>0</td>\n",
       "      <td>0</td>\n",
       "      <td>0</td>\n",
       "      <td>0</td>\n",
       "      <td>0</td>\n",
       "      <td>0</td>\n",
       "    </tr>\n",
       "    <tr>\n",
       "      <th>1</th>\n",
       "      <td>2</td>\n",
       "      <td>GoldenEye (1995)</td>\n",
       "      <td>01-Jan-1995</td>\n",
       "      <td>NaN</td>\n",
       "      <td>http://us.imdb.com/M/title-exact?GoldenEye%20(...</td>\n",
       "      <td>0</td>\n",
       "      <td>1</td>\n",
       "      <td>1</td>\n",
       "      <td>0</td>\n",
       "      <td>0</td>\n",
       "      <td>...</td>\n",
       "      <td>0</td>\n",
       "      <td>0</td>\n",
       "      <td>0</td>\n",
       "      <td>0</td>\n",
       "      <td>0</td>\n",
       "      <td>0</td>\n",
       "      <td>0</td>\n",
       "      <td>1</td>\n",
       "      <td>0</td>\n",
       "      <td>0</td>\n",
       "    </tr>\n",
       "    <tr>\n",
       "      <th>2</th>\n",
       "      <td>3</td>\n",
       "      <td>Four Rooms (1995)</td>\n",
       "      <td>01-Jan-1995</td>\n",
       "      <td>NaN</td>\n",
       "      <td>http://us.imdb.com/M/title-exact?Four%20Rooms%...</td>\n",
       "      <td>0</td>\n",
       "      <td>0</td>\n",
       "      <td>0</td>\n",
       "      <td>0</td>\n",
       "      <td>0</td>\n",
       "      <td>...</td>\n",
       "      <td>0</td>\n",
       "      <td>0</td>\n",
       "      <td>0</td>\n",
       "      <td>0</td>\n",
       "      <td>0</td>\n",
       "      <td>0</td>\n",
       "      <td>0</td>\n",
       "      <td>1</td>\n",
       "      <td>0</td>\n",
       "      <td>0</td>\n",
       "    </tr>\n",
       "    <tr>\n",
       "      <th>3</th>\n",
       "      <td>4</td>\n",
       "      <td>Get Shorty (1995)</td>\n",
       "      <td>01-Jan-1995</td>\n",
       "      <td>NaN</td>\n",
       "      <td>http://us.imdb.com/M/title-exact?Get%20Shorty%...</td>\n",
       "      <td>0</td>\n",
       "      <td>1</td>\n",
       "      <td>0</td>\n",
       "      <td>0</td>\n",
       "      <td>0</td>\n",
       "      <td>...</td>\n",
       "      <td>0</td>\n",
       "      <td>0</td>\n",
       "      <td>0</td>\n",
       "      <td>0</td>\n",
       "      <td>0</td>\n",
       "      <td>0</td>\n",
       "      <td>0</td>\n",
       "      <td>0</td>\n",
       "      <td>0</td>\n",
       "      <td>0</td>\n",
       "    </tr>\n",
       "    <tr>\n",
       "      <th>4</th>\n",
       "      <td>5</td>\n",
       "      <td>Copycat (1995)</td>\n",
       "      <td>01-Jan-1995</td>\n",
       "      <td>NaN</td>\n",
       "      <td>http://us.imdb.com/M/title-exact?Copycat%20(1995)</td>\n",
       "      <td>0</td>\n",
       "      <td>0</td>\n",
       "      <td>0</td>\n",
       "      <td>0</td>\n",
       "      <td>0</td>\n",
       "      <td>...</td>\n",
       "      <td>0</td>\n",
       "      <td>0</td>\n",
       "      <td>0</td>\n",
       "      <td>0</td>\n",
       "      <td>0</td>\n",
       "      <td>0</td>\n",
       "      <td>0</td>\n",
       "      <td>1</td>\n",
       "      <td>0</td>\n",
       "      <td>0</td>\n",
       "    </tr>\n",
       "  </tbody>\n",
       "</table>\n",
       "<p>5 rows × 24 columns</p>\n",
       "</div>"
      ],
      "text/plain": [
       "   id              title      rl_date  vrl_date  \\\n",
       "0   1   Toy Story (1995)  01-Jan-1995       NaN   \n",
       "1   2   GoldenEye (1995)  01-Jan-1995       NaN   \n",
       "2   3  Four Rooms (1995)  01-Jan-1995       NaN   \n",
       "3   4  Get Shorty (1995)  01-Jan-1995       NaN   \n",
       "4   5     Copycat (1995)  01-Jan-1995       NaN   \n",
       "\n",
       "                                                 url  unknown  Action  \\\n",
       "0  http://us.imdb.com/M/title-exact?Toy%20Story%2...        0       0   \n",
       "1  http://us.imdb.com/M/title-exact?GoldenEye%20(...        0       1   \n",
       "2  http://us.imdb.com/M/title-exact?Four%20Rooms%...        0       0   \n",
       "3  http://us.imdb.com/M/title-exact?Get%20Shorty%...        0       1   \n",
       "4  http://us.imdb.com/M/title-exact?Copycat%20(1995)        0       0   \n",
       "\n",
       "   Adventure  Animation  Children's   ...     Fantasy  Film-Noir  Horror  \\\n",
       "0          0          1           1   ...           0          0       0   \n",
       "1          1          0           0   ...           0          0       0   \n",
       "2          0          0           0   ...           0          0       0   \n",
       "3          0          0           0   ...           0          0       0   \n",
       "4          0          0           0   ...           0          0       0   \n",
       "\n",
       "   Musical  Mystery  Romance  Sci-Fi  Thriller  War  Western  \n",
       "0        0        0        0       0         0    0        0  \n",
       "1        0        0        0       0         1    0        0  \n",
       "2        0        0        0       0         1    0        0  \n",
       "3        0        0        0       0         0    0        0  \n",
       "4        0        0        0       0         1    0        0  \n",
       "\n",
       "[5 rows x 24 columns]"
      ]
     },
     "execution_count": 10,
     "metadata": {},
     "output_type": "execute_result"
    }
   ],
   "source": [
    "# 0: id, 1: name, 2: relase date, 3: video release date, 4: url, 5-23: genre\n",
    "# Movie data\n",
    "movies.head(5)"
   ]
  },
  {
   "cell_type": "code",
   "execution_count": 11,
   "metadata": {
    "collapsed": false
   },
   "outputs": [
    {
     "data": {
      "text/html": [
       "<div>\n",
       "<table border=\"1\" class=\"dataframe\">\n",
       "  <thead>\n",
       "    <tr style=\"text-align: right;\">\n",
       "      <th></th>\n",
       "      <th>id</th>\n",
       "      <th>title</th>\n",
       "      <th>rl_date</th>\n",
       "      <th>vrl_date</th>\n",
       "      <th>url</th>\n",
       "      <th>unknown</th>\n",
       "      <th>Action</th>\n",
       "      <th>Adventure</th>\n",
       "      <th>Animation</th>\n",
       "      <th>Children's</th>\n",
       "      <th>...</th>\n",
       "      <th>Fantasy</th>\n",
       "      <th>Film-Noir</th>\n",
       "      <th>Horror</th>\n",
       "      <th>Musical</th>\n",
       "      <th>Mystery</th>\n",
       "      <th>Romance</th>\n",
       "      <th>Sci-Fi</th>\n",
       "      <th>Thriller</th>\n",
       "      <th>War</th>\n",
       "      <th>Western</th>\n",
       "    </tr>\n",
       "  </thead>\n",
       "  <tbody>\n",
       "    <tr>\n",
       "      <th>count</th>\n",
       "      <td>1682.000000</td>\n",
       "      <td>1682</td>\n",
       "      <td>1681</td>\n",
       "      <td>0.0</td>\n",
       "      <td>1679</td>\n",
       "      <td>1682.000000</td>\n",
       "      <td>1682.000000</td>\n",
       "      <td>1682.000000</td>\n",
       "      <td>1682.000000</td>\n",
       "      <td>1682.000000</td>\n",
       "      <td>...</td>\n",
       "      <td>1682.00000</td>\n",
       "      <td>1682.000000</td>\n",
       "      <td>1682.000000</td>\n",
       "      <td>1682.000000</td>\n",
       "      <td>1682.000000</td>\n",
       "      <td>1682.000000</td>\n",
       "      <td>1682.000000</td>\n",
       "      <td>1682.000000</td>\n",
       "      <td>1682.000000</td>\n",
       "      <td>1682.000000</td>\n",
       "    </tr>\n",
       "    <tr>\n",
       "      <th>unique</th>\n",
       "      <td>NaN</td>\n",
       "      <td>1664</td>\n",
       "      <td>240</td>\n",
       "      <td>NaN</td>\n",
       "      <td>1660</td>\n",
       "      <td>NaN</td>\n",
       "      <td>NaN</td>\n",
       "      <td>NaN</td>\n",
       "      <td>NaN</td>\n",
       "      <td>NaN</td>\n",
       "      <td>...</td>\n",
       "      <td>NaN</td>\n",
       "      <td>NaN</td>\n",
       "      <td>NaN</td>\n",
       "      <td>NaN</td>\n",
       "      <td>NaN</td>\n",
       "      <td>NaN</td>\n",
       "      <td>NaN</td>\n",
       "      <td>NaN</td>\n",
       "      <td>NaN</td>\n",
       "      <td>NaN</td>\n",
       "    </tr>\n",
       "    <tr>\n",
       "      <th>top</th>\n",
       "      <td>NaN</td>\n",
       "      <td>Money Talks (1997)</td>\n",
       "      <td>01-Jan-1995</td>\n",
       "      <td>NaN</td>\n",
       "      <td>http://us.imdb.com/Title?Sliding+Doors+(1998)</td>\n",
       "      <td>NaN</td>\n",
       "      <td>NaN</td>\n",
       "      <td>NaN</td>\n",
       "      <td>NaN</td>\n",
       "      <td>NaN</td>\n",
       "      <td>...</td>\n",
       "      <td>NaN</td>\n",
       "      <td>NaN</td>\n",
       "      <td>NaN</td>\n",
       "      <td>NaN</td>\n",
       "      <td>NaN</td>\n",
       "      <td>NaN</td>\n",
       "      <td>NaN</td>\n",
       "      <td>NaN</td>\n",
       "      <td>NaN</td>\n",
       "      <td>NaN</td>\n",
       "    </tr>\n",
       "    <tr>\n",
       "      <th>freq</th>\n",
       "      <td>NaN</td>\n",
       "      <td>2</td>\n",
       "      <td>215</td>\n",
       "      <td>NaN</td>\n",
       "      <td>2</td>\n",
       "      <td>NaN</td>\n",
       "      <td>NaN</td>\n",
       "      <td>NaN</td>\n",
       "      <td>NaN</td>\n",
       "      <td>NaN</td>\n",
       "      <td>...</td>\n",
       "      <td>NaN</td>\n",
       "      <td>NaN</td>\n",
       "      <td>NaN</td>\n",
       "      <td>NaN</td>\n",
       "      <td>NaN</td>\n",
       "      <td>NaN</td>\n",
       "      <td>NaN</td>\n",
       "      <td>NaN</td>\n",
       "      <td>NaN</td>\n",
       "      <td>NaN</td>\n",
       "    </tr>\n",
       "    <tr>\n",
       "      <th>mean</th>\n",
       "      <td>841.500000</td>\n",
       "      <td>NaN</td>\n",
       "      <td>NaN</td>\n",
       "      <td>NaN</td>\n",
       "      <td>NaN</td>\n",
       "      <td>0.001189</td>\n",
       "      <td>0.149227</td>\n",
       "      <td>0.080262</td>\n",
       "      <td>0.024970</td>\n",
       "      <td>0.072533</td>\n",
       "      <td>...</td>\n",
       "      <td>0.01308</td>\n",
       "      <td>0.014269</td>\n",
       "      <td>0.054697</td>\n",
       "      <td>0.033294</td>\n",
       "      <td>0.036266</td>\n",
       "      <td>0.146849</td>\n",
       "      <td>0.060048</td>\n",
       "      <td>0.149227</td>\n",
       "      <td>0.042212</td>\n",
       "      <td>0.016052</td>\n",
       "    </tr>\n",
       "    <tr>\n",
       "      <th>std</th>\n",
       "      <td>485.695893</td>\n",
       "      <td>NaN</td>\n",
       "      <td>NaN</td>\n",
       "      <td>NaN</td>\n",
       "      <td>NaN</td>\n",
       "      <td>0.034473</td>\n",
       "      <td>0.356418</td>\n",
       "      <td>0.271779</td>\n",
       "      <td>0.156081</td>\n",
       "      <td>0.259445</td>\n",
       "      <td>...</td>\n",
       "      <td>0.11365</td>\n",
       "      <td>0.118632</td>\n",
       "      <td>0.227455</td>\n",
       "      <td>0.179456</td>\n",
       "      <td>0.187008</td>\n",
       "      <td>0.354061</td>\n",
       "      <td>0.237646</td>\n",
       "      <td>0.356418</td>\n",
       "      <td>0.201131</td>\n",
       "      <td>0.125714</td>\n",
       "    </tr>\n",
       "    <tr>\n",
       "      <th>min</th>\n",
       "      <td>1.000000</td>\n",
       "      <td>NaN</td>\n",
       "      <td>NaN</td>\n",
       "      <td>NaN</td>\n",
       "      <td>NaN</td>\n",
       "      <td>0.000000</td>\n",
       "      <td>0.000000</td>\n",
       "      <td>0.000000</td>\n",
       "      <td>0.000000</td>\n",
       "      <td>0.000000</td>\n",
       "      <td>...</td>\n",
       "      <td>0.00000</td>\n",
       "      <td>0.000000</td>\n",
       "      <td>0.000000</td>\n",
       "      <td>0.000000</td>\n",
       "      <td>0.000000</td>\n",
       "      <td>0.000000</td>\n",
       "      <td>0.000000</td>\n",
       "      <td>0.000000</td>\n",
       "      <td>0.000000</td>\n",
       "      <td>0.000000</td>\n",
       "    </tr>\n",
       "    <tr>\n",
       "      <th>25%</th>\n",
       "      <td>421.250000</td>\n",
       "      <td>NaN</td>\n",
       "      <td>NaN</td>\n",
       "      <td>NaN</td>\n",
       "      <td>NaN</td>\n",
       "      <td>0.000000</td>\n",
       "      <td>0.000000</td>\n",
       "      <td>0.000000</td>\n",
       "      <td>0.000000</td>\n",
       "      <td>0.000000</td>\n",
       "      <td>...</td>\n",
       "      <td>0.00000</td>\n",
       "      <td>0.000000</td>\n",
       "      <td>0.000000</td>\n",
       "      <td>0.000000</td>\n",
       "      <td>0.000000</td>\n",
       "      <td>0.000000</td>\n",
       "      <td>0.000000</td>\n",
       "      <td>0.000000</td>\n",
       "      <td>0.000000</td>\n",
       "      <td>0.000000</td>\n",
       "    </tr>\n",
       "    <tr>\n",
       "      <th>50%</th>\n",
       "      <td>841.500000</td>\n",
       "      <td>NaN</td>\n",
       "      <td>NaN</td>\n",
       "      <td>NaN</td>\n",
       "      <td>NaN</td>\n",
       "      <td>0.000000</td>\n",
       "      <td>0.000000</td>\n",
       "      <td>0.000000</td>\n",
       "      <td>0.000000</td>\n",
       "      <td>0.000000</td>\n",
       "      <td>...</td>\n",
       "      <td>0.00000</td>\n",
       "      <td>0.000000</td>\n",
       "      <td>0.000000</td>\n",
       "      <td>0.000000</td>\n",
       "      <td>0.000000</td>\n",
       "      <td>0.000000</td>\n",
       "      <td>0.000000</td>\n",
       "      <td>0.000000</td>\n",
       "      <td>0.000000</td>\n",
       "      <td>0.000000</td>\n",
       "    </tr>\n",
       "    <tr>\n",
       "      <th>75%</th>\n",
       "      <td>1261.750000</td>\n",
       "      <td>NaN</td>\n",
       "      <td>NaN</td>\n",
       "      <td>NaN</td>\n",
       "      <td>NaN</td>\n",
       "      <td>0.000000</td>\n",
       "      <td>0.000000</td>\n",
       "      <td>0.000000</td>\n",
       "      <td>0.000000</td>\n",
       "      <td>0.000000</td>\n",
       "      <td>...</td>\n",
       "      <td>0.00000</td>\n",
       "      <td>0.000000</td>\n",
       "      <td>0.000000</td>\n",
       "      <td>0.000000</td>\n",
       "      <td>0.000000</td>\n",
       "      <td>0.000000</td>\n",
       "      <td>0.000000</td>\n",
       "      <td>0.000000</td>\n",
       "      <td>0.000000</td>\n",
       "      <td>0.000000</td>\n",
       "    </tr>\n",
       "    <tr>\n",
       "      <th>max</th>\n",
       "      <td>1682.000000</td>\n",
       "      <td>NaN</td>\n",
       "      <td>NaN</td>\n",
       "      <td>NaN</td>\n",
       "      <td>NaN</td>\n",
       "      <td>1.000000</td>\n",
       "      <td>1.000000</td>\n",
       "      <td>1.000000</td>\n",
       "      <td>1.000000</td>\n",
       "      <td>1.000000</td>\n",
       "      <td>...</td>\n",
       "      <td>1.00000</td>\n",
       "      <td>1.000000</td>\n",
       "      <td>1.000000</td>\n",
       "      <td>1.000000</td>\n",
       "      <td>1.000000</td>\n",
       "      <td>1.000000</td>\n",
       "      <td>1.000000</td>\n",
       "      <td>1.000000</td>\n",
       "      <td>1.000000</td>\n",
       "      <td>1.000000</td>\n",
       "    </tr>\n",
       "  </tbody>\n",
       "</table>\n",
       "<p>11 rows × 24 columns</p>\n",
       "</div>"
      ],
      "text/plain": [
       "                 id               title      rl_date  vrl_date  \\\n",
       "count   1682.000000                1682         1681       0.0   \n",
       "unique          NaN                1664          240       NaN   \n",
       "top             NaN  Money Talks (1997)  01-Jan-1995       NaN   \n",
       "freq            NaN                   2          215       NaN   \n",
       "mean     841.500000                 NaN          NaN       NaN   \n",
       "std      485.695893                 NaN          NaN       NaN   \n",
       "min        1.000000                 NaN          NaN       NaN   \n",
       "25%      421.250000                 NaN          NaN       NaN   \n",
       "50%      841.500000                 NaN          NaN       NaN   \n",
       "75%     1261.750000                 NaN          NaN       NaN   \n",
       "max     1682.000000                 NaN          NaN       NaN   \n",
       "\n",
       "                                                  url      unknown  \\\n",
       "count                                            1679  1682.000000   \n",
       "unique                                           1660          NaN   \n",
       "top     http://us.imdb.com/Title?Sliding+Doors+(1998)          NaN   \n",
       "freq                                                2          NaN   \n",
       "mean                                              NaN     0.001189   \n",
       "std                                               NaN     0.034473   \n",
       "min                                               NaN     0.000000   \n",
       "25%                                               NaN     0.000000   \n",
       "50%                                               NaN     0.000000   \n",
       "75%                                               NaN     0.000000   \n",
       "max                                               NaN     1.000000   \n",
       "\n",
       "             Action    Adventure    Animation   Children's     ...       \\\n",
       "count   1682.000000  1682.000000  1682.000000  1682.000000     ...        \n",
       "unique          NaN          NaN          NaN          NaN     ...        \n",
       "top             NaN          NaN          NaN          NaN     ...        \n",
       "freq            NaN          NaN          NaN          NaN     ...        \n",
       "mean       0.149227     0.080262     0.024970     0.072533     ...        \n",
       "std        0.356418     0.271779     0.156081     0.259445     ...        \n",
       "min        0.000000     0.000000     0.000000     0.000000     ...        \n",
       "25%        0.000000     0.000000     0.000000     0.000000     ...        \n",
       "50%        0.000000     0.000000     0.000000     0.000000     ...        \n",
       "75%        0.000000     0.000000     0.000000     0.000000     ...        \n",
       "max        1.000000     1.000000     1.000000     1.000000     ...        \n",
       "\n",
       "           Fantasy    Film-Noir       Horror      Musical      Mystery  \\\n",
       "count   1682.00000  1682.000000  1682.000000  1682.000000  1682.000000   \n",
       "unique         NaN          NaN          NaN          NaN          NaN   \n",
       "top            NaN          NaN          NaN          NaN          NaN   \n",
       "freq           NaN          NaN          NaN          NaN          NaN   \n",
       "mean       0.01308     0.014269     0.054697     0.033294     0.036266   \n",
       "std        0.11365     0.118632     0.227455     0.179456     0.187008   \n",
       "min        0.00000     0.000000     0.000000     0.000000     0.000000   \n",
       "25%        0.00000     0.000000     0.000000     0.000000     0.000000   \n",
       "50%        0.00000     0.000000     0.000000     0.000000     0.000000   \n",
       "75%        0.00000     0.000000     0.000000     0.000000     0.000000   \n",
       "max        1.00000     1.000000     1.000000     1.000000     1.000000   \n",
       "\n",
       "            Romance       Sci-Fi     Thriller          War      Western  \n",
       "count   1682.000000  1682.000000  1682.000000  1682.000000  1682.000000  \n",
       "unique          NaN          NaN          NaN          NaN          NaN  \n",
       "top             NaN          NaN          NaN          NaN          NaN  \n",
       "freq            NaN          NaN          NaN          NaN          NaN  \n",
       "mean       0.146849     0.060048     0.149227     0.042212     0.016052  \n",
       "std        0.354061     0.237646     0.356418     0.201131     0.125714  \n",
       "min        0.000000     0.000000     0.000000     0.000000     0.000000  \n",
       "25%        0.000000     0.000000     0.000000     0.000000     0.000000  \n",
       "50%        0.000000     0.000000     0.000000     0.000000     0.000000  \n",
       "75%        0.000000     0.000000     0.000000     0.000000     0.000000  \n",
       "max        1.000000     1.000000     1.000000     1.000000     1.000000  \n",
       "\n",
       "[11 rows x 24 columns]"
      ]
     },
     "execution_count": 11,
     "metadata": {},
     "output_type": "execute_result"
    }
   ],
   "source": [
    "# Movie data overview\n",
    "movies.describe(include=\"all\")"
   ]
  },
  {
   "cell_type": "code",
   "execution_count": 12,
   "metadata": {
    "collapsed": false
   },
   "outputs": [
    {
     "name": "stdout",
     "output_type": "stream",
     "text": [
      "   user  movie  rating  timestamp\n",
      "0   196    242       3  881250949\n",
      "1   186    302       3  891717742\n",
      "2    22    377       1  878887116\n",
      "3   244     51       2  880606923\n",
      "4   166    346       1  886397596\n"
     ]
    },
    {
     "data": {
      "text/html": [
       "<div>\n",
       "<table border=\"1\" class=\"dataframe\">\n",
       "  <thead>\n",
       "    <tr style=\"text-align: right;\">\n",
       "      <th></th>\n",
       "      <th>user</th>\n",
       "      <th>movie</th>\n",
       "      <th>rating</th>\n",
       "      <th>timestamp</th>\n",
       "    </tr>\n",
       "  </thead>\n",
       "  <tbody>\n",
       "    <tr>\n",
       "      <th>count</th>\n",
       "      <td>100000.00000</td>\n",
       "      <td>100000.000000</td>\n",
       "      <td>100000.000000</td>\n",
       "      <td>1.000000e+05</td>\n",
       "    </tr>\n",
       "    <tr>\n",
       "      <th>mean</th>\n",
       "      <td>462.48475</td>\n",
       "      <td>425.530130</td>\n",
       "      <td>3.529860</td>\n",
       "      <td>8.835289e+08</td>\n",
       "    </tr>\n",
       "    <tr>\n",
       "      <th>std</th>\n",
       "      <td>266.61442</td>\n",
       "      <td>330.798356</td>\n",
       "      <td>1.125674</td>\n",
       "      <td>5.343856e+06</td>\n",
       "    </tr>\n",
       "    <tr>\n",
       "      <th>min</th>\n",
       "      <td>1.00000</td>\n",
       "      <td>1.000000</td>\n",
       "      <td>1.000000</td>\n",
       "      <td>8.747247e+08</td>\n",
       "    </tr>\n",
       "    <tr>\n",
       "      <th>25%</th>\n",
       "      <td>254.00000</td>\n",
       "      <td>175.000000</td>\n",
       "      <td>3.000000</td>\n",
       "      <td>8.794487e+08</td>\n",
       "    </tr>\n",
       "    <tr>\n",
       "      <th>50%</th>\n",
       "      <td>447.00000</td>\n",
       "      <td>322.000000</td>\n",
       "      <td>4.000000</td>\n",
       "      <td>8.828269e+08</td>\n",
       "    </tr>\n",
       "    <tr>\n",
       "      <th>75%</th>\n",
       "      <td>682.00000</td>\n",
       "      <td>631.000000</td>\n",
       "      <td>4.000000</td>\n",
       "      <td>8.882600e+08</td>\n",
       "    </tr>\n",
       "    <tr>\n",
       "      <th>max</th>\n",
       "      <td>943.00000</td>\n",
       "      <td>1682.000000</td>\n",
       "      <td>5.000000</td>\n",
       "      <td>8.932866e+08</td>\n",
       "    </tr>\n",
       "  </tbody>\n",
       "</table>\n",
       "</div>"
      ],
      "text/plain": [
       "               user          movie         rating     timestamp\n",
       "count  100000.00000  100000.000000  100000.000000  1.000000e+05\n",
       "mean      462.48475     425.530130       3.529860  8.835289e+08\n",
       "std       266.61442     330.798356       1.125674  5.343856e+06\n",
       "min         1.00000       1.000000       1.000000  8.747247e+08\n",
       "25%       254.00000     175.000000       3.000000  8.794487e+08\n",
       "50%       447.00000     322.000000       4.000000  8.828269e+08\n",
       "75%       682.00000     631.000000       4.000000  8.882600e+08\n",
       "max       943.00000    1682.000000       5.000000  8.932866e+08"
      ]
     },
     "execution_count": 12,
     "metadata": {},
     "output_type": "execute_result"
    }
   ],
   "source": [
    "# Rating data overview\n",
    "print ratings.head(5)\n",
    "ratings.describe(include=\"all\")"
   ]
  },
  {
   "cell_type": "code",
   "execution_count": 13,
   "metadata": {
    "collapsed": false
   },
   "outputs": [
    {
     "data": {
      "image/png": "[encoded data removed]",
      "text/plain": [
       "<matplotlib.figure.Figure at 0xb050e10>"
      ]
     },
     "metadata": {},
     "output_type": "display_data"
    }
   ],
   "source": [
    "# Distribution of movie ratings(for different movies)\n",
    "plt.hist(ratings[\"rating\"])\n",
    "plt.xlabel(\"Rating\")\n",
    "plt.ylabel(\"Count\")\n",
    "plt.show()"
   ]
  },
  {
   "cell_type": "code",
   "execution_count": 14,
   "metadata": {
    "collapsed": false
   },
   "outputs": [
    {
     "name": "stdout",
     "output_type": "stream",
     "text": [
      "        genre  id\n",
      "0     unknown   0\n",
      "1      Action   1\n",
      "2   Adventure   2\n",
      "3   Animation   3\n",
      "4  Children's   4\n"
     ]
    },
    {
     "data": {
      "text/html": [
       "<div>\n",
       "<table border=\"1\" class=\"dataframe\">\n",
       "  <thead>\n",
       "    <tr style=\"text-align: right;\">\n",
       "      <th></th>\n",
       "      <th>genre</th>\n",
       "      <th>id</th>\n",
       "    </tr>\n",
       "  </thead>\n",
       "  <tbody>\n",
       "    <tr>\n",
       "      <th>count</th>\n",
       "      <td>19</td>\n",
       "      <td>19.000000</td>\n",
       "    </tr>\n",
       "    <tr>\n",
       "      <th>unique</th>\n",
       "      <td>19</td>\n",
       "      <td>NaN</td>\n",
       "    </tr>\n",
       "    <tr>\n",
       "      <th>top</th>\n",
       "      <td>Thriller</td>\n",
       "      <td>NaN</td>\n",
       "    </tr>\n",
       "    <tr>\n",
       "      <th>freq</th>\n",
       "      <td>1</td>\n",
       "      <td>NaN</td>\n",
       "    </tr>\n",
       "    <tr>\n",
       "      <th>mean</th>\n",
       "      <td>NaN</td>\n",
       "      <td>9.000000</td>\n",
       "    </tr>\n",
       "    <tr>\n",
       "      <th>std</th>\n",
       "      <td>NaN</td>\n",
       "      <td>5.627314</td>\n",
       "    </tr>\n",
       "    <tr>\n",
       "      <th>min</th>\n",
       "      <td>NaN</td>\n",
       "      <td>0.000000</td>\n",
       "    </tr>\n",
       "    <tr>\n",
       "      <th>25%</th>\n",
       "      <td>NaN</td>\n",
       "      <td>4.500000</td>\n",
       "    </tr>\n",
       "    <tr>\n",
       "      <th>50%</th>\n",
       "      <td>NaN</td>\n",
       "      <td>9.000000</td>\n",
       "    </tr>\n",
       "    <tr>\n",
       "      <th>75%</th>\n",
       "      <td>NaN</td>\n",
       "      <td>13.500000</td>\n",
       "    </tr>\n",
       "    <tr>\n",
       "      <th>max</th>\n",
       "      <td>NaN</td>\n",
       "      <td>18.000000</td>\n",
       "    </tr>\n",
       "  </tbody>\n",
       "</table>\n",
       "</div>"
      ],
      "text/plain": [
       "           genre         id\n",
       "count         19  19.000000\n",
       "unique        19        NaN\n",
       "top     Thriller        NaN\n",
       "freq           1        NaN\n",
       "mean         NaN   9.000000\n",
       "std          NaN   5.627314\n",
       "min          NaN   0.000000\n",
       "25%          NaN   4.500000\n",
       "50%          NaN   9.000000\n",
       "75%          NaN  13.500000\n",
       "max          NaN  18.000000"
      ]
     },
     "execution_count": 14,
     "metadata": {},
     "output_type": "execute_result"
    }
   ],
   "source": [
    "# Genres of movie\n",
    "print genres.head(5)\n",
    "genres.describe(include=\"all\")"
   ]
  },
  {
   "cell_type": "code",
   "execution_count": 15,
   "metadata": {
    "collapsed": false
   },
   "outputs": [],
   "source": [
    "# Section 2:  Correlation analysis"
   ]
  },
  {
   "cell_type": "code",
   "execution_count": 16,
   "metadata": {
    "collapsed": false
   },
   "outputs": [],
   "source": [
    "# Function that returns a Pandas dataframe which contains \"user age\" vs \"rating\"\n",
    "# for a specific genre. \n",
    "def get_age_rating(genre, users, movies, ratings):\n",
    "    columns = ['Age','Rating']\n",
    "    df = pd.DataFrame(columns = columns)\n",
    "    i = 0\n",
    "    for j in range(0, len(ratings)):\n",
    "        user_id = ratings['user'][j]\n",
    "        movie_id = ratings['movie'][j]\n",
    "        if movies[genre][movie_id - 1] == 1:\n",
    "            df.loc[i] = [users['age'][user_id - 1], ratings['rating'][j]]\n",
    "            i += 1\n",
    "    return df"
   ]
  },
  {
   "cell_type": "code",
   "execution_count": 17,
   "metadata": {
    "collapsed": false
   },
   "outputs": [
    {
     "name": "stdout",
     "output_type": "stream",
     "text": [
      "Action\n",
      "             Age    Rating\n",
      "Age     1.000000  0.035673\n",
      "Rating  0.035673  1.000000\n",
      "--------------------------\n",
      "Adventure\n",
      "            Age   Rating\n",
      "Age     1.00000  0.03925\n",
      "Rating  0.03925  1.00000\n",
      "--------------------------\n",
      "Animation\n",
      "             Age    Rating\n",
      "Age     1.000000  0.005057\n",
      "Rating  0.005057  1.000000\n",
      "--------------------------\n",
      "Children's\n",
      "             Age    Rating\n",
      "Age     1.000000  0.030133\n",
      "Rating  0.030133  1.000000\n",
      "--------------------------\n",
      "Comedy\n",
      "             Age    Rating\n",
      "Age     1.000000  0.052634\n",
      "Rating  0.052634  1.000000\n",
      "--------------------------\n",
      "Crime\n",
      "             Age    Rating\n",
      "Age     1.000000  0.020069\n",
      "Rating  0.020069  1.000000\n",
      "--------------------------\n",
      "Documentary\n",
      "             Age    Rating\n",
      "Age     1.000000 -0.007683\n",
      "Rating -0.007683  1.000000\n",
      "--------------------------\n",
      "Drama\n",
      "             Age    Rating\n",
      "Age     1.000000  0.041616\n",
      "Rating  0.041616  1.000000\n",
      "--------------------------\n",
      "Fantasy\n",
      "             Age    Rating\n",
      "Age     1.000000  0.146741\n",
      "Rating  0.146741  1.000000\n",
      "--------------------------\n",
      "Film-Noir\n",
      "             Age    Rating\n",
      "Age     1.000000  0.104744\n",
      "Rating  0.104744  1.000000\n",
      "--------------------------\n",
      "Horror\n",
      "             Age    Rating\n",
      "Age     1.000000 -0.017859\n",
      "Rating -0.017859  1.000000\n",
      "--------------------------\n",
      "Musical\n",
      "             Age    Rating\n",
      "Age     1.000000  0.025923\n",
      "Rating  0.025923  1.000000\n",
      "--------------------------\n",
      "Mystery\n",
      "             Age    Rating\n",
      "Age     1.000000  0.101262\n",
      "Rating  0.101262  1.000000\n",
      "--------------------------\n",
      "Romance\n",
      "             Age    Rating\n",
      "Age     1.000000  0.020334\n",
      "Rating  0.020334  1.000000\n",
      "--------------------------\n",
      "Sci-Fi\n",
      "             Age    Rating\n",
      "Age     1.000000  0.021867\n",
      "Rating  0.021867  1.000000\n",
      "--------------------------\n",
      "Thriller\n",
      "             Age    Rating\n",
      "Age     1.000000  0.046285\n",
      "Rating  0.046285  1.000000\n",
      "--------------------------\n",
      "War\n",
      "             Age    Rating\n",
      "Age     1.000000  0.043382\n",
      "Rating  0.043382  1.000000\n",
      "--------------------------\n",
      "Western\n",
      "             Age    Rating\n",
      "Age     1.000000  0.131142\n",
      "Rating  0.131142  1.000000\n",
      "--------------------------\n"
     ]
    }
   ],
   "source": [
    "# Try to compute correlation between \"user age\" and \"rating\" for every genre\n",
    "for g in range (0, len(genres)):\n",
    "    genre = genres['genre'][g]\n",
    "    if genre == 'unknown': continue\n",
    "    df = get_age_rating(genre, users, movies, ratings)\n",
    "    print genre\n",
    "    print df.corr()\n",
    "    print \"--------------------------\""
   ]
  },
  {
   "cell_type": "code",
   "execution_count": 18,
   "metadata": {
    "collapsed": true
   },
   "outputs": [],
   "source": [
    "# Observations:\n",
    "# 1. The correlations between \"user age\" and \"rating\" across every genre is not strong.\n",
    "# 2. Genres with highest correlations are:\n",
    "#    \"Fantasy\":   0.147\n",
    "#    \"Western\":   0.131\n",
    "#    \"Film-Noir\": 0.105\n",
    "# That means the elder the user, the more they love Fantasy, Western and Film-Noir movies.\n",
    "# 3. Another interesting finding is elder user tend to give higher ratings because most\n",
    "#    of the correlations are possitive numbers except for Documentary and Horror genres."
   ]
  },
  {
   "cell_type": "code",
   "execution_count": 20,
   "metadata": {
    "collapsed": false
   },
   "outputs": [],
   "source": [
    "genre = 'Fantasy'\n",
    "df = get_age_rating(genre, users, movies, ratings)"
   ]
  },
  {
   "cell_type": "code",
   "execution_count": 21,
   "metadata": {
    "collapsed": false
   },
   "outputs": [
    {
     "data": {
      "text/plain": [
       "<matplotlib.axes._subplots.AxesSubplot at 0xb5aa400>"
      ]
     },
     "execution_count": 21,
     "metadata": {},
     "output_type": "execute_result"
    },
    {
     "data": {
      "image/png": "[encoded data removed]",
      "text/plain": [
       "<matplotlib.figure.Figure at 0xb487ac8>"
      ]
     },
     "metadata": {},
     "output_type": "display_data"
    }
   ],
   "source": [
    "df.plot(x=\"Age\", y=\"Rating\", kind=\"scatter\")"
   ]
  },
  {
   "cell_type": "code",
   "execution_count": 22,
   "metadata": {
    "collapsed": true
   },
   "outputs": [],
   "source": [
    "# As we can see, lower ratings to Fantasy movies were mostly given by young users."
   ]
  },
  {
   "cell_type": "code",
   "execution_count": 23,
   "metadata": {
    "collapsed": true
   },
   "outputs": [],
   "source": [
    "# Section 3: Classification and Prediction\n",
    "\n",
    "# Try to experiment the movie data set with various classifiers\n",
    "# The idea is to generate a user to movie_rating matrix and use\n",
    "# it to find similiar users/groups to a given user. Then try to\n",
    "# guess user's occupation."
   ]
  },
  {
   "cell_type": "code",
   "execution_count": 24,
   "metadata": {
    "collapsed": false
   },
   "outputs": [
    {
     "data": {
      "text/plain": [
       "(943L, 1682L)"
      ]
     },
     "execution_count": 24,
     "metadata": {},
     "output_type": "execute_result"
    }
   ],
   "source": [
    "# Generate user to movie_rating matrix.\n",
    "UR = np.zeros((len(users), len(movies)))\n",
    "UR.shape"
   ]
  },
  {
   "cell_type": "code",
   "execution_count": 25,
   "metadata": {
    "collapsed": false
   },
   "outputs": [],
   "source": [
    "for i in range(len(ratings)):\n",
    "    user_id = ratings['user'][i]\n",
    "    movie_id = ratings['movie'][i]\n",
    "    rating = ratings['rating'][i]\n",
    "    UR[user_id - 1][movie_id - 1] = rating"
   ]
  },
  {
   "cell_type": "code",
   "execution_count": 26,
   "metadata": {
    "collapsed": false
   },
   "outputs": [
    {
     "data": {
      "text/plain": [
       "3.0"
      ]
     },
     "execution_count": 26,
     "metadata": {},
     "output_type": "execute_result"
    }
   ],
   "source": [
    "UR[195, 241]"
   ]
  },
  {
   "cell_type": "code",
   "execution_count": 27,
   "metadata": {
    "collapsed": false
   },
   "outputs": [],
   "source": [
    "# Occupation as the target\n",
    "UR_target = np.genfromtxt(\"u.user\", delimiter=\"|\", usecols=(3), dtype=('|S13'))"
   ]
  },
  {
   "cell_type": "code",
   "execution_count": 28,
   "metadata": {
    "collapsed": false
   },
   "outputs": [
    {
     "data": {
      "text/plain": [
       "array(['technician', 'other', 'writer', 'technician', 'other', 'executive',\n",
       "       'administrator', 'administrator', 'student', 'lawyer'], \n",
       "      dtype='|S13')"
      ]
     },
     "execution_count": 28,
     "metadata": {},
     "output_type": "execute_result"
    }
   ],
   "source": [
    "UR_target[:10]"
   ]
  },
  {
   "cell_type": "code",
   "execution_count": 29,
   "metadata": {
    "collapsed": false
   },
   "outputs": [],
   "source": [
    "# Split to 80% 20% train and test data sets\n",
    "from sklearn.cross_validation import train_test_split\n",
    "UR_train, UR_test, UR_target_train, UR_target_test = train_test_split(UR, UR_target, test_size=0.2, random_state=33)"
   ]
  },
  {
   "cell_type": "code",
   "execution_count": 30,
   "metadata": {
    "collapsed": false
   },
   "outputs": [
    {
     "name": "stdout",
     "output_type": "stream",
     "text": [
      "(754L, 1682L) (189L, 1682L)\n",
      "[[ 0.  0.  0. ...,  0.  0.  0.]\n",
      " [ 4.  2.  2. ...,  0.  0.  0.]\n",
      " [ 4.  0.  0. ...,  0.  0.  0.]]\n"
     ]
    }
   ],
   "source": [
    "print UR_train.shape, UR_test.shape\n",
    "print UR_test[0:3]"
   ]
  },
  {
   "cell_type": "code",
   "execution_count": 31,
   "metadata": {
    "collapsed": true
   },
   "outputs": [],
   "source": [
    "# Create our own KNN classifier. It allows input the training data matrix, the training labels, \n",
    "# the user to be classified, the value of K, and returns the predicted occupation for the user\n",
    "# and the top K neighbors. It works with Euclidean distance as well as Cosine Similarity.\n",
    "from numpy import *\n",
    "import operator\n",
    "def classify(inX, dataSet, labels, k, distance):\n",
    "    if distance == 'Euclidean':\n",
    "        dataSetSize = dataSet.shape[0]\n",
    "        diffMat = tile(inX, (dataSetSize,1)) - dataSet\n",
    "        sqDiffMat = diffMat**2\n",
    "        sqDistances = sqDiffMat.sum(axis=1)\n",
    "        distances = sqDistances**0.5\n",
    "    elif distance == 'Cosine':\n",
    "        D_norm = array([linalg.norm(dataSet[i]) for i in range(len(dataSet))])\n",
    "        x_norm = linalg.norm(inX)\n",
    "        sims = dot(dataSet,inX)/(D_norm * x_norm)\n",
    "        distances = 1 - sims\n",
    "    else:\n",
    "        return '', 0\n",
    "    idx = np.argsort(distances)\n",
    "    classCount={}\n",
    "    for i in range(k):\n",
    "        votelabel = labels[idx[i]]\n",
    "        classCount[votelabel] = classCount.get(votelabel,0) + 1\n",
    "    sortedClassCount = sorted(classCount.iteritems(), key=operator.itemgetter(1), reverse=True)\n",
    "    return sortedClassCount[0][0], idx[0:k]"
   ]
  },
  {
   "cell_type": "code",
   "execution_count": 32,
   "metadata": {
    "collapsed": false
   },
   "outputs": [],
   "source": [
    "# Create a function to compute the classification accuracy over the test data set\n",
    "# (ratio of correct predictions to the number of test instances). This function\n",
    "# will call the classifier function on all the test instances and in each case\n",
    "# compares the actual test class label to the predicted class label.\n",
    "def accuracy(testDataSet, testLabelsSet, trainDataSet, trainLabelsSet, k, distance):\n",
    "    crctNum = 0.0\n",
    "    for idx in range(testDataSet.shape[0]):\n",
    "        label, topK = classify(testDataSet[idx], trainDataSet, trainLabelsSet, k, distance)\n",
    "        if(label == testLabelsSet[idx]):\n",
    "            crctNum += 1.0\n",
    "    return crctNum/testDataSet.shape[0]"
   ]
  },
  {
   "cell_type": "code",
   "execution_count": 32,
   "metadata": {
    "collapsed": false
   },
   "outputs": [],
   "source": [
    "# Run the accuracy function on a range of values for K in order to compare accuracy\n",
    "# values for different numbers of neighbors. Do this both using Euclidean Distance\n",
    "# as well as Cosine similarity measure. Try to evaluating our classifiers on a range\n",
    "# of values of K from 1 through 201 and present the results as a table or a graph."
   ]
  },
  {
   "cell_type": "code",
   "execution_count": 33,
   "metadata": {
    "collapsed": false
   },
   "outputs": [
    {
     "name": "stdout",
     "output_type": "stream",
     "text": [
      "[0.09523809523809523, 0.09523809523809523, 0.14814814814814814, 0.19047619047619047, 0.2222222222222222, 0.24338624338624337, 0.23809523809523808, 0.24867724867724866, 0.2275132275132275, 0.2222222222222222, 0.2222222222222222, 0.23809523809523808, 0.2275132275132275, 0.2328042328042328, 0.2328042328042328, 0.2328042328042328, 0.2328042328042328, 0.2328042328042328, 0.2328042328042328, 0.2328042328042328]\n"
     ]
    }
   ],
   "source": [
    "accuEuclidean = [accuracy(UR_test, UR_target_test, UR_train, UR_target, k, 'Euclidean') for k in range(1,201,10)]\n",
    "print accuEuclidean"
   ]
  },
  {
   "cell_type": "code",
   "execution_count": 34,
   "metadata": {
    "collapsed": false
   },
   "outputs": [
    {
     "name": "stdout",
     "output_type": "stream",
     "text": [
      "[0.10582010582010581, 0.1693121693121693, 0.164021164021164, 0.21693121693121692, 0.2328042328042328, 0.2275132275132275, 0.2222222222222222, 0.23809523809523808, 0.2328042328042328, 0.2328042328042328, 0.2328042328042328, 0.2328042328042328, 0.2328042328042328, 0.2328042328042328, 0.2328042328042328, 0.2328042328042328, 0.2328042328042328, 0.2328042328042328, 0.2328042328042328, 0.2328042328042328]\n"
     ]
    }
   ],
   "source": [
    "accuCosine = [accuracy(UR_test, UR_target_test, UR_train, UR_target, k, 'Cosine') for k in range(1,201,10)]\n",
    "print accuCosine"
   ]
  },
  {
   "cell_type": "code",
   "execution_count": 35,
   "metadata": {
    "collapsed": false
   },
   "outputs": [
    {
     "data": {
      "image/png": "[encoded data removed]",
      "text/plain": [
       "<matplotlib.figure.Figure at 0xb0f1940>"
      ]
     },
     "metadata": {},
     "output_type": "display_data"
    }
   ],
   "source": [
    "%matplotlib inline\n",
    "X = np.array(range(1,201,10))\n",
    "plt.subplot(121)\n",
    "plt.plot(X, np.array((accuEuclidean)))\n",
    "plt.xlabel('K neighbours')\n",
    "plt.ylabel('Euclidean Accuracy')\n",
    "plt.subplot(122)\n",
    "plt.plot(X, np.array((accuCosine)))\n",
    "plt.xlabel('K neighbours')\n",
    "plt.ylabel('Cosine Accuracy')\n",
    "plt.show()"
   ]
  },
  {
   "cell_type": "code",
   "execution_count": 36,
   "metadata": {
    "collapsed": true
   },
   "outputs": [],
   "source": [
    "# Observation:\n",
    "# 1. When k=71, we get highest accuracy for both Euclidean and Cosine distance.\n",
    "# 2. This predictive model is not very good because the relationship between\n",
    "#    user's rating and his/her occcupation is not very strong."
   ]
  },
  {
   "cell_type": "code",
   "execution_count": 37,
   "metadata": {
    "collapsed": true
   },
   "outputs": [],
   "source": [
    "# Create a classifier based on the Rocchio Method. The classifier takes as input\n",
    "# the training data matrix, the training labels, and the user to be classified.\n",
    "# It computes the prototype vectors for each of the occupation and measure Cosine\n",
    "# similarity of the test instance to each prototype. The output includes the\n",
    "# predicted class and the similarity values of the instance to each of the occupation\n",
    "# prototypes.\n",
    "\n",
    "def Rocchio_classifier(inX, dataSet, labels):\n",
    "    classes = list(set(labels))\n",
    "    proto_vecs = {}\n",
    "    for i in range(len(classes)):\n",
    "        proto_vecs[classes[i]] = np.zeros(dataSet.shape[1])\n",
    "\n",
    "    for i in range(len(dataSet)):\n",
    "        proto_vecs[labels[i]] += dataSet[i]\n",
    "\n",
    "    maxSim = float(-2)\n",
    "    c = None\n",
    "    x_norm = np.linalg.norm(inX)\n",
    "    for i in range(len(classes)):\n",
    "        d_norm = np.linalg.norm(proto_vecs[classes[i]])\n",
    "        sim = np.dot(proto_vecs[classes[i]], inX) / (d_norm * x_norm)\n",
    "        if np.all(sim > maxSim):\n",
    "            maxSim = sim\n",
    "            c = classes[i]\n",
    "    return [c, maxSim]"
   ]
  },
  {
   "cell_type": "code",
   "execution_count": 38,
   "metadata": {
    "collapsed": true
   },
   "outputs": [],
   "source": [
    "# Compute the classification accuracy using the test instances.\n",
    "def accuracy2(testDataSet, testLabelsSet, trainDataSet, trainLabelsSet):\n",
    "    crctNum = 0.0\n",
    "    for i in range(len(testDataSet)):\n",
    "        result = Rocchio_classifier(testDataSet[i], trainDataSet, trainLabelsSet)[0]\n",
    "        if (result == testLabelsSet[i]):\n",
    "            crctNum += 1.0\n",
    "    return crctNum / testDataSet.shape[0]"
   ]
  },
  {
   "cell_type": "code",
   "execution_count": 39,
   "metadata": {
    "collapsed": false
   },
   "outputs": [
    {
     "data": {
      "text/plain": [
       "0.14285714285714285"
      ]
     },
     "execution_count": 39,
     "metadata": {},
     "output_type": "execute_result"
    }
   ],
   "source": [
    "accuracy2(UR_test, UR_target_test, UR_train, UR_target_train)"
   ]
  },
  {
   "cell_type": "code",
   "execution_count": 40,
   "metadata": {
    "collapsed": true
   },
   "outputs": [],
   "source": [
    "# Try scikit-learn's KNN classifier on the data set. Generate the confusion matrix\n",
    "# and visualize it using Matplotlib, as well as the classification report. Compute\n",
    "# the average accuracy score. Experiment with different values of K and the weight\n",
    "# parameter for KNN to see if we can improve accuracy."
   ]
  },
  {
   "cell_type": "code",
   "execution_count": 41,
   "metadata": {
    "collapsed": true
   },
   "outputs": [],
   "source": [
    "from sklearn import preprocessing"
   ]
  },
  {
   "cell_type": "code",
   "execution_count": 42,
   "metadata": {
    "collapsed": false
   },
   "outputs": [],
   "source": [
    "min_max_scaler = preprocessing.MinMaxScaler().fit(UR_train)\n",
    "UR_train_norm = min_max_scaler.transform(UR_train)\n",
    "UR_test_norm = min_max_scaler.transform(UR_test)"
   ]
  },
  {
   "cell_type": "code",
   "execution_count": 43,
   "metadata": {
    "collapsed": false
   },
   "outputs": [
    {
     "data": {
      "text/plain": [
       "array([[ 0. ,  0. ,  0. , ...,  0. ,  0. ,  0. ],\n",
       "       [ 0.8,  0.4,  0.4, ...,  0. ,  0. ,  0. ],\n",
       "       [ 0.8,  0. ,  0. , ...,  0. ,  0. ,  0. ],\n",
       "       ..., \n",
       "       [ 0.8,  0. ,  0. , ...,  0. ,  0. ,  0. ],\n",
       "       [ 0. ,  0. ,  0. , ...,  0. ,  0. ,  0. ],\n",
       "       [ 0. ,  0. ,  0. , ...,  0. ,  0. ,  0. ]])"
      ]
     },
     "execution_count": 43,
     "metadata": {},
     "output_type": "execute_result"
    }
   ],
   "source": [
    "UR_test_norm"
   ]
  },
  {
   "cell_type": "code",
   "execution_count": 44,
   "metadata": {
    "collapsed": true
   },
   "outputs": [],
   "source": [
    "from sklearn import neighbors, tree, naive_bayes"
   ]
  },
  {
   "cell_type": "code",
   "execution_count": 45,
   "metadata": {
    "collapsed": false
   },
   "outputs": [
    {
     "data": {
      "text/plain": [
       "KNeighborsClassifier(algorithm='auto', leaf_size=30, metric='minkowski',\n",
       "           metric_params=None, n_jobs=1, n_neighbors=70, p=2,\n",
       "           weights='distance')"
      ]
     },
     "execution_count": 45,
     "metadata": {},
     "output_type": "execute_result"
    }
   ],
   "source": [
    "n_neighbors = 70\n",
    "knnclf = neighbors.KNeighborsClassifier(n_neighbors, weights='distance')\n",
    "knnclf.fit(UR_train_norm, UR_target_train)"
   ]
  },
  {
   "cell_type": "code",
   "execution_count": 46,
   "metadata": {
    "collapsed": true
   },
   "outputs": [],
   "source": [
    "knnpreds_test = knnclf.predict(UR_test_norm)"
   ]
  },
  {
   "cell_type": "code",
   "execution_count": 47,
   "metadata": {
    "collapsed": false
   },
   "outputs": [
    {
     "name": "stdout",
     "output_type": "stream",
     "text": [
      "['student' 'student' 'educator' 'student' 'student' 'student' 'educator'\n",
      " 'student' 'student' 'student' 'student' 'educator' 'other' 'student'\n",
      " 'student' 'student' 'student' 'student' 'student' 'student' 'student'\n",
      " 'student' 'student' 'student' 'student' 'student' 'student' 'student'\n",
      " 'student' 'student' 'student' 'student' 'student' 'student' 'student'\n",
      " 'other' 'educator' 'student' 'student' 'student' 'programmer' 'student'\n",
      " 'educator' 'educator' 'student' 'student' 'other' 'student' 'engineer'\n",
      " 'student' 'educator' 'student' 'educator' 'student' 'student' 'student'\n",
      " 'student' 'student' 'student' 'educator' 'student' 'educator' 'student'\n",
      " 'student' 'student' 'student' 'educator' 'student' 'student' 'student'\n",
      " 'student' 'student' 'student' 'student' 'student' 'student' 'student'\n",
      " 'student' 'student' 'student' 'student' 'student' 'student' 'educator'\n",
      " 'student' 'educator' 'student' 'other' 'administrator' 'student'\n",
      " 'educator' 'educator' 'student' 'student' 'engineer' 'student' 'student'\n",
      " 'student' 'student' 'student' 'educator' 'student' 'student' 'student'\n",
      " 'student' 'student' 'student' 'educator' 'student' 'student'\n",
      " 'administrator' 'student' 'student' 'student' 'educator' 'educator'\n",
      " 'student' 'student' 'student' 'educator' 'student' 'educator' 'student'\n",
      " 'student' 'educator' 'administrator' 'programmer' 'student' 'student'\n",
      " 'student' 'student' 'educator' 'student' 'administrator' 'student'\n",
      " 'student' 'educator' 'student' 'student' 'student' 'student' 'student'\n",
      " 'student' 'student' 'student' 'student' 'educator' 'educator' 'student'\n",
      " 'student' 'student' 'programmer' 'student' 'educator' 'student' 'student'\n",
      " 'administrator' 'student' 'educator' 'educator' 'student' 'programmer'\n",
      " 'student' 'student' 'student' 'other' 'student' 'student' 'student'\n",
      " 'engineer' 'student' 'student' 'student' 'student' 'student' 'student'\n",
      " 'student' 'administrator' 'student' 'student' 'other' 'educator' 'student'\n",
      " 'student' 'educator' 'student' 'student' 'educator' 'student']\n"
     ]
    }
   ],
   "source": [
    "print knnpreds_test"
   ]
  },
  {
   "cell_type": "code",
   "execution_count": 48,
   "metadata": {
    "collapsed": true
   },
   "outputs": [],
   "source": [
    "from sklearn.metrics import classification_report"
   ]
  },
  {
   "cell_type": "code",
   "execution_count": 49,
   "metadata": {
    "collapsed": false
   },
   "outputs": [
    {
     "name": "stdout",
     "output_type": "stream",
     "text": [
      "             precision    recall  f1-score   support\n",
      "\n",
      "administrator       0.17      0.08      0.11        12\n",
      "     artist       0.00      0.00      0.00         7\n",
      "   educator       0.22      0.26      0.24        27\n",
      "   engineer       0.00      0.00      0.00        14\n",
      "  executive       0.00      0.00      0.00         7\n",
      " healthcare       0.00      0.00      0.00         2\n",
      "  homemaker       0.00      0.00      0.00         1\n",
      "     lawyer       0.00      0.00      0.00         1\n",
      "  librarian       0.00      0.00      0.00        12\n",
      "  marketing       0.00      0.00      0.00         4\n",
      "       none       0.00      0.00      0.00         2\n",
      "      other       0.00      0.00      0.00        21\n",
      " programmer       0.00      0.00      0.00        13\n",
      "    retired       0.00      0.00      0.00         3\n",
      "  scientist       0.00      0.00      0.00         5\n",
      "    student       0.28      0.89      0.43        44\n",
      " technician       0.00      0.00      0.00         4\n",
      "     writer       0.00      0.00      0.00        10\n",
      "\n",
      "avg / total       0.11      0.25      0.14       189\n",
      "\n"
     ]
    },
    {
     "name": "stderr",
     "output_type": "stream",
     "text": [
      "D:\\Anaconda2\\lib\\site-packages\\sklearn\\metrics\\classification.py:1074: UndefinedMetricWarning: Precision and F-score are ill-defined and being set to 0.0 in labels with no predicted samples.\n",
      "  'precision', 'predicted', average, warn_for)\n"
     ]
    }
   ],
   "source": [
    "print(classification_report(UR_target_test, knnpreds_test))"
   ]
  },
  {
   "cell_type": "code",
   "execution_count": 50,
   "metadata": {
    "collapsed": true
   },
   "outputs": [],
   "source": [
    "from sklearn.metrics import confusion_matrix"
   ]
  },
  {
   "cell_type": "code",
   "execution_count": 51,
   "metadata": {
    "collapsed": false
   },
   "outputs": [
    {
     "name": "stdout",
     "output_type": "stream",
     "text": [
      "[[ 1  0  1  1  0  0  0  0  0  0  0  0  1  0  0  8  0  0]\n",
      " [ 0  0  1  0  0  0  0  0  0  0  0  0  0  0  0  6  0  0]\n",
      " [ 2  0  7  1  0  0  0  0  0  0  0  1  0  0  0 16  0  0]\n",
      " [ 0  0  1  0  0  0  0  0  0  0  0  1  2  0  0 10  0  0]\n",
      " [ 0  0  0  0  0  0  0  0  0  0  0  1  0  0  0  6  0  0]\n",
      " [ 0  0  0  0  0  0  0  0  0  0  0  1  0  0  0  1  0  0]\n",
      " [ 0  0  0  0  0  0  0  0  0  0  0  0  0  0  0  1  0  0]\n",
      " [ 1  0  0  0  0  0  0  0  0  0  0  0  0  0  0  0  0  0]\n",
      " [ 0  0  5  0  0  0  0  0  0  0  0  0  0  0  0  7  0  0]\n",
      " [ 0  0  3  0  0  0  0  0  0  0  0  0  0  0  0  1  0  0]\n",
      " [ 0  0  0  0  0  0  0  0  0  0  0  0  0  0  0  2  0  0]\n",
      " [ 1  0  5  1  0  0  0  0  0  0  0  0  1  0  0 13  0  0]\n",
      " [ 0  0  0  0  0  0  0  0  0  0  0  1  0  0  0 12  0  0]\n",
      " [ 0  0  1  0  0  0  0  0  0  0  0  0  0  0  0  2  0  0]\n",
      " [ 0  0  1  0  0  0  0  0  0  0  0  0  0  0  0  4  0  0]\n",
      " [ 1  0  4  0  0  0  0  0  0  0  0  0  0  0  0 39  0  0]\n",
      " [ 0  0  0  0  0  0  0  0  0  0  0  0  0  0  0  4  0  0]\n",
      " [ 0  0  3  0  0  0  0  0  0  0  0  1  0  0  0  6  0  0]]\n"
     ]
    }
   ],
   "source": [
    "knncm = (confusion_matrix(UR_target_test, knnpreds_test))\n",
    "print knncm"
   ]
  },
  {
   "cell_type": "code",
   "execution_count": 52,
   "metadata": {
    "collapsed": false
   },
   "outputs": [
    {
     "name": "stdout",
     "output_type": "stream",
     "text": [
      "0.248677248677\n"
     ]
    }
   ],
   "source": [
    "print knnclf.score(UR_test_norm, UR_target_test)"
   ]
  },
  {
   "cell_type": "code",
   "execution_count": 53,
   "metadata": {
    "collapsed": false
   },
   "outputs": [
    {
     "name": "stdout",
     "output_type": "stream",
     "text": [
      "1.0\n"
     ]
    }
   ],
   "source": [
    "print knnclf.score(UR_train_norm, UR_target_train)"
   ]
  },
  {
   "cell_type": "code",
   "execution_count": 54,
   "metadata": {
    "collapsed": false
   },
   "outputs": [
    {
     "data": {
      "image/png": "[encoded data removed]",
      "text/plain": [
       "<matplotlib.figure.Figure at 0xabf83c8>"
      ]
     },
     "metadata": {},
     "output_type": "display_data"
    }
   ],
   "source": [
    "import matplotlib.pyplot as plt\n",
    "%matplotlib inline\n",
    "plt.matshow(knncm)\n",
    "plt.title('Confusion Matrix of KNN')\n",
    "plt.colorbar()\n",
    "plt.ylabel('Actual')\n",
    "plt.xlabel('Predicted')\n",
    "plt.show()"
   ]
  },
  {
   "cell_type": "code",
   "execution_count": 55,
   "metadata": {
    "collapsed": true
   },
   "outputs": [],
   "source": [
    "def calcScore(UR_train_norm, UR_test_norm, UR_target_train, UR_target_test, k, w):\n",
    "    knnclf = neighbors.KNeighborsClassifier(k, weights = w)\n",
    "    knnclf.fit(UR_train_norm, UR_target_train)\n",
    "    return knnclf.score(UR_test_norm, UR_target_test)"
   ]
  },
  {
   "cell_type": "code",
   "execution_count": 56,
   "metadata": {
    "collapsed": false
   },
   "outputs": [
    {
     "name": "stdout",
     "output_type": "stream",
     "text": [
      "31 distance 0.253968253968\n"
     ]
    }
   ],
   "source": [
    "bestK = 0\n",
    "weight = ''\n",
    "bestScore = 0.0\n",
    "for k in range(1, 201, 10):\n",
    "    for w in ['uniform', 'distance']:\n",
    "        score = calcScore(UR_train_norm, UR_test_norm, UR_target_train, UR_target_test, k, w)\n",
    "        if score > bestScore:\n",
    "            bestScore = score\n",
    "            bestK = k\n",
    "            weight = w\n",
    "print bestK, weight, bestScore"
   ]
  },
  {
   "cell_type": "code",
   "execution_count": 57,
   "metadata": {
    "collapsed": true
   },
   "outputs": [],
   "source": [
    "# As we can see from above result, best accuracy achieved when we use k = 31 and weight = 'distance'."
   ]
  },
  {
   "cell_type": "code",
   "execution_count": 58,
   "metadata": {
    "collapsed": true
   },
   "outputs": [],
   "source": [
    "# Try scikit-learn's decision tree classifier (using the default parameters) and the\n",
    "# naive Bayes (Gaussian) classifier."
   ]
  },
  {
   "cell_type": "code",
   "execution_count": 63,
   "metadata": {
    "collapsed": true
   },
   "outputs": [],
   "source": [
    "treeclf = tree.DecisionTreeClassifier(criterion='entropy', min_samples_split=5)\n",
    "treeclf = treeclf.fit(UR_train, UR_target_train)\n",
    "treepreds_test = treeclf.predict(UR_test)"
   ]
  },
  {
   "cell_type": "code",
   "execution_count": 64,
   "metadata": {
    "collapsed": false
   },
   "outputs": [
    {
     "name": "stdout",
     "output_type": "stream",
     "text": [
      "['engineer' 'programmer' 'engineer' 'marketing' 'librarian' 'programmer'\n",
      " 'administrator' 'programmer' 'marketing' 'administrator' 'student'\n",
      " 'educator' 'engineer' 'administrator' 'student' 'educator' 'engineer'\n",
      " 'student' 'marketing' 'writer' 'executive' 'engineer' 'engineer' 'other'\n",
      " 'other' 'administrator' 'student' 'lawyer' 'engineer' 'educator'\n",
      " 'technician' 'technician' 'other' 'engineer' 'student' 'engineer' 'artist'\n",
      " 'other' 'student' 'executive' 'programmer' 'engineer' 'educator'\n",
      " 'engineer' 'none' 'student' 'other' 'programmer' 'student' 'other'\n",
      " 'student' 'student' 'student' 'administrator' 'lawyer' 'executive'\n",
      " 'student' 'engineer' 'student' 'administrator' 'student' 'educator'\n",
      " 'entertainment' 'programmer' 'programmer' 'engineer' 'student' 'student'\n",
      " 'student' 'other' 'student' 'student' 'administrator' 'educator'\n",
      " 'educator' 'technician' 'student' 'student' 'administrator' 'lawyer'\n",
      " 'student' 'technician' 'student' 'entertainment' 'educator' 'scientist'\n",
      " 'educator' 'administrator' 'none' 'student' 'student' 'educator'\n",
      " 'engineer' 'scientist' 'writer' 'entertainment' 'student' 'student'\n",
      " 'administrator' 'student' 'librarian' 'other' 'other' 'executive'\n",
      " 'engineer' 'student' 'student' 'executive' 'scientist' 'writer' 'other'\n",
      " 'student' 'student' 'student' 'educator' 'other' 'administrator' 'student'\n",
      " 'student' 'student' 'student' 'marketing' 'student' 'engineer'\n",
      " 'healthcare' 'other' 'student' 'student' 'executive' 'programmer'\n",
      " 'scientist' 'student' 'scientist' 'librarian' 'technician' 'technician'\n",
      " 'other' 'other' 'student' 'student' 'engineer' 'educator' 'student'\n",
      " 'engineer' 'engineer' 'other' 'artist' 'educator' 'educator' 'student'\n",
      " 'administrator' 'healthcare' 'engineer' 'student' 'engineer' 'artist'\n",
      " 'executive' 'technician' 'artist' 'lawyer' 'other' 'engineer' 'student'\n",
      " 'administrator' 'educator' 'engineer' 'entertainment' 'student'\n",
      " 'executive' 'engineer' 'scientist' 'student' 'technician' 'student'\n",
      " 'technician' 'librarian' 'writer' 'scientist' 'executive' 'librarian'\n",
      " 'educator' 'educator' 'engineer' 'other' 'librarian' 'scientist' 'student'\n",
      " 'scientist' 'salesman']\n"
     ]
    }
   ],
   "source": [
    "print treepreds_test"
   ]
  },
  {
   "cell_type": "code",
   "execution_count": 65,
   "metadata": {
    "collapsed": false
   },
   "outputs": [
    {
     "name": "stdout",
     "output_type": "stream",
     "text": [
      "0.121693121693\n"
     ]
    }
   ],
   "source": [
    "print treeclf.score(UR_test, UR_target_test)"
   ]
  },
  {
   "cell_type": "code",
   "execution_count": 66,
   "metadata": {
    "collapsed": false
   },
   "outputs": [
    {
     "name": "stdout",
     "output_type": "stream",
     "text": [
      "0.790450928382\n"
     ]
    }
   ],
   "source": [
    "print treeclf.score(UR_train, UR_target_train)"
   ]
  },
  {
   "cell_type": "code",
   "execution_count": 68,
   "metadata": {
    "collapsed": false
   },
   "outputs": [
    {
     "name": "stdout",
     "output_type": "stream",
     "text": [
      "             precision    recall  f1-score   support\n",
      "\n",
      "administrator       0.00      0.00      0.00        12\n",
      "     artist       0.00      0.00      0.00         7\n",
      "   educator       0.24      0.15      0.18        27\n",
      "   engineer       0.04      0.07      0.05        14\n",
      "entertainment       0.00      0.00      0.00         0\n",
      "  executive       0.00      0.00      0.00         7\n",
      " healthcare       0.00      0.00      0.00         2\n",
      "  homemaker       0.00      0.00      0.00         1\n",
      "     lawyer       0.00      0.00      0.00         1\n",
      "  librarian       0.17      0.08      0.11        12\n",
      "  marketing       0.00      0.00      0.00         4\n",
      "       none       0.00      0.00      0.00         2\n",
      "      other       0.12      0.10      0.11        21\n",
      " programmer       0.00      0.00      0.00        13\n",
      "    retired       0.00      0.00      0.00         3\n",
      "   salesman       0.00      0.00      0.00         0\n",
      "  scientist       0.11      0.20      0.14         5\n",
      "    student       0.25      0.30      0.27        44\n",
      " technician       0.11      0.25      0.15         4\n",
      "     writer       0.00      0.00      0.00        10\n",
      "\n",
      "avg / total       0.12      0.12      0.12       189\n",
      "\n"
     ]
    }
   ],
   "source": [
    "print(classification_report(UR_target_test, treepreds_test))"
   ]
  },
  {
   "cell_type": "code",
   "execution_count": 69,
   "metadata": {
    "collapsed": false
   },
   "outputs": [
    {
     "name": "stdout",
     "output_type": "stream",
     "text": [
      "[[ 0  0  1  0  1  3  0  0  1  1  0  0  0  1  0  0  1  2  0  1]\n",
      " [ 0  0  0  1  0  1  0  0  0  0  0  0  1  1  0  0  1  2  0  0]\n",
      " [ 1  1  4  3  1  0  0  0  0  1  1  0  4  2  0  0  1  6  2  0]\n",
      " [ 1  1  1  1  0  0  1  0  0  1  0  0  1  0  0  0  0  7  0  0]\n",
      " [ 0  0  0  0  0  0  0  0  0  0  0  0  0  0  0  0  0  0  0  0]\n",
      " [ 1  0  0  3  0  0  0  0  0  0  1  1  1  0  0  0  0  0  0  0]\n",
      " [ 1  0  0  1  0  0  0  0  0  0  0  0  0  0  0  0  0  0  0  0]\n",
      " [ 0  0  0  0  0  0  0  0  0  0  0  0  0  0  0  1  0  0  0  0]\n",
      " [ 0  0  0  0  0  0  0  0  0  0  0  1  0  0  0  0  0  0  0  0]\n",
      " [ 0  1  3  1  0  1  1  0  0  1  1  0  0  0  0  0  0  1  1  1]\n",
      " [ 0  0  1  1  0  0  0  0  0  0  0  0  0  0  0  0  0  2  0  0]\n",
      " [ 1  0  0  0  0  0  0  0  0  0  0  0  0  0  0  0  1  0  0  0]\n",
      " [ 2  0  1  2  1  1  0  0  1  0  1  0  2  0  0  0  1  7  1  1]\n",
      " [ 0  0  0  4  0  1  0  0  0  0  0  0  3  0  0  0  0  3  2  0]\n",
      " [ 0  0  1  1  0  0  0  0  0  0  0  0  0  0  0  0  0  1  0  0]\n",
      " [ 0  0  0  0  0  0  0  0  0  0  0  0  0  0  0  0  0  0  0  0]\n",
      " [ 0  0  0  0  0  0  0  0  0  2  0  0  0  1  0  0  1  1  0  0]\n",
      " [ 6  0  4  5  1  2  0  0  1  0  0  0  4  3  0  0  2 13  2  1]\n",
      " [ 0  0  0  0  0  0  0  0  1  0  0  0  1  0  0  0  0  1  1  0]\n",
      " [ 0  1  1  2  0  0  0  0  0  0  0  0  0  0  0  0  1  5  0  0]]\n"
     ]
    }
   ],
   "source": [
    "treecm = confusion_matrix(UR_target_test, treepreds_test)\n",
    "print treecm"
   ]
  },
  {
   "cell_type": "code",
   "execution_count": 70,
   "metadata": {
    "collapsed": false
   },
   "outputs": [
    {
     "data": {
      "image/png": "[encoded data removed]",
      "text/plain": [
       "<matplotlib.figure.Figure at 0x1f5b3630>"
      ]
     },
     "metadata": {},
     "output_type": "display_data"
    }
   ],
   "source": [
    "plt.matshow(treecm)\n",
    "plt.title('Confusion Matrix of Dicision Tree')\n",
    "plt.colorbar()\n",
    "plt.ylabel('Actual')\n",
    "plt.xlabel('Predicted')\n",
    "plt.show()"
   ]
  },
  {
   "cell_type": "code",
   "execution_count": 71,
   "metadata": {
    "collapsed": true
   },
   "outputs": [],
   "source": [
    "nbclf = naive_bayes.GaussianNB()\n",
    "nbclf = nbclf.fit(UR_train, UR_target_train)\n",
    "nbpreds_test = nbclf.predict(UR_test)"
   ]
  },
  {
   "cell_type": "code",
   "execution_count": 72,
   "metadata": {
    "collapsed": false
   },
   "outputs": [
    {
     "name": "stdout",
     "output_type": "stream",
     "text": [
      "['artist' 'student' 'educator' 'educator' 'other' 'other' 'administrator'\n",
      " 'administrator' 'healthcare' 'programmer' 'student' 'educator' 'student'\n",
      " 'engineer' 'student' 'healthcare' 'student' 'executive' 'other' 'engineer'\n",
      " 'student' 'writer' 'other' 'student' 'writer' 'administrator'\n",
      " 'administrator' 'administrator' 'student' 'student' 'writer' 'student'\n",
      " 'executive' 'student' 'administrator' 'scientist' 'executive' 'student'\n",
      " 'other' 'student' 'educator' 'student' 'student' 'artist' 'student'\n",
      " 'artist' 'executive' 'healthcare' 'student' 'student' 'librarian'\n",
      " 'engineer' 'executive' 'student' 'engineer' 'artist' 'student' 'student'\n",
      " 'librarian' 'educator' 'technician' 'healthcare' 'entertainment' 'other'\n",
      " 'student' 'technician' 'other' 'engineer' 'executive' 'student'\n",
      " 'technician' 'student' 'librarian' 'educator' 'student' 'student'\n",
      " 'student' 'executive' 'student' 'other' 'student' 'salesman' 'student'\n",
      " 'scientist' 'engineer' 'educator' 'student' 'administrator' 'other'\n",
      " 'other' 'engineer' 'educator' 'student' 'entertainment' 'educator'\n",
      " 'student' 'student' 'executive' 'student' 'executive' 'retired'\n",
      " 'scientist' 'librarian' 'student' 'student' 'administrator' 'librarian'\n",
      " 'educator' 'student' 'writer' 'student' 'writer' 'other' 'artist'\n",
      " 'entertainment' 'administrator' 'student' 'student' 'student' 'other'\n",
      " 'artist' 'educator' 'librarian' 'technician' 'artist' 'student' 'engineer'\n",
      " 'technician' 'administrator' 'engineer' 'engineer' 'other' 'engineer'\n",
      " 'student' 'technician' 'other' 'administrator' 'librarian' 'executive'\n",
      " 'other' 'engineer' 'librarian' 'educator' 'engineer' 'student' 'educator'\n",
      " 'other' 'librarian' 'student' 'scientist' 'technician' 'administrator'\n",
      " 'student' 'writer' 'student' 'educator' 'student' 'student' 'educator'\n",
      " 'student' 'student' 'educator' 'student' 'educator' 'student' 'educator'\n",
      " 'student' 'student' 'none' 'programmer' 'healthcare' 'entertainment'\n",
      " 'other' 'other' 'student' 'librarian' 'student' 'administrator' 'salesman'\n",
      " 'writer' 'other' 'educator' 'administrator' 'programmer' 'educator'\n",
      " 'student' 'executive' 'retired' 'educator']\n"
     ]
    }
   ],
   "source": [
    "print nbpreds_test"
   ]
  },
  {
   "cell_type": "code",
   "execution_count": 73,
   "metadata": {
    "collapsed": false
   },
   "outputs": [
    {
     "name": "stdout",
     "output_type": "stream",
     "text": [
      "0.685676392573\n"
     ]
    }
   ],
   "source": [
    "print nbclf.score(UR_train, UR_target_train)"
   ]
  },
  {
   "cell_type": "code",
   "execution_count": 74,
   "metadata": {
    "collapsed": false
   },
   "outputs": [
    {
     "name": "stdout",
     "output_type": "stream",
     "text": [
      "0.174603174603\n"
     ]
    }
   ],
   "source": [
    "print nbclf.score(UR_test, UR_target_test)"
   ]
  },
  {
   "cell_type": "code",
   "execution_count": 75,
   "metadata": {
    "collapsed": false
   },
   "outputs": [
    {
     "name": "stdout",
     "output_type": "stream",
     "text": [
      "             precision    recall  f1-score   support\n",
      "\n",
      "administrator       0.07      0.08      0.08        12\n",
      "     artist       0.00      0.00      0.00         7\n",
      "   educator       0.24      0.19      0.21        27\n",
      "   engineer       0.15      0.14      0.15        14\n",
      "entertainment       0.00      0.00      0.00         0\n",
      "  executive       0.00      0.00      0.00         7\n",
      " healthcare       0.00      0.00      0.00         2\n",
      "  homemaker       0.00      0.00      0.00         1\n",
      "     lawyer       0.00      0.00      0.00         1\n",
      "  librarian       0.10      0.08      0.09        12\n",
      "  marketing       0.00      0.00      0.00         4\n",
      "       none       0.00      0.00      0.00         2\n",
      "      other       0.00      0.00      0.00        21\n",
      " programmer       0.00      0.00      0.00        13\n",
      "    retired       0.00      0.00      0.00         3\n",
      "   salesman       0.00      0.00      0.00         0\n",
      "  scientist       0.00      0.00      0.00         5\n",
      "    student       0.41      0.55      0.47        44\n",
      " technician       0.00      0.00      0.00         4\n",
      "     writer       0.00      0.00      0.00        10\n",
      "\n",
      "avg / total       0.15      0.17      0.16       189\n",
      "\n"
     ]
    }
   ],
   "source": [
    "print(classification_report(UR_target_test, nbpreds_test))"
   ]
  },
  {
   "cell_type": "code",
   "execution_count": 76,
   "metadata": {
    "collapsed": false
   },
   "outputs": [
    {
     "name": "stdout",
     "output_type": "stream",
     "text": [
      "[[ 1  1  2  0  0  0  0  0  0  0  0  1  3  0  0  1  0  2  0  1]\n",
      " [ 2  0  0  2  0  1  0  0  0  0  0  0  1  0  0  0  0  1  0  0]\n",
      " [ 1  1  5  1  1  2  0  0  0  3  0  0  1  0  1  1  1  6  2  1]\n",
      " [ 1  0  0  2  0  1  0  0  0  2  0  0  2  2  0  0  0  2  2  0]\n",
      " [ 0  0  0  0  0  0  0  0  0  0  0  0  0  0  0  0  0  0  0  0]\n",
      " [ 0  0  1  1  0  0  0  0  0  0  0  0  1  0  0  0  0  3  0  1]\n",
      " [ 1  0  0  1  0  0  0  0  0  0  0  0  0  0  0  0  0  0  0  0]\n",
      " [ 0  0  1  0  0  0  0  0  0  0  0  0  0  0  0  0  0  0  0  0]\n",
      " [ 0  0  0  0  0  0  0  0  0  0  0  0  1  0  0  0  0  0  0  0]\n",
      " [ 1  1  2  1  0  0  2  0  0  1  0  0  1  0  0  0  0  1  0  2]\n",
      " [ 0  1  0  0  1  0  0  0  0  0  0  0  1  0  0  0  0  1  0  0]\n",
      " [ 0  0  0  0  0  0  1  0  0  1  0  0  0  0  0  0  0  0  0  0]\n",
      " [ 5  1  3  1  1  2  0  0  0  0  0  0  0  1  0  0  0  6  0  1]\n",
      " [ 0  0  0  0  0  2  0  0  0  1  0  0  0  0  0  0  1  9  0  0]\n",
      " [ 0  0  1  1  0  0  0  0  0  0  0  0  0  0  0  0  0  0  1  0]\n",
      " [ 0  0  0  0  0  0  0  0  0  0  0  0  0  0  0  0  0  0  0  0]\n",
      " [ 0  0  0  0  1  0  1  0  0  0  0  0  1  0  1  0  0  0  1  0]\n",
      " [ 1  2  4  1  0  3  0  0  0  0  0  0  5  0  0  0  2 24  1  1]\n",
      " [ 1  0  0  1  0  0  0  0  0  1  0  0  1  0  0  0  0  0  0  0]\n",
      " [ 0  0  2  1  0  0  1  0  0  1  0  0  1  0  0  0  0  4  0  0]]\n"
     ]
    }
   ],
   "source": [
    "nbcm = (confusion_matrix(UR_target_test, nbpreds_test))\n",
    "print nbcm"
   ]
  },
  {
   "cell_type": "code",
   "execution_count": 77,
   "metadata": {
    "collapsed": false
   },
   "outputs": [
    {
     "data": {
      "text/plain": [
       "<matplotlib.text.Text at 0x17309630>"
      ]
     },
     "execution_count": 77,
     "metadata": {},
     "output_type": "execute_result"
    },
    {
     "data": {
      "image/png": "[encoded data removed]",
      "text/plain": [
       "<matplotlib.figure.Figure at 0x1f5b3160>"
      ]
     },
     "metadata": {},
     "output_type": "display_data"
    }
   ],
   "source": [
    "plt.matshow(nbcm)\n",
    "plt.title('Confusion Matrix of Naive Bayes')\n",
    "plt.colorbar()\n",
    "plt.ylabel('Actual')\n",
    "plt.xlabel('Predicted')"
   ]
  },
  {
   "cell_type": "code",
   "execution_count": 78,
   "metadata": {
    "collapsed": true
   },
   "outputs": [],
   "source": [
    "# Summary of classification & prediction accuracy results:\n",
    "#    Classifier           Parameters           Accuracy\n",
    "# 1. Self-dev kNN         k=71, Euclidean      24.9%\n",
    "# 2. Self-dev Rocchio     -                    14.3%\n",
    "# 3. Scikit-learn kNN     k=31, distance       25.4%\n",
    "# 4. Scikit-learn tree    entropy, split=5     13.8%\n",
    "# 5. Scikit-learn NB      -                    17.5%"
   ]
  },
  {
   "cell_type": "code",
   "execution_count": 79,
   "metadata": {
    "collapsed": true
   },
   "outputs": [],
   "source": [
    "# Section 4: Clustering\n",
    "# We will try to perform K-means clustering on the movie training data. Display the top 3\n",
    "# genres in each cluster, percentage of movies in the cluster in which the genre appear,\n",
    "# and the size of the cluster. Using the cluster assignments as class labels, categorize\n",
    "# each of the movie in the test data into each of the appropriate cluster. "
   ]
  },
  {
   "cell_type": "code",
   "execution_count": 80,
   "metadata": {
    "collapsed": false
   },
   "outputs": [],
   "source": [
    "# Prepare data\n",
    "movie_genres = np.genfromtxt(\"u.item\", delimiter=\"|\", usecols=tuple(range(5, 24)))\n",
    "movie_ids = np.genfromtxt(\"u.item\", delimiter=\"|\", usecols=(0))"
   ]
  },
  {
   "cell_type": "code",
   "execution_count": 81,
   "metadata": {
    "collapsed": false
   },
   "outputs": [
    {
     "name": "stdout",
     "output_type": "stream",
     "text": [
      "(1682L, 19L)\n",
      "(1682L,)\n"
     ]
    }
   ],
   "source": [
    "print movie_genres.shape\n",
    "print movie_ids.shape"
   ]
  },
  {
   "cell_type": "code",
   "execution_count": 82,
   "metadata": {
    "collapsed": true
   },
   "outputs": [],
   "source": [
    "MG_train, MG_test, MG_id_train, MG_id_test = train_test_split(movie_genres, movie_ids, test_size=0.2)"
   ]
  },
  {
   "cell_type": "code",
   "execution_count": 83,
   "metadata": {
    "collapsed": false
   },
   "outputs": [
    {
     "name": "stdout",
     "output_type": "stream",
     "text": [
      "(1345L, 19L)\n",
      "(337L, 19L)\n"
     ]
    }
   ],
   "source": [
    "print MG_train.shape\n",
    "print MG_test.shape"
   ]
  },
  {
   "cell_type": "code",
   "execution_count": 84,
   "metadata": {
    "collapsed": false
   },
   "outputs": [],
   "source": [
    "genres = np.genfromtxt(\"u.genre\", delimiter=\"|\", usecols=(0), dtype=('|S15'))"
   ]
  },
  {
   "cell_type": "code",
   "execution_count": 85,
   "metadata": {
    "collapsed": true
   },
   "outputs": [],
   "source": [
    "import kMeans"
   ]
  },
  {
   "cell_type": "code",
   "execution_count": 86,
   "metadata": {
    "collapsed": true
   },
   "outputs": [],
   "source": [
    "def distCosine(vecA, vecB):\n",
    "    return 1 - ((np.dot(vecA, vecB)) / (np.linalg.norm(vecA) * np.linalg.norm(vecB)))"
   ]
  },
  {
   "cell_type": "code",
   "execution_count": 87,
   "metadata": {
    "collapsed": true
   },
   "outputs": [],
   "source": [
    "# Let's first try to group movies into 5 clusters\n",
    "centroids5, clusters5 = kMeans.kMeans(MG_train, 5, distCosine, kMeans.randCent)"
   ]
  },
  {
   "cell_type": "code",
   "execution_count": 88,
   "metadata": {
    "collapsed": false
   },
   "outputs": [
    {
     "data": {
      "text/plain": [
       "array([[ 0.        ,  0.04835165,  0.01758242,  0.        ,  0.03296703,\n",
       "         0.        ,  0.06813187,  0.08131868,  0.92307692,  0.00659341,\n",
       "         0.0043956 ,  0.00879121,  0.01538462,  0.01758242,  0.        ,\n",
       "         0.01098901,  0.07912088,  0.05714286,  0.00659341],\n",
       "       [ 0.        ,  0.51916376,  0.29268293,  0.01393728,  0.09059233,\n",
       "         0.01045296,  0.12891986,  0.        ,  0.03832753,  0.03135889,\n",
       "         0.05923345,  0.07317073,  0.00348432,  0.1010453 ,  0.03135889,\n",
       "         0.22299652,  0.49825784,  0.03135889,  0.00696864],\n",
       "       [ 0.02325581,  0.03488372,  0.        ,  0.        ,  0.01162791,\n",
       "         0.8255814 ,  0.04651163,  0.        ,  0.8255814 ,  0.        ,\n",
       "         0.        ,  0.        ,  0.01162791,  0.01162791,  0.10465116,\n",
       "         0.        ,  0.01162791,  0.02325581,  0.15116279],\n",
       "       [ 0.        ,  0.05637982,  0.02373887,  0.02373887,  0.10385757,\n",
       "         1.        ,  0.02077151,  0.00296736,  0.        ,  0.01780415,\n",
       "         0.        ,  0.02077151,  0.04747774,  0.02373887,  0.21364985,\n",
       "         0.02077151,  0.02373887,  0.02967359,  0.01780415],\n",
       "       [ 0.        ,  0.05555556,  0.03333333,  0.12777778,  0.15      ,\n",
       "         0.        ,  0.02222222,  0.        ,  0.38333333,  0.01111111,\n",
       "         0.00555556,  0.19444444,  0.09444444,  0.01666667,  0.62777778,\n",
       "         0.00555556,  0.04444444,  0.08888889,  0.00555556]])"
      ]
     },
     "execution_count": 88,
     "metadata": {},
     "output_type": "execute_result"
    }
   ],
   "source": [
    "centroids5"
   ]
  },
  {
   "cell_type": "code",
   "execution_count": 89,
   "metadata": {
    "collapsed": false
   },
   "outputs": [
    {
     "data": {
      "text/plain": [
       "array([[ 2.        ,  0.07739337],\n",
       "       [ 1.        ,  0.16423579],\n",
       "       [ 3.        ,  0.02862056],\n",
       "       ..., \n",
       "       [ 0.        ,  0.07745213],\n",
       "       [ 4.        ,  0.01154701],\n",
       "       [ 4.        ,  0.01154701]])"
      ]
     },
     "execution_count": 89,
     "metadata": {},
     "output_type": "execute_result"
    }
   ],
   "source": [
    "clusters5"
   ]
  },
  {
   "cell_type": "code",
   "execution_count": 90,
   "metadata": {
    "collapsed": false
   },
   "outputs": [],
   "source": [
    "def display(clusters, movie_genres, MG_id, genres, number_clusters):\n",
    "    number_genres = movie_genres.shape[1]\n",
    "    cluster_genre = np.zeros((number_clusters, number_genres))\n",
    "    cluster_size = np.zeros((number_clusters))\n",
    "    for i in range(len(clusters)):\n",
    "        cluster_id = int(clusters[i][0])\n",
    "        cluster_size[cluster_id] += 1\n",
    "        movie_id = int(MG_id[i])\n",
    "        for j in range(number_genres):\n",
    "            if movie_genres[movie_id - 1][j] == 0: continue\n",
    "            cluster_genre[cluster_id][j] += 1\n",
    "    for k in range(number_clusters):\n",
    "        print \"Cluster %d:\"%k\n",
    "        print \"Cluster size: %d\"%cluster_size[k]\n",
    "        idx = np.argsort(cluster_genre[k])\n",
    "        print \"Top three genres:\"\n",
    "        for p in range(-1, -4, -1):\n",
    "            print \"%-15s\\t%d\\t\\t%f\"%(genres[idx[p]], cluster_genre[k][idx[p]], cluster_genre[k][idx[p]]/ cluster_size[k])\n",
    "        print \"------------------------------------------------------\""
   ]
  },
  {
   "cell_type": "code",
   "execution_count": 91,
   "metadata": {
    "collapsed": false
   },
   "outputs": [
    {
     "name": "stdout",
     "output_type": "stream",
     "text": [
      "Cluster 0:\n",
      "Cluster size: 455\n",
      "Top three genres:\n",
      "Drama          \t420\t\t0.923077\n",
      "Documentary    \t37\t\t0.081319\n",
      "Thriller       \t36\t\t0.079121\n",
      "------------------------------------------------------\n",
      "Cluster 1:\n",
      "Cluster size: 287\n",
      "Top three genres:\n",
      "Action         \t149\t\t0.519164\n",
      "Thriller       \t143\t\t0.498258\n",
      "Adventure      \t84\t\t0.292683\n",
      "------------------------------------------------------\n",
      "Cluster 2:\n",
      "Cluster size: 86\n",
      "Top three genres:\n",
      "Comedy         \t71\t\t0.825581\n",
      "Drama          \t71\t\t0.825581\n",
      "Western        \t13\t\t0.151163\n",
      "------------------------------------------------------\n",
      "Cluster 3:\n",
      "Cluster size: 337\n",
      "Top three genres:\n",
      "Comedy         \t337\t\t1.000000\n",
      "Romance        \t72\t\t0.213650\n",
      "Children's     \t35\t\t0.103858\n",
      "------------------------------------------------------\n",
      "Cluster 4:\n",
      "Cluster size: 180\n",
      "Top three genres:\n",
      "Romance        \t113\t\t0.627778\n",
      "Drama          \t69\t\t0.383333\n",
      "Horror         \t35\t\t0.194444\n",
      "------------------------------------------------------\n"
     ]
    }
   ],
   "source": [
    "display(clusters5, movie_genres, MG_id_train, genres, 5)"
   ]
  },
  {
   "cell_type": "code",
   "execution_count": 92,
   "metadata": {
    "collapsed": true
   },
   "outputs": [],
   "source": [
    "# As we can see from above results, when we group movies to 5 clusters,\n",
    "# each cluster will have 1 or 2 dominated genres."
   ]
  },
  {
   "cell_type": "code",
   "execution_count": 93,
   "metadata": {
    "collapsed": true
   },
   "outputs": [],
   "source": [
    "# Let's try to group movies into 10 clusters\n",
    "centroids10, clusters10 = kMeans.kMeans(MG_train, 10, distCosine, kMeans.randCent)"
   ]
  },
  {
   "cell_type": "code",
   "execution_count": 94,
   "metadata": {
    "collapsed": false
   },
   "outputs": [
    {
     "name": "stdout",
     "output_type": "stream",
     "text": [
      "Cluster 0:\n",
      "Cluster size: 33\n",
      "Top three genres:\n",
      "Animation      \t29\t\t0.878788\n",
      "Children's     \t28\t\t0.848485\n",
      "Musical        \t18\t\t0.545455\n",
      "------------------------------------------------------\n",
      "Cluster 1:\n",
      "Cluster size: 103\n",
      "Top three genres:\n",
      "Thriller       \t103\t\t1.000000\n",
      "Drama          \t37\t\t0.359223\n",
      "Crime          \t21\t\t0.203883\n",
      "------------------------------------------------------\n",
      "Cluster 2:\n",
      "Cluster size: 103\n",
      "Top three genres:\n",
      "Children's     \t62\t\t0.601942\n",
      "Adventure      \t39\t\t0.378641\n",
      "Documentary    \t34\t\t0.330097\n",
      "------------------------------------------------------\n",
      "Cluster 3:\n",
      "Cluster size: 291\n",
      "Top three genres:\n",
      "Comedy         \t291\t\t1.000000\n",
      "Romance        \t70\t\t0.240550\n",
      "Action         \t16\t\t0.054983\n",
      "------------------------------------------------------\n",
      "Cluster 4:\n",
      "Cluster size: 152\n",
      "Top three genres:\n",
      "Action         \t139\t\t0.914474\n",
      "Thriller       \t66\t\t0.434211\n",
      "Adventure      \t51\t\t0.335526\n",
      "------------------------------------------------------\n",
      "Cluster 5:\n",
      "Cluster size: 52\n",
      "Top three genres:\n",
      "War            \t52\t\t1.000000\n",
      "Drama          \t35\t\t0.673077\n",
      "Action         \t13\t\t0.250000\n",
      "------------------------------------------------------\n",
      "Cluster 6:\n",
      "Cluster size: 42\n",
      "Top three genres:\n",
      "Crime          \t25\t\t0.595238\n",
      "Film-Noir      \t14\t\t0.333333\n",
      "Mystery        \t13\t\t0.309524\n",
      "------------------------------------------------------\n",
      "Cluster 7:\n",
      "Cluster size: 99\n",
      "Top three genres:\n",
      "Romance        \t99\t\t1.000000\n",
      "Drama          \t71\t\t0.717172\n",
      "Comedy         \t9\t\t0.090909\n",
      "------------------------------------------------------\n",
      "Cluster 8:\n",
      "Cluster size: 405\n",
      "Top three genres:\n",
      "Drama          \t405\t\t1.000000\n",
      "Comedy         \t58\t\t0.143210\n",
      "Crime          \t21\t\t0.051852\n",
      "------------------------------------------------------\n",
      "Cluster 9:\n",
      "Cluster size: 65\n",
      "Top three genres:\n",
      "Horror         \t63\t\t0.969231\n",
      "Thriller       \t10\t\t0.153846\n",
      "Comedy         \t8\t\t0.123077\n",
      "------------------------------------------------------\n"
     ]
    }
   ],
   "source": [
    "display(clusters10, movie_genres, MG_id_train, genres, 10)"
   ]
  },
  {
   "cell_type": "code",
   "execution_count": 95,
   "metadata": {
    "collapsed": true
   },
   "outputs": [],
   "source": [
    "# As we can see from above results, when we group movies to 10 clusters,\n",
    "# each cluster will have 1 or 2 dominated genres but the percentage of\n",
    "# the 1st one appears more than the 2nd one. (Stronger domination)"
   ]
  },
  {
   "cell_type": "code",
   "execution_count": 96,
   "metadata": {
    "collapsed": true
   },
   "outputs": [],
   "source": [
    "# Try to categorize each of the movies in the 20% set-aside data into\n",
    "# each of the 5 cluster. Categorization is based on Cosine similarity\n",
    "# between each test movie and each cluster centroids. Print the results\n",
    "# with the obtained cluster id for each test movie as well as Cosine\n",
    "# similarities between each test movie and each of the 5 clusters."
   ]
  },
  {
   "cell_type": "code",
   "execution_count": 97,
   "metadata": {
    "collapsed": true
   },
   "outputs": [],
   "source": [
    "def Cosine(vecA, vecB):\n",
    "    return np.dot(vecA, vecB) / (np.linalg.norm(vecA) * np.linalg.norm(vecB))"
   ]
  },
  {
   "cell_type": "code",
   "execution_count": 98,
   "metadata": {
    "collapsed": false
   },
   "outputs": [
    {
     "name": "stdout",
     "output_type": "stream",
     "text": [
      "Assignment\tSim_C0\t\tSim_C1\t\tSim_C2\t\tSim_C3\t\tSim_C4\n",
      "Cluster0\t0.9854\t\t0.0457\t\t0.6973\t\t0.0000\t\t0.4785\n",
      "Cluster0\t0.9854\t\t0.0457\t\t0.6973\t\t0.0000\t\t0.4785\n",
      "Cluster1\t0.0664\t\t0.4823\t\t0.0069\t\t0.0305\t\t0.2109\n",
      "Cluster3\t0.0000\t\t0.0125\t\t0.6973\t\t0.9681\t\t0.0000\n",
      "Cluster1\t0.0845\t\t0.5947\t\t0.0098\t\t0.0230\t\t0.0555\n",
      "Cluster0\t0.9854\t\t0.0457\t\t0.6973\t\t0.0000\t\t0.4785\n",
      "Cluster1\t0.0555\t\t0.1993\t\t0.0283\t\t0.0249\t\t0.0320\n",
      "Cluster0\t0.0868\t\t0.0000\t\t0.0000\t\t0.0029\t\t0.0000\n",
      "Cluster0\t0.7565\t\t0.4529\t\t0.5000\t\t0.0163\t\t0.3776\n",
      "Cluster4\t0.6968\t\t0.0588\t\t0.5555\t\t0.1463\t\t0.8925\n",
      "Cluster0\t0.0868\t\t0.0000\t\t0.0000\t\t0.0029\t\t0.0000\n",
      "Cluster0\t0.9854\t\t0.0457\t\t0.6973\t\t0.0000\t\t0.4785\n",
      "Cluster3\t0.0095\t\t0.0312\t\t0.4593\t\t0.7049\t\t0.5205\n",
      "Cluster0\t0.9854\t\t0.0457\t\t0.6973\t\t0.0000\t\t0.4785\n",
      "Cluster3\t0.0000\t\t0.0125\t\t0.6973\t\t0.9681\t\t0.0000\n",
      "Cluster0\t0.9854\t\t0.0457\t\t0.6973\t\t0.0000\t\t0.4785\n",
      "Cluster1\t0.0149\t\t0.2500\t\t0.0000\t\t0.0284\t\t0.1765\n",
      "Cluster0\t0.9854\t\t0.0457\t\t0.6973\t\t0.0000\t\t0.4785\n",
      "Cluster1\t0.0894\t\t0.9029\t\t0.0227\t\t0.0581\t\t0.0961\n",
      "Cluster3\t0.0000\t\t0.0125\t\t0.6973\t\t0.9681\t\t0.0000\n",
      "Cluster3\t0.0000\t\t0.0125\t\t0.6973\t\t0.9681\t\t0.0000\n",
      "Cluster0\t0.9854\t\t0.0457\t\t0.6973\t\t0.0000\t\t0.4785\n",
      "Cluster1\t0.0448\t\t0.6264\t\t0.0208\t\t0.0528\t\t0.0539\n",
      "Cluster3\t0.0514\t\t0.1176\t\t0.5208\t\t0.6988\t\t0.0196\n",
      "Cluster0\t0.9854\t\t0.0457\t\t0.6973\t\t0.0000\t\t0.4785\n",
      "Cluster0\t0.9854\t\t0.0457\t\t0.6973\t\t0.0000\t\t0.4785\n",
      "Cluster3\t0.0249\t\t0.0853\t\t0.5000\t\t0.7557\t\t0.1324\n",
      "Cluster1\t0.0786\t\t0.6003\t\t0.0397\t\t0.0547\t\t0.0601\n",
      "Cluster1\t0.0845\t\t0.5947\t\t0.0098\t\t0.0230\t\t0.0555\n",
      "Cluster4\t0.0000\t\t0.0374\t\t0.0884\t\t0.2068\t\t0.7837\n",
      "Cluster4\t0.0133\t\t0.2735\t\t0.0625\t\t0.1625\t\t0.5836\n",
      "Cluster3\t0.0000\t\t0.0125\t\t0.6973\t\t0.9681\t\t0.0000\n",
      "Cluster1\t0.0680\t\t0.6088\t\t0.0069\t\t0.0305\t\t0.0441\n",
      "Cluster3\t0.0000\t\t0.0125\t\t0.6973\t\t0.9681\t\t0.0000\n",
      "Cluster0\t0.0868\t\t0.0000\t\t0.0000\t\t0.0029\t\t0.0000\n",
      "Cluster0\t0.9854\t\t0.0457\t\t0.6973\t\t0.0000\t\t0.4785\n",
      "Cluster0\t0.9854\t\t0.0457\t\t0.6973\t\t0.0000\t\t0.4785\n",
      "Cluster4\t0.6109\t\t0.1369\t\t0.4763\t\t0.1310\t\t0.7448\n",
      "Cluster0\t0.9854\t\t0.0457\t\t0.6973\t\t0.0000\t\t0.4785\n",
      "Cluster0\t0.9854\t\t0.0457\t\t0.6973\t\t0.0000\t\t0.4785\n",
      "Cluster0\t0.7101\t\t0.1176\t\t0.5000\t\t0.0163\t\t0.3531\n",
      "Cluster3\t0.0488\t\t0.3722\t\t0.4593\t\t0.6916\t\t0.4845\n",
      "Cluster0\t0.9854\t\t0.0457\t\t0.6973\t\t0.0000\t\t0.4785\n",
      "Cluster0\t0.9854\t\t0.0457\t\t0.6973\t\t0.0000\t\t0.4785\n",
      "Cluster3\t0.0083\t\t0.1970\t\t0.4930\t\t0.6988\t\t0.0049\n",
      "Cluster0\t0.9854\t\t0.0457\t\t0.6973\t\t0.0000\t\t0.4785\n",
      "Cluster0\t0.9854\t\t0.0457\t\t0.6973\t\t0.0000\t\t0.4785\n",
      "Cluster3\t0.0108\t\t0.0984\t\t0.4593\t\t0.6916\t\t0.4645\n",
      "Cluster1\t0.0382\t\t0.3235\t\t0.0069\t\t0.0873\t\t0.1618\n",
      "Cluster0\t0.9854\t\t0.0457\t\t0.6973\t\t0.0000\t\t0.4785\n",
      "Cluster2\t0.6968\t\t0.0412\t\t0.9861\t\t0.6846\t\t0.3384\n",
      "Cluster3\t0.0000\t\t0.0125\t\t0.6973\t\t0.9681\t\t0.0000\n",
      "Cluster1\t0.0664\t\t0.4823\t\t0.0069\t\t0.0305\t\t0.2109\n",
      "Cluster0\t0.7482\t\t0.1412\t\t0.5208\t\t0.0142\t\t0.3580\n",
      "Cluster4\t0.0352\t\t0.2391\t\t0.0098\t\t0.0962\t\t0.2531\n",
      "Cluster2\t0.6968\t\t0.0412\t\t0.9861\t\t0.6846\t\t0.3384\n",
      "Cluster1\t0.0382\t\t0.3235\t\t0.0069\t\t0.0873\t\t0.1618\n",
      "Cluster0\t0.7565\t\t0.4529\t\t0.5000\t\t0.0163\t\t0.3776\n",
      "Cluster4\t0.6968\t\t0.0588\t\t0.5555\t\t0.1463\t\t0.8925\n",
      "Cluster4\t0.0094\t\t0.0873\t\t0.0000\t\t0.0201\t\t0.2427\n",
      "Cluster3\t0.0000\t\t0.0125\t\t0.6973\t\t0.9681\t\t0.0000\n",
      "Cluster3\t0.0000\t\t0.0125\t\t0.6973\t\t0.9681\t\t0.0000\n",
      "Cluster4\t0.6968\t\t0.0588\t\t0.5555\t\t0.1463\t\t0.8925\n",
      "Cluster3\t0.0066\t\t0.0706\t\t0.4930\t\t0.6988\t\t0.1716\n",
      "Cluster0\t0.7565\t\t0.4529\t\t0.5000\t\t0.0163\t\t0.3776\n",
      "Cluster0\t0.9854\t\t0.0457\t\t0.6973\t\t0.0000\t\t0.4785\n",
      "Cluster0\t0.7482\t\t0.1412\t\t0.5208\t\t0.0142\t\t0.3580\n",
      "Cluster0\t0.9854\t\t0.0457\t\t0.6973\t\t0.0000\t\t0.4785\n",
      "Cluster0\t0.9854\t\t0.0457\t\t0.6973\t\t0.0000\t\t0.4785\n",
      "Cluster1\t0.0630\t\t0.4705\t\t0.0069\t\t0.0163\t\t0.0441\n",
      "Cluster0\t0.7565\t\t0.4529\t\t0.5000\t\t0.0163\t\t0.3776\n",
      "Cluster3\t0.0000\t\t0.0353\t\t0.5555\t\t0.8308\t\t0.5542\n",
      "Cluster0\t0.0868\t\t0.0000\t\t0.0000\t\t0.0029\t\t0.0000\n",
      "Cluster4\t0.0000\t\t0.0374\t\t0.0884\t\t0.2068\t\t0.7837\n",
      "Cluster0\t0.7051\t\t0.2206\t\t0.4930\t\t0.0142\t\t0.3433\n",
      "Cluster0\t0.7565\t\t0.4529\t\t0.5000\t\t0.0163\t\t0.3776\n",
      "Cluster4\t0.6968\t\t0.0588\t\t0.5555\t\t0.1463\t\t0.8925\n",
      "Cluster3\t0.0095\t\t0.0312\t\t0.4593\t\t0.7049\t\t0.5205\n",
      "Cluster0\t0.9854\t\t0.0457\t\t0.6973\t\t0.0000\t\t0.4785\n",
      "Cluster4\t0.6968\t\t0.0588\t\t0.5555\t\t0.1463\t\t0.8925\n",
      "Cluster1\t0.0962\t\t0.8587\t\t0.0278\t\t0.0548\t\t0.0883\n",
      "Cluster1\t0.0996\t\t0.6707\t\t0.0281\t\t0.1020\t\t0.2407\n",
      "Cluster0\t0.9854\t\t0.0457\t\t0.6973\t\t0.0000\t\t0.4785\n",
      "Cluster1\t0.0845\t\t0.5947\t\t0.0098\t\t0.0230\t\t0.0555\n",
      "Cluster1\t0.0516\t\t0.6197\t\t0.0295\t\t0.0546\t\t0.0694\n",
      "Cluster3\t0.0000\t\t0.0125\t\t0.6973\t\t0.9681\t\t0.0000\n",
      "Cluster1\t0.0188\t\t0.3494\t\t0.0000\t\t0.0230\t\t0.0416\n",
      "Cluster1\t0.0516\t\t0.6197\t\t0.0295\t\t0.0546\t\t0.0694\n",
      "Cluster2\t0.5689\t\t0.0552\t\t0.8561\t\t0.6784\t\t0.7288\n",
      "Cluster3\t0.0000\t\t0.0125\t\t0.6973\t\t0.9681\t\t0.0000\n",
      "Cluster2\t0.6968\t\t0.0412\t\t0.9861\t\t0.6846\t\t0.3384\n",
      "Cluster0\t0.9854\t\t0.0457\t\t0.6973\t\t0.0000\t\t0.4785\n",
      "Cluster1\t0.0716\t\t0.5677\t\t0.3830\t\t0.5329\t\t0.0694\n",
      "Cluster1\t0.0498\t\t0.6852\t\t0.0208\t\t0.0548\t\t0.0785\n",
      "Cluster0\t0.0868\t\t0.0000\t\t0.0000\t\t0.0029\t\t0.0000\n",
      "Cluster3\t0.0365\t\t0.4470\t\t0.5139\t\t0.7232\t\t0.0490\n",
      "Cluster0\t0.9854\t\t0.0457\t\t0.6973\t\t0.0000\t\t0.4785\n",
      "Cluster0\t0.9854\t\t0.0457\t\t0.6973\t\t0.0000\t\t0.4785\n",
      "Cluster2\t0.6968\t\t0.0412\t\t0.9861\t\t0.6846\t\t0.3384\n",
      "Cluster0\t0.7034\t\t0.0941\t\t0.4930\t\t0.0142\t\t0.5100\n",
      "Cluster0\t0.6407\t\t0.4730\t\t0.4422\t\t0.0431\t\t0.3323\n",
      "Cluster0\t0.9854\t\t0.0457\t\t0.6973\t\t0.0000\t\t0.4785\n",
      "Cluster0\t0.9854\t\t0.0457\t\t0.6973\t\t0.0000\t\t0.4785\n",
      "Cluster2\t0.6968\t\t0.0412\t\t0.9861\t\t0.6846\t\t0.3384\n",
      "Cluster0\t0.9854\t\t0.0457\t\t0.6973\t\t0.0000\t\t0.4785\n",
      "Cluster3\t0.0000\t\t0.0125\t\t0.6973\t\t0.9681\t\t0.0000\n",
      "Cluster0\t0.9854\t\t0.0457\t\t0.6973\t\t0.0000\t\t0.4785\n",
      "Cluster0\t0.9854\t\t0.0457\t\t0.6973\t\t0.0000\t\t0.4785\n",
      "Cluster1\t0.1206\t\t0.7900\t\t0.0454\t\t0.0564\t\t0.0881\n",
      "Cluster0\t0.9854\t\t0.0457\t\t0.6973\t\t0.0000\t\t0.4785\n",
      "Cluster2\t0.5893\t\t0.0960\t\t0.8108\t\t0.6170\t\t0.3844\n",
      "Cluster4\t0.0094\t\t0.0873\t\t0.0000\t\t0.0201\t\t0.2427\n",
      "Cluster3\t0.0116\t\t0.0118\t\t0.5000\t\t0.7171\t\t0.0834\n",
      "Cluster0\t0.9854\t\t0.0457\t\t0.6973\t\t0.0000\t\t0.4785\n",
      "Cluster1\t0.0498\t\t0.6852\t\t0.0208\t\t0.0548\t\t0.0785\n",
      "Cluster4\t0.0094\t\t0.0873\t\t0.0000\t\t0.0201\t\t0.2427\n",
      "Cluster1\t0.0962\t\t0.8587\t\t0.0278\t\t0.0548\t\t0.0883\n",
      "Cluster0\t0.9854\t\t0.0457\t\t0.6973\t\t0.0000\t\t0.4785\n",
      "Cluster1\t0.0614\t\t0.5147\t\t0.0278\t\t0.1097\t\t0.1815\n",
      "Cluster1\t0.0516\t\t0.6197\t\t0.0295\t\t0.0546\t\t0.0694\n",
      "Cluster0\t0.0868\t\t0.0000\t\t0.0000\t\t0.0029\t\t0.0000\n",
      "Cluster2\t0.6968\t\t0.0412\t\t0.9861\t\t0.6846\t\t0.3384\n",
      "Cluster3\t0.0000\t\t0.0125\t\t0.6973\t\t0.9681\t\t0.0000\n",
      "Cluster1\t0.0474\t\t0.7132\t\t0.0170\t\t0.0564\t\t0.0681\n",
      "Cluster0\t0.9854\t\t0.0457\t\t0.6973\t\t0.0000\t\t0.4785\n",
      "Cluster3\t0.0249\t\t0.0853\t\t0.5000\t\t0.7557\t\t0.1324\n",
      "Cluster3\t0.0000\t\t0.0125\t\t0.6973\t\t0.9681\t\t0.0000\n",
      "Cluster1\t0.0845\t\t0.5947\t\t0.0098\t\t0.0230\t\t0.0555\n",
      "Cluster0\t0.9854\t\t0.0457\t\t0.6973\t\t0.0000\t\t0.4785\n",
      "Cluster1\t0.0382\t\t0.3235\t\t0.0069\t\t0.0873\t\t0.1618\n",
      "Cluster1\t0.0516\t\t0.6197\t\t0.0295\t\t0.0546\t\t0.0694\n",
      "Cluster3\t0.0000\t\t0.0125\t\t0.6973\t\t0.9681\t\t0.0000\n",
      "Cluster0\t0.9854\t\t0.0457\t\t0.6973\t\t0.0000\t\t0.4785\n",
      "Cluster1\t0.0727\t\t0.1539\t\t0.0393\t\t0.0201\t\t0.0277\n",
      "Cluster4\t0.0164\t\t0.0042\t\t0.0098\t\t0.0460\t\t0.1179\n",
      "Cluster1\t0.0879\t\t0.5470\t\t0.0486\t\t0.0528\t\t0.0687\n",
      "Cluster3\t0.0083\t\t0.1970\t\t0.4930\t\t0.6988\t\t0.0049\n",
      "Cluster4\t0.0094\t\t0.0873\t\t0.0000\t\t0.0201\t\t0.2427\n",
      "Cluster3\t0.0000\t\t0.0125\t\t0.6973\t\t0.9681\t\t0.0000\n",
      "Cluster0\t0.9854\t\t0.0457\t\t0.6973\t\t0.0000\t\t0.4785\n",
      "Cluster4\t0.6968\t\t0.0588\t\t0.5555\t\t0.1463\t\t0.8925\n",
      "Cluster4\t0.0249\t\t0.0882\t\t0.0069\t\t0.0873\t\t0.2452\n",
      "Cluster4\t0.6177\t\t0.3914\t\t0.4593\t\t0.1327\t\t0.7608\n",
      "Cluster4\t0.0094\t\t0.0873\t\t0.0000\t\t0.0201\t\t0.2427\n",
      "Cluster0\t0.0868\t\t0.0000\t\t0.0000\t\t0.0029\t\t0.0000\n",
      "Cluster0\t0.7582\t\t0.0323\t\t0.4930\t\t0.0020\t\t0.3384\n",
      "Cluster1\t0.0833\t\t0.9150\t\t0.0196\t\t0.0603\t\t0.0867\n",
      "Cluster0\t0.9854\t\t0.0457\t\t0.6973\t\t0.0000\t\t0.4785\n",
      "Cluster0\t0.7399\t\t0.0588\t\t0.5069\t\t0.0203\t\t0.4168\n",
      "Cluster0\t0.9854\t\t0.0457\t\t0.6973\t\t0.0000\t\t0.4785\n",
      "Cluster1\t0.0853\t\t0.8548\t\t0.0227\t\t0.0564\t\t0.0761\n",
      "Cluster3\t0.0000\t\t0.0125\t\t0.6973\t\t0.9681\t\t0.0000\n",
      "Cluster3\t0.0083\t\t0.1970\t\t0.4930\t\t0.6988\t\t0.0049\n",
      "Cluster1\t0.0117\t\t0.2662\t\t0.0000\t\t0.0201\t\t0.0069\n",
      "Cluster0\t0.7482\t\t0.1412\t\t0.5208\t\t0.0142\t\t0.3580\n",
      "Cluster2\t0.6968\t\t0.0412\t\t0.9861\t\t0.6846\t\t0.3384\n",
      "Cluster0\t0.9854\t\t0.0457\t\t0.6973\t\t0.0000\t\t0.4785\n",
      "Cluster0\t0.7399\t\t0.0588\t\t0.5069\t\t0.0203\t\t0.4168\n",
      "Cluster3\t0.0000\t\t0.0125\t\t0.6973\t\t0.9681\t\t0.0000\n",
      "Cluster1\t0.0516\t\t0.6197\t\t0.0295\t\t0.0546\t\t0.0694\n",
      "Cluster0\t0.9854\t\t0.0457\t\t0.6973\t\t0.0000\t\t0.4785\n",
      "Cluster0\t0.9854\t\t0.0457\t\t0.6973\t\t0.0000\t\t0.4785\n",
      "Cluster0\t0.9854\t\t0.0457\t\t0.6973\t\t0.0000\t\t0.4785\n",
      "Cluster0\t0.9854\t\t0.0457\t\t0.6973\t\t0.0000\t\t0.4785\n",
      "Cluster0\t0.7217\t\t0.1088\t\t0.5000\t\t0.0711\t\t0.4708\n",
      "Cluster0\t0.9854\t\t0.0457\t\t0.6973\t\t0.0000\t\t0.4785\n",
      "Cluster3\t0.0596\t\t0.4202\t\t0.4139\t\t0.5855\t\t0.0440\n",
      "Cluster1\t0.0730\t\t0.5058\t\t0.0139\t\t0.0325\t\t0.0539\n",
      "Cluster3\t0.0000\t\t0.0125\t\t0.6973\t\t0.9681\t\t0.0000\n",
      "Cluster4\t0.0365\t\t0.4647\t\t0.0833\t\t0.1849\t\t0.6032\n",
      "Cluster3\t0.0488\t\t0.3602\t\t0.4082\t\t0.5855\t\t0.1241\n",
      "Cluster0\t0.9854\t\t0.0457\t\t0.6973\t\t0.0000\t\t0.4785\n",
      "Cluster4\t0.6968\t\t0.0588\t\t0.5555\t\t0.1463\t\t0.8925\n",
      "Cluster4\t0.6968\t\t0.0588\t\t0.5555\t\t0.1463\t\t0.8925\n",
      "Cluster1\t0.0640\t\t0.5859\t\t0.0615\t\t0.1490\t\t0.4528\n",
      "Cluster3\t0.0000\t\t0.0353\t\t0.5555\t\t0.8308\t\t0.5542\n",
      "Cluster1\t0.0730\t\t0.5058\t\t0.0139\t\t0.0325\t\t0.0539\n",
      "Cluster4\t0.6968\t\t0.0588\t\t0.5555\t\t0.1463\t\t0.8925\n",
      "Cluster2\t0.6968\t\t0.0412\t\t0.9861\t\t0.6846\t\t0.3384\n",
      "Cluster0\t0.9854\t\t0.0457\t\t0.6973\t\t0.0000\t\t0.4785\n",
      "Cluster1\t0.0516\t\t0.6197\t\t0.0295\t\t0.0546\t\t0.0694\n",
      "Cluster1\t0.0516\t\t0.6197\t\t0.0295\t\t0.0546\t\t0.0694\n",
      "Cluster0\t0.9854\t\t0.0457\t\t0.6973\t\t0.0000\t\t0.4785\n",
      "Cluster0\t0.9854\t\t0.0457\t\t0.6973\t\t0.0000\t\t0.4785\n",
      "Cluster4\t0.0596\t\t0.4346\t\t0.0624\t\t0.1460\t\t0.4965\n",
      "Cluster0\t0.7084\t\t0.0353\t\t0.5000\t\t0.0325\t\t0.4218\n",
      "Cluster0\t0.9854\t\t0.0457\t\t0.6973\t\t0.0000\t\t0.4785\n",
      "Cluster3\t0.0000\t\t0.0125\t\t0.6973\t\t0.9681\t\t0.0000\n",
      "Cluster4\t0.6042\t\t0.0696\t\t0.4649\t\t0.1360\t\t0.7928\n",
      "Cluster0\t0.9854\t\t0.0457\t\t0.6973\t\t0.0000\t\t0.4785\n",
      "Cluster3\t0.0000\t\t0.0353\t\t0.5555\t\t0.8308\t\t0.5542\n",
      "Cluster0\t0.9854\t\t0.0457\t\t0.6973\t\t0.0000\t\t0.4785\n",
      "Cluster1\t0.0845\t\t0.5947\t\t0.0098\t\t0.0230\t\t0.0555\n",
      "Cluster0\t0.0868\t\t0.0000\t\t0.0000\t\t0.0029\t\t0.0000\n",
      "Cluster1\t0.0716\t\t0.5677\t\t0.3830\t\t0.5329\t\t0.0694\n",
      "Cluster3\t0.0000\t\t0.0353\t\t0.5555\t\t0.8308\t\t0.5542\n",
      "Cluster3\t0.0066\t\t0.0706\t\t0.4930\t\t0.6988\t\t0.1716\n",
      "Cluster2\t0.6968\t\t0.0412\t\t0.9861\t\t0.6846\t\t0.3384\n",
      "Cluster3\t0.0133\t\t0.2559\t\t0.4930\t\t0.7008\t\t0.0294\n",
      "Cluster0\t0.9854\t\t0.0457\t\t0.6973\t\t0.0000\t\t0.4785\n",
      "Cluster1\t0.1112\t\t0.5294\t\t0.0347\t\t0.0305\t\t0.0588\n",
      "Cluster0\t0.9854\t\t0.0457\t\t0.6973\t\t0.0000\t\t0.4785\n",
      "Cluster3\t0.0000\t\t0.0125\t\t0.6973\t\t0.9681\t\t0.0000\n",
      "Cluster3\t0.0000\t\t0.0125\t\t0.6973\t\t0.9681\t\t0.0000\n",
      "Cluster0\t0.9854\t\t0.0457\t\t0.6973\t\t0.0000\t\t0.4785\n",
      "Cluster3\t0.0000\t\t0.0353\t\t0.5555\t\t0.8308\t\t0.5542\n",
      "Cluster0\t0.7565\t\t0.4529\t\t0.5000\t\t0.0163\t\t0.3776\n",
      "Cluster1\t0.0149\t\t0.2500\t\t0.0000\t\t0.0284\t\t0.1765\n",
      "Cluster2\t0.6968\t\t0.0412\t\t0.9861\t\t0.6846\t\t0.3384\n",
      "Cluster2\t0.6968\t\t0.0412\t\t0.9861\t\t0.6846\t\t0.3384\n",
      "Cluster2\t0.6968\t\t0.0412\t\t0.9861\t\t0.6846\t\t0.3384\n",
      "Cluster1\t0.0845\t\t0.5947\t\t0.0098\t\t0.0230\t\t0.0555\n",
      "Cluster4\t0.0116\t\t0.0294\t\t0.0694\t\t0.1788\t\t0.6375\n",
      "Cluster4\t0.6968\t\t0.0588\t\t0.5555\t\t0.1463\t\t0.8925\n",
      "Cluster1\t0.0582\t\t0.5379\t\t0.0057\t\t0.0249\t\t0.0400\n",
      "Cluster0\t0.5197\t\t0.2287\t\t0.3535\t\t0.0689\t\t0.3433\n",
      "Cluster4\t0.0298\t\t0.0744\t\t0.0113\t\t0.0979\t\t0.2683\n",
      "Cluster0\t0.9854\t\t0.0457\t\t0.6973\t\t0.0000\t\t0.4785\n",
      "Cluster3\t0.0066\t\t0.0706\t\t0.4930\t\t0.6988\t\t0.1716\n",
      "Cluster0\t0.9854\t\t0.0457\t\t0.6973\t\t0.0000\t\t0.4785\n",
      "Cluster0\t0.7482\t\t0.1412\t\t0.5208\t\t0.0142\t\t0.3580\n",
      "Cluster4\t0.0298\t\t0.0744\t\t0.0113\t\t0.0979\t\t0.2683\n",
      "Cluster4\t0.0000\t\t0.0374\t\t0.0884\t\t0.2068\t\t0.7837\n",
      "Cluster3\t0.0657\t\t0.5095\t\t0.3732\t\t0.5372\t\t0.1110\n",
      "Cluster1\t0.0727\t\t0.1539\t\t0.0393\t\t0.0201\t\t0.0277\n",
      "Cluster1\t0.0833\t\t0.9150\t\t0.0196\t\t0.0603\t\t0.0867\n",
      "Cluster1\t0.0833\t\t0.9150\t\t0.0196\t\t0.0603\t\t0.0867\n",
      "Cluster1\t0.0664\t\t0.4823\t\t0.0069\t\t0.0305\t\t0.2109\n",
      "Cluster4\t0.0094\t\t0.0873\t\t0.0000\t\t0.0201\t\t0.2427\n",
      "Cluster3\t0.0000\t\t0.0353\t\t0.5555\t\t0.8308\t\t0.5542\n",
      "Cluster0\t0.9854\t\t0.0457\t\t0.6973\t\t0.0000\t\t0.4785\n",
      "Cluster3\t0.0000\t\t0.0125\t\t0.6973\t\t0.9681\t\t0.0000\n",
      "Cluster3\t0.0066\t\t0.0706\t\t0.4930\t\t0.6988\t\t0.1716\n",
      "Cluster0\t0.9854\t\t0.0457\t\t0.6973\t\t0.0000\t\t0.4785\n",
      "Cluster3\t0.0000\t\t0.0125\t\t0.6973\t\t0.9681\t\t0.0000\n",
      "Cluster1\t0.0516\t\t0.6197\t\t0.0295\t\t0.0546\t\t0.0694\n",
      "Cluster0\t0.7565\t\t0.4529\t\t0.5000\t\t0.0163\t\t0.3776\n",
      "Cluster0\t0.9854\t\t0.0457\t\t0.6973\t\t0.0000\t\t0.4785\n",
      "Cluster3\t0.0000\t\t0.0125\t\t0.6973\t\t0.9681\t\t0.0000\n",
      "Cluster4\t0.6968\t\t0.0588\t\t0.5555\t\t0.1463\t\t0.8925\n",
      "Cluster0\t0.9854\t\t0.0457\t\t0.6973\t\t0.0000\t\t0.4785\n",
      "Cluster0\t0.9854\t\t0.0457\t\t0.6973\t\t0.0000\t\t0.4785\n",
      "Cluster0\t0.9854\t\t0.0457\t\t0.6973\t\t0.0000\t\t0.4785\n",
      "Cluster0\t0.9854\t\t0.0457\t\t0.6973\t\t0.0000\t\t0.4785\n",
      "Cluster1\t0.0845\t\t0.5947\t\t0.0098\t\t0.0230\t\t0.0555\n",
      "Cluster0\t0.7333\t\t0.4705\t\t0.5139\t\t0.0386\t\t0.3874\n",
      "Cluster0\t0.9854\t\t0.0457\t\t0.6973\t\t0.0000\t\t0.4785\n",
      "Cluster1\t0.0727\t\t0.1539\t\t0.0393\t\t0.0201\t\t0.0277\n",
      "Cluster0\t0.9854\t\t0.0457\t\t0.6973\t\t0.0000\t\t0.4785\n",
      "Cluster0\t0.7333\t\t0.4705\t\t0.5139\t\t0.0386\t\t0.3874\n",
      "Cluster3\t0.0000\t\t0.0125\t\t0.6973\t\t0.9681\t\t0.0000\n",
      "Cluster3\t0.0000\t\t0.0125\t\t0.6973\t\t0.9681\t\t0.0000\n",
      "Cluster3\t0.0000\t\t0.0353\t\t0.5555\t\t0.8308\t\t0.5542\n",
      "Cluster0\t0.7565\t\t0.4529\t\t0.5000\t\t0.0163\t\t0.3776\n",
      "Cluster1\t0.0730\t\t0.5058\t\t0.0139\t\t0.0325\t\t0.0539\n",
      "Cluster0\t0.9854\t\t0.0457\t\t0.6973\t\t0.0000\t\t0.4785\n",
      "Cluster0\t0.0868\t\t0.0000\t\t0.0000\t\t0.0029\t\t0.0000\n",
      "Cluster1\t0.0474\t\t0.7132\t\t0.0170\t\t0.0564\t\t0.0681\n",
      "Cluster4\t0.0094\t\t0.0873\t\t0.0000\t\t0.0201\t\t0.2427\n",
      "Cluster1\t0.0610\t\t0.6219\t\t0.0227\t\t0.1028\t\t0.1722\n",
      "Cluster0\t0.9854\t\t0.0457\t\t0.6973\t\t0.0000\t\t0.4785\n",
      "Cluster3\t0.0116\t\t0.0118\t\t0.5000\t\t0.7171\t\t0.0834\n",
      "Cluster0\t0.9854\t\t0.0457\t\t0.6973\t\t0.0000\t\t0.4785\n",
      "Cluster1\t0.0879\t\t0.5470\t\t0.0486\t\t0.0528\t\t0.0687\n",
      "Cluster4\t0.0094\t\t0.0873\t\t0.0000\t\t0.0201\t\t0.2427\n",
      "Cluster3\t0.0514\t\t0.1176\t\t0.5208\t\t0.6988\t\t0.0196\n",
      "Cluster1\t0.0399\t\t0.5344\t\t0.3634\t\t0.5329\t\t0.1769\n",
      "Cluster4\t0.6968\t\t0.0588\t\t0.5555\t\t0.1463\t\t0.8925\n",
      "Cluster4\t0.6968\t\t0.0588\t\t0.5555\t\t0.1463\t\t0.8925\n",
      "Cluster3\t0.0000\t\t0.0125\t\t0.6973\t\t0.9681\t\t0.0000\n",
      "Cluster1\t0.0845\t\t0.5947\t\t0.0098\t\t0.0230\t\t0.0555\n",
      "Cluster0\t0.9854\t\t0.0457\t\t0.6973\t\t0.0000\t\t0.4785\n",
      "Cluster1\t0.0664\t\t0.4823\t\t0.0069\t\t0.0305\t\t0.2109\n",
      "Cluster3\t0.0000\t\t0.0125\t\t0.6973\t\t0.9681\t\t0.0000\n",
      "Cluster1\t0.0664\t\t0.4823\t\t0.0069\t\t0.0305\t\t0.2109\n",
      "Cluster2\t0.6968\t\t0.0412\t\t0.9861\t\t0.6846\t\t0.3384\n",
      "Cluster1\t0.0853\t\t0.8548\t\t0.0227\t\t0.0564\t\t0.0761\n",
      "Cluster4\t0.0094\t\t0.0873\t\t0.0000\t\t0.0201\t\t0.2427\n",
      "Cluster0\t0.5838\t\t0.2329\t\t0.4763\t\t0.0232\t\t0.3043\n",
      "Cluster0\t0.9854\t\t0.0457\t\t0.6973\t\t0.0000\t\t0.4785\n",
      "Cluster1\t0.0498\t\t0.6852\t\t0.0208\t\t0.0548\t\t0.0785\n",
      "Cluster0\t0.9854\t\t0.0457\t\t0.6973\t\t0.0000\t\t0.4785\n",
      "Cluster0\t0.6177\t\t0.2689\t\t0.4252\t\t0.0232\t\t0.2963\n",
      "Cluster3\t0.0244\t\t0.0744\t\t0.4819\t\t0.6269\t\t0.1121\n",
      "Cluster0\t0.9854\t\t0.0457\t\t0.6973\t\t0.0000\t\t0.4785\n",
      "Cluster1\t0.1138\t\t0.7228\t\t0.0340\t\t0.0614\t\t0.1361\n",
      "Cluster3\t0.0365\t\t0.4470\t\t0.5139\t\t0.7232\t\t0.0490\n",
      "Cluster0\t0.9854\t\t0.0457\t\t0.6973\t\t0.0000\t\t0.4785\n",
      "Cluster3\t0.0000\t\t0.0125\t\t0.6973\t\t0.9681\t\t0.0000\n",
      "Cluster2\t0.5798\t\t0.2353\t\t0.8051\t\t0.5722\t\t0.3003\n",
      "Cluster0\t0.7565\t\t0.4529\t\t0.5000\t\t0.0163\t\t0.3776\n",
      "Cluster0\t0.9854\t\t0.0457\t\t0.6973\t\t0.0000\t\t0.4785\n",
      "Cluster3\t0.0273\t\t0.2344\t\t0.3162\t\t0.5062\t\t0.1799\n",
      "Cluster1\t0.0664\t\t0.4823\t\t0.0069\t\t0.0305\t\t0.2109\n",
      "Cluster4\t0.0164\t\t0.0042\t\t0.0098\t\t0.0460\t\t0.1179\n",
      "Cluster4\t0.5713\t\t0.4159\t\t0.4174\t\t0.1250\t\t0.6727\n",
      "Cluster0\t0.9854\t\t0.0457\t\t0.6973\t\t0.0000\t\t0.4785\n",
      "Cluster0\t0.7565\t\t0.4529\t\t0.5000\t\t0.0163\t\t0.3776\n",
      "Cluster2\t0.6968\t\t0.0412\t\t0.9861\t\t0.6846\t\t0.3384\n",
      "Cluster3\t0.0000\t\t0.0125\t\t0.6973\t\t0.9681\t\t0.0000\n",
      "Cluster3\t0.0083\t\t0.1970\t\t0.4930\t\t0.6988\t\t0.0049\n",
      "Cluster3\t0.0000\t\t0.0353\t\t0.5555\t\t0.8308\t\t0.5542\n",
      "Cluster3\t0.0000\t\t0.0125\t\t0.6973\t\t0.9681\t\t0.0000\n",
      "Cluster3\t0.0000\t\t0.0353\t\t0.5555\t\t0.8308\t\t0.5542\n",
      "Cluster0\t0.9854\t\t0.0457\t\t0.6973\t\t0.0000\t\t0.4785\n",
      "Cluster0\t0.9854\t\t0.0457\t\t0.6973\t\t0.0000\t\t0.4785\n",
      "Cluster1\t0.0853\t\t0.8548\t\t0.0227\t\t0.0564\t\t0.0761\n",
      "Cluster0\t0.9854\t\t0.0457\t\t0.6973\t\t0.0000\t\t0.4785\n",
      "Cluster3\t0.0000\t\t0.0125\t\t0.6973\t\t0.9681\t\t0.0000\n",
      "Cluster3\t0.0000\t\t0.0125\t\t0.6973\t\t0.9681\t\t0.0000\n",
      "Cluster0\t0.9854\t\t0.0457\t\t0.6973\t\t0.0000\t\t0.4785\n",
      "Cluster4\t0.0094\t\t0.0873\t\t0.0000\t\t0.0201\t\t0.2427\n",
      "Cluster3\t0.0000\t\t0.0125\t\t0.6973\t\t0.9681\t\t0.0000\n",
      "Cluster1\t0.0894\t\t0.7708\t\t0.0283\t\t0.0581\t\t0.0841\n",
      "Cluster1\t0.0879\t\t0.5470\t\t0.0486\t\t0.0528\t\t0.0687\n",
      "Cluster0\t0.7101\t\t0.2794\t\t0.4930\t\t0.0163\t\t0.3678\n",
      "Cluster1\t0.0935\t\t0.4730\t\t0.0283\t\t0.0249\t\t0.0521\n",
      "Cluster0\t0.0868\t\t0.0000\t\t0.0000\t\t0.0029\t\t0.0000\n",
      "Cluster0\t0.9854\t\t0.0457\t\t0.6973\t\t0.0000\t\t0.4785\n",
      "Cluster0\t0.7084\t\t0.0353\t\t0.5000\t\t0.0325\t\t0.4218\n",
      "Cluster0\t0.7101\t\t0.1176\t\t0.5000\t\t0.0163\t\t0.3531\n",
      "Cluster4\t0.6968\t\t0.0588\t\t0.5555\t\t0.1463\t\t0.8925\n",
      "Cluster3\t0.0000\t\t0.0125\t\t0.6973\t\t0.9681\t\t0.0000\n",
      "Cluster1\t0.0766\t\t0.7068\t\t0.3338\t\t0.4985\t\t0.1272\n",
      "Cluster3\t0.0000\t\t0.0353\t\t0.5555\t\t0.8308\t\t0.5542\n",
      "Cluster0\t0.9854\t\t0.0457\t\t0.6973\t\t0.0000\t\t0.4785\n",
      "Cluster0\t0.9854\t\t0.0457\t\t0.6973\t\t0.0000\t\t0.4785\n",
      "Cluster1\t0.0845\t\t0.5947\t\t0.0098\t\t0.0230\t\t0.0555\n",
      "Cluster2\t0.5689\t\t0.0552\t\t0.8561\t\t0.6784\t\t0.7288\n",
      "Cluster1\t0.0786\t\t0.7228\t\t0.0737\t\t0.1642\t\t0.5245\n",
      "Cluster1\t0.0657\t\t0.5220\t\t0.0687\t\t0.1566\t\t0.5028\n",
      "Cluster1\t0.0927\t\t0.4783\t\t0.0295\t\t0.0431\t\t0.1734\n",
      "Cluster0\t0.0868\t\t0.0000\t\t0.0000\t\t0.0029\t\t0.0000\n",
      "Cluster0\t0.6407\t\t0.4730\t\t0.4422\t\t0.0431\t\t0.3323\n",
      "Cluster4\t0.0164\t\t0.0042\t\t0.0098\t\t0.0460\t\t0.1179\n",
      "Cluster1\t0.0382\t\t0.3235\t\t0.0069\t\t0.0873\t\t0.1618\n",
      "Cluster0\t0.6218\t\t0.1849\t\t0.4309\t\t0.0249\t\t0.3043\n"
     ]
    }
   ],
   "source": [
    "print \"Assignment\\tSim_C0\\t\\tSim_C1\\t\\tSim_C2\\t\\tSim_C3\\t\\tSim_C4\"\n",
    "for instance in MG_test:\n",
    "    #compute the similarity of each centroids\n",
    "    cos_list = np.array(np.zeros(len(centroids5)), dtype=float)\n",
    "    for i in range(len(centroids5)):\n",
    "        cos_list[i] = Cosine(centroids5[i], instance)\n",
    "    print \"Cluster%d\\t%.4f\\t\\t%.4f\\t\\t%.4f\\t\\t%.4f\\t\\t%.4f\"%(cos_list.argmax(), cos_list[0], cos_list[1],cos_list[2],cos_list[3],cos_list[4])"
   ]
  },
  {
   "cell_type": "code",
   "execution_count": 104,
   "metadata": {
    "collapsed": true
   },
   "outputs": [],
   "source": [
    "# Section 5. Item-Based collaborative filtering"
   ]
  },
  {
   "cell_type": "code",
   "execution_count": 105,
   "metadata": {
    "collapsed": false
   },
   "outputs": [],
   "source": [
    "# Prepare data\n",
    "movie_names = np.genfromtxt(\"u.item\", delimiter=\"|\", usecols=(1), dtype=('|S50'))"
   ]
  },
  {
   "cell_type": "code",
   "execution_count": 106,
   "metadata": {
    "collapsed": false
   },
   "outputs": [
    {
     "data": {
      "text/plain": [
       "array(['Toy Story (1995)', 'GoldenEye (1995)', 'Four Rooms (1995)', ...,\n",
       "       'Sliding Doors (1998)', 'You So Crazy (1994)',\n",
       "       'Scream of Stone (Schrei aus Stein) (1991)'], \n",
       "      dtype='|S50')"
      ]
     },
     "execution_count": 106,
     "metadata": {},
     "output_type": "execute_result"
    }
   ],
   "source": [
    "movie_names"
   ]
  },
  {
   "cell_type": "code",
   "execution_count": 107,
   "metadata": {
    "collapsed": false
   },
   "outputs": [
    {
     "data": {
      "text/plain": [
       "(1682L,)"
      ]
     },
     "execution_count": 107,
     "metadata": {},
     "output_type": "execute_result"
    }
   ],
   "source": [
    "movie_names.shape"
   ]
  },
  {
   "cell_type": "code",
   "execution_count": 108,
   "metadata": {
    "collapsed": true
   },
   "outputs": [],
   "source": [
    "from numpy import *\n",
    "from numpy import linalg as la\n",
    "import numpy as np\n",
    "\n",
    "def ecludSim(inA,inB):\n",
    "    return 1.0 / (1.0 + la.norm(inA - inB))\n",
    "\n",
    "def pearsSim(inA,inB):\n",
    "    if len(inA) < 3 : return 1.0\n",
    "    return 0.5 + 0.5 * corrcoef(inA, inB, rowvar = 0)[0][1]\n",
    "\n",
    "def cosSim(inA,inB):\n",
    "    num = float(inA.T * inB)\n",
    "    denom = la.norm(inA)*la.norm(inB)\n",
    "    return 0.5 + 0.5 * (num / denom)\n",
    "\n",
    "def standEst(dataMat, user, simMeas, item):\n",
    "    n = shape(dataMat)[1]\n",
    "    simTotal = 0.0; ratSimTotal = 0.0\n",
    "    for j in range(n):\n",
    "        userRating = dataMat[user,j]\n",
    "        if userRating == 0: continue\n",
    "        overLap = nonzero(logical_and(dataMat[:,item]>0, \\\n",
    "                                      dataMat[:,j]>0))[0]\n",
    "        if len(overLap) == 0: similarity = 0\n",
    "        else: similarity = simMeas(dataMat[overLap,item], \\\n",
    "                                   dataMat[overLap,j])\n",
    "        #print 'the %d and %d similarity is: %f' % (item, j, similarity)\n",
    "        simTotal += similarity\n",
    "        ratSimTotal += similarity * userRating\n",
    "    if simTotal == 0: return 0\n",
    "    else: return ratSimTotal/simTotal\n",
    "    \n",
    "def svdEst(dataMat, user, simMeas, item):\n",
    "    n = shape(dataMat)[1]\n",
    "    simTotal = 0.0; ratSimTotal = 0.0\n",
    "    data=mat(dataMat)\n",
    "    U,Sigma,VT = la.svd(data)\n",
    "    Sig4 = mat(eye(4)*Sigma[:4]) #arrange Sig4 into a diagonal matrix\n",
    "    xformedItems = data.T * U[:,:4] * Sig4.I  #create transformed items\n",
    "    for j in range(n):\n",
    "        userRating = data[user,j]\n",
    "        if userRating == 0 or j==item: continue\n",
    "        similarity = simMeas(xformedItems[item,:].T,\\\n",
    "                             xformedItems[j,:].T)\n",
    "        #print 'the %d and %d similarity is: %f' % (item, j, similarity)\n",
    "        simTotal += similarity\n",
    "        ratSimTotal += similarity * userRating\n",
    "    if simTotal == 0: return 0\n",
    "    else: return ratSimTotal/simTotal\n",
    "\n",
    "# This function is not needed for Assignment 4, but may be useful for experimentation\n",
    "def recommend(dataMat, user, N=3, simMeas=cosSim, estMethod=standEst):\n",
    "    unratedItems = nonzero(dataMat[user,:].A==0)[1] #find unrated items \n",
    "    if len(unratedItems) == 0: return 'you rated everything'\n",
    "    itemScores = []\n",
    "    for item in unratedItems:\n",
    "        estimatedScore = estMethod(dataMat, user, simMeas, item)\n",
    "        itemScores.append((item, estimatedScore))\n",
    "    return sorted(itemScores, key=lambda jj: jj[1], reverse=True)[:N]\n",
    "\n",
    "# This function performs cross-validation on a single user based on the test_ratio\n",
    "# For example, with test_ratio = 0.2, 5-fold x-validation is performed where in each fold, \n",
    "# 20 percent of rated items are withheld and the rest are used to estimate the withheld ratings\n",
    "\n",
    "def cross_validate_user(dataMat, user, test_ratio, estMethod=standEst, simMeas=pearsSim):\n",
    "    number_of_items = np.shape(dataMat)[1]\n",
    "    rated_items_by_user = np.array([i for i in range(number_of_items) if dataMat[user,i]>0])\n",
    "    test_size = test_ratio * len(rated_items_by_user)\n",
    "    test_indices = np.random.randint(0, len(rated_items_by_user), test_size)\n",
    "    withheld_items = rated_items_by_user[test_indices]\n",
    "    original_user_profile = np.copy(dataMat[user])\n",
    "    dataMat[user, withheld_items] = 0 # So that the withheld test items is not used in the rating estimation below\n",
    "    error_u = 0.0\n",
    "    count_u = len(withheld_items)\n",
    "\n",
    "    # Compute absolute error for user u over all test items\n",
    "    for item in withheld_items:\n",
    "        # Estimate rating on the withheld item\n",
    "        estimatedScore = estMethod(dataMat, user, simMeas, item)\n",
    "        error_u = error_u + abs(estimatedScore - original_user_profile[item])\n",
    "        \n",
    "    # Now restore ratings of the withheld items to the user profile\n",
    "    for item in withheld_items:\n",
    "        dataMat[user, item] = original_user_profile[item]\n",
    "\n",
    "    # Return sum of absolute errors and the count of test cases for this user\n",
    "    # Note that these will have to be accumulated for each user to compute MAE\n",
    "    return error_u, count_u"
   ]
  },
  {
   "cell_type": "code",
   "execution_count": 109,
   "metadata": {
    "collapsed": true
   },
   "outputs": [],
   "source": [
    "# Create a function \"test\". This function iterates over all users and for each performs\n",
    "# cross-validation on movies (by calling the provided \"cross_validate_user\" function),\n",
    "# and returns the error information necessary to compute Mean Absolute Error (MAE).\n",
    "# Perform 5-fold cross-validation (20% test-ratio) and compute MAE results using standard\n",
    "# item-based collaborative filtering (based on the rating prediction function \"standEst\")."
   ]
  },
  {
   "cell_type": "code",
   "execution_count": 110,
   "metadata": {
    "collapsed": true
   },
   "outputs": [],
   "source": [
    "def test(dataMat, test_ratio, estMethod):\n",
    "    # Write this function to iterate over all users and for each perform cross-validation on items by calling\n",
    "    # the above cross-validation function on each user.\n",
    "    # MAE will be the ratio of total error across all test cases to the total number of test cases, for all users\n",
    "    err_total = 0.0\n",
    "    cnt_total = 0\n",
    "    for userID in range(len(dataMat)):\n",
    "        #print userID\n",
    "        err, count = cross_validate_user(dataMat, userID, test_ratio, estMethod=estMethod)\n",
    "        if isnan(err): continue\n",
    "        err_total += err\n",
    "        cnt_total += count\n",
    "    MAE = err_total / float(cnt_total)\n",
    "    print 'Mean Absoloute Error for ',estMethod,' : ', MAE"
   ]
  },
  {
   "cell_type": "code",
   "execution_count": 111,
   "metadata": {
    "collapsed": false
   },
   "outputs": [
    {
     "data": {
      "text/plain": [
       "(943L, 1682L)"
      ]
     },
     "execution_count": 111,
     "metadata": {},
     "output_type": "execute_result"
    }
   ],
   "source": [
    "UR.shape"
   ]
  },
  {
   "cell_type": "code",
   "execution_count": 112,
   "metadata": {
    "collapsed": false
   },
   "outputs": [
    {
     "data": {
      "text/plain": [
       "array([[ 5.,  3.,  4., ...,  0.,  0.,  0.],\n",
       "       [ 4.,  0.,  0., ...,  0.,  0.,  0.],\n",
       "       [ 0.,  0.,  0., ...,  0.,  0.,  0.],\n",
       "       ..., \n",
       "       [ 5.,  0.,  0., ...,  0.,  0.,  0.],\n",
       "       [ 0.,  0.,  0., ...,  0.,  0.,  0.],\n",
       "       [ 0.,  5.,  0., ...,  0.,  0.,  0.]])"
      ]
     },
     "execution_count": 112,
     "metadata": {},
     "output_type": "execute_result"
    }
   ],
   "source": [
    "UR"
   ]
  },
  {
   "cell_type": "code",
   "execution_count": 113,
   "metadata": {
    "collapsed": false
   },
   "outputs": [
    {
     "name": "stderr",
     "output_type": "stream",
     "text": [
      "D:\\Anaconda2\\lib\\site-packages\\ipykernel\\__main__.py:67: DeprecationWarning: using a non-integer number instead of an integer will result in an error in the future\n"
     ]
    },
    {
     "name": "stdout",
     "output_type": "stream",
     "text": [
      "Mean Absoloute Error for  <function standEst at 0x000000000E679CF8>  :  0.799206095239\n"
     ]
    }
   ],
   "source": [
    "test(UR, 0.2, standEst)"
   ]
  },
  {
   "cell_type": "code",
   "execution_count": 114,
   "metadata": {
    "collapsed": true
   },
   "outputs": [],
   "source": [
    "# Create a function \"print_most_similar_movies\" which takes the movie ratings data,\n",
    "# a query movie id, a parameter k for the number of nearest neighbors, and a similarity\n",
    "# metric function, and prints the names of the query movie as well as the names of the\n",
    "# top k most similar movies based on user ratings."
   ]
  },
  {
   "cell_type": "code",
   "execution_count": 115,
   "metadata": {
    "collapsed": true
   },
   "outputs": [],
   "source": [
    "def print_most_similar_movies(dataMat, movies, queryMovie, k, metric=pearsSim):\n",
    "    print 'Selected movie: \\n'\n",
    "    print movies[queryMovie]\n",
    "    \n",
    "    simVec = zeros(dataMat.shape[1])\n",
    "    for movieID in range(dataMat.shape[1]):\n",
    "        if movieID == queryMovie:\n",
    "            continue\n",
    "        simVec[movieID] = metric(dataMat[:,movieID], dataMat[:, queryMovie])\n",
    "    #print jokes[simVec.argsort()[::-1][:k]]\n",
    "    sortedVec = simVec.argsort()[::-1]\n",
    "    print '\\nTop 5 Recommended movies are :\\n'\n",
    "    for i in range(k):\n",
    "        print movies[sortedVec[i]], '\\n__________________________________\\n'"
   ]
  },
  {
   "cell_type": "code",
   "execution_count": 116,
   "metadata": {
    "collapsed": false
   },
   "outputs": [
    {
     "name": "stdout",
     "output_type": "stream",
     "text": [
      "Selected movie: \n",
      "\n",
      "Star Wars (1977)\n",
      "\n",
      "Top 5 Recommended movies are :\n",
      "\n",
      "Return of the Jedi (1983) \n",
      "__________________________________\n",
      "\n",
      "Empire Strikes Back, The (1980) \n",
      "__________________________________\n",
      "\n",
      "Raiders of the Lost Ark (1981) \n",
      "__________________________________\n",
      "\n",
      "Indiana Jones and the Last Crusade (1989) \n",
      "__________________________________\n",
      "\n",
      "Toy Story (1995) \n",
      "__________________________________\n",
      "\n"
     ]
    }
   ],
   "source": [
    "print_most_similar_movies(UR, movie_names, 49, 5, pearsSim)"
   ]
  },
  {
   "cell_type": "code",
   "execution_count": 117,
   "metadata": {
    "collapsed": false
   },
   "outputs": [
    {
     "name": "stdout",
     "output_type": "stream",
     "text": [
      "Selected movie: \n",
      "\n",
      "Forrest Gump (1994)\n",
      "\n",
      "Top 5 Recommended movies are :\n",
      "\n",
      "E.T. the Extra-Terrestrial (1982) \n",
      "__________________________________\n",
      "\n",
      "Apollo 13 (1995) \n",
      "__________________________________\n",
      "\n",
      "Dances with Wolves (1990) \n",
      "__________________________________\n",
      "\n",
      "Raiders of the Lost Ark (1981) \n",
      "__________________________________\n",
      "\n",
      "Back to the Future (1985) \n",
      "__________________________________\n",
      "\n"
     ]
    }
   ],
   "source": [
    "print_most_similar_movies(UR, movie_names, 68, 5, pearsSim)"
   ]
  },
  {
   "cell_type": "code",
   "execution_count": 118,
   "metadata": {
    "collapsed": true
   },
   "outputs": [],
   "source": [
    "# End of Data Analysis"
   ]
  },
  {
   "cell_type": "code",
   "execution_count": null,
   "metadata": {
    "collapsed": true
   },
   "outputs": [],
   "source": []
  }
 ],
 "metadata": {
  "kernelspec": {
   "display_name": "Python 2",
   "language": "python",
   "name": "python2"
  },
  "language_info": {
   "codemirror_mode": {
    "name": "ipython",
    "version": 2
   },
   "file_extension": ".py",
   "mimetype": "text/x-python",
   "name": "python",
   "nbconvert_exporter": "python",
   "pygments_lexer": "ipython2",
   "version": "2.7.11"
  }
 },
 "nbformat": 4,
 "nbformat_minor": 0
}
