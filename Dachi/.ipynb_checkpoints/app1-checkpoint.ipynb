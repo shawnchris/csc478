{
 "cells": [
  {
   "cell_type": "code",
   "execution_count": 13,
   "metadata": {
    "collapsed": true
   },
   "outputs": [],
   "source": [
    "# CSC478 Final Project Application Part 1\n",
    "import os\n",
    "import numpy as np\n",
    "import scipy as sp\n",
    "import pandas as pd\n",
    "import matplotlib.pyplot as plt"
   ]
  },
  {
   "cell_type": "code",
   "execution_count": 14,
   "metadata": {
    "collapsed": false
   },
   "outputs": [],
   "source": [
    "# Load movieLens data\n",
    "os.chdir('/Users/Dachi/Dropbox/5_Career/DePaul/CSC478_ProgrammingDataMiningApp/Project')\n",
    "path = './Movielens'\n",
    "os.chdir(path)\n",
    "users = pd.read_table('u.user',delimiter='|',header=None,names=[\"id\",\"age\",\"gender\",\"job\",\"zip code\"])\n",
    "movies = pd.read_table('u.item',delimiter='|',header=None, names=[\"id\",\"title\",\"rl_date\",\"vrl_date\",\"url\",\n",
    "                                                                 \"unknown\",\"Action\",\"Adventure\",\"Animation\",\n",
    "                                                                 \"Children's\",\"Comedy\",\"Crime\",\"Documentary\",\n",
    "                                                                 \"Drama\",\"Fantasy\",\"Film-Noir\",\"Horror\",\n",
    "                                                                 \"Musical\",\"Mystery\",\"Romance\",\"Sci-Fi\",\n",
    "                                                                 \"Thriller\",\"War\",\"Western\"])\n",
    "ratings = pd.read_table('u.data',delimiter='\\t',header=None,names=[\"user\",\"movie\",\"rating\",\"timestamp\"])\n",
    "genres = pd.read_table('u.genre',delimiter='|',header=None,names=[\"genre\",\"id\"])"
   ]
  },
  {
   "cell_type": "code",
   "execution_count": 15,
   "metadata": {
    "collapsed": false
   },
   "outputs": [
    {
     "data": {
      "text/plain": [
       "(943, 1682)"
      ]
     },
     "execution_count": 15,
     "metadata": {},
     "output_type": "execute_result"
    }
   ],
   "source": [
    "# Project Part 2 Movie Recommender System\n",
    "rating_mat=np.zeros((len(users),len(movies)))\n",
    "rating_mat.shape"
   ]
  },
  {
   "cell_type": "code",
   "execution_count": 16,
   "metadata": {
    "collapsed": false
   },
   "outputs": [],
   "source": [
    "# Convert rating list to user-movie rating matrix\n",
    "for i in range(len(ratings)):\n",
    "    user=int(ratings.user[i])-1\n",
    "    movie=int(ratings.movie[i])-1\n",
    "    rating=int(ratings.rating[i])\n",
    "    rating_mat[user,movie]=rating"
   ]
  },
  {
   "cell_type": "code",
   "execution_count": 17,
   "metadata": {
    "collapsed": false
   },
   "outputs": [
    {
     "data": {
      "text/plain": [
       "array([[ 5.,  3.,  4., ...,  0.,  0.,  0.],\n",
       "       [ 4.,  0.,  0., ...,  0.,  0.,  0.],\n",
       "       [ 0.,  0.,  0., ...,  0.,  0.,  0.],\n",
       "       ..., \n",
       "       [ 5.,  0.,  0., ...,  0.,  0.,  0.],\n",
       "       [ 0.,  0.,  0., ...,  0.,  0.,  0.],\n",
       "       [ 0.,  5.,  0., ...,  0.,  0.,  0.]])"
      ]
     },
     "execution_count": 17,
     "metadata": {},
     "output_type": "execute_result"
    }
   ],
   "source": [
    "# user * movie rating matrix\n",
    "rating_mat"
   ]
  },
  {
   "cell_type": "code",
   "execution_count": 18,
   "metadata": {
    "collapsed": false
   },
   "outputs": [],
   "source": [
    "# Some utility function\n",
    "def cosSim(vecA,vecB):\n",
    "    return np.dot(vecA, vecB) / ( np.linalg.norm(vecA) * np.linalg.norm(vecB) )\n",
    "\n",
    "def cosDist(vecA,vecB):\n",
    "    return 1 - np.dot(vecA, vecB) / ( np.linalg.norm(vecA) * np.linalg.norm(vecB) )\n",
    "\n",
    "def userProfile(userId):\n",
    "    \n",
    "    # Get the movie ids of top 5 highest rating.\n",
    "    movieIds = np.argsort(rating_mat[userId,:])[-5:]\n",
    "    \n",
    "    # Print user's top 5 favorite movies\n",
    "    print \"\\nUser\" + str(userId+1) + \"'s top 5 favorite movies are:\"\n",
    "    for i in movieIds:\n",
    "        print movies.title[i] \n",
    "        \n",
    "def unratedMovies(userId):\n",
    "    unrated = []\n",
    "    for i in range(len(movies)):\n",
    "        if rating_mat[userId,i] == 0:\n",
    "            unrated.append(i)\n",
    "    return unrated"
   ]
  },
  {
   "cell_type": "code",
   "execution_count": 19,
   "metadata": {
    "collapsed": false,
    "scrolled": true
   },
   "outputs": [
    {
     "name": "stdout",
     "output_type": "stream",
     "text": [
      "Similarity of user1 and user2 is 0.166930983869\n",
      "\n",
      "User1's top 5 favorite movies are:\n",
      "Raiders of the Lost Ark (1981)\n",
      "Princess Bride, The (1987)\n",
      "Empire Strikes Back, The (1980)\n",
      "Alien (1979)\n",
      "Toy Story (1995)\n",
      "\n",
      "User2's top 5 favorite movies are:\n",
      "Shall We Dance? (1996)\n",
      "Sense and Sensibility (1995)\n",
      "Star Wars (1977)\n",
      "L.A. Confidential (1997)\n",
      "Emma (1996)\n",
      "\n",
      "User1 has not rated 272 movies.\n"
     ]
    }
   ],
   "source": [
    "# Test cosSim\n",
    "print \"Similarity of user1 and user2 is \" + str(cosSim(rating_mat[0,:],rating_mat[1,:]))\n",
    "\n",
    "# Test userProfile\n",
    "userProfile(0)\n",
    "userProfile(1)\n",
    "\n",
    "# Test unratedMovies\n",
    "print \"\\nUser1 has not rated \" + str(len(movies)-len(unratedMovies(0))) + \" movies.\""
   ]
  },
  {
   "cell_type": "code",
   "execution_count": 20,
   "metadata": {
    "collapsed": false
   },
   "outputs": [
    {
     "data": {
      "text/plain": [
       "array([[ 1. ,  0.6,  0.8, ...,  0. ,  0. ,  0. ],\n",
       "       [ 0.8,  0. ,  0. , ...,  0. ,  0. ,  0. ],\n",
       "       [ 0. ,  0. ,  0. , ...,  0. ,  0. ,  0. ],\n",
       "       ..., \n",
       "       [ 1. ,  0. ,  0. , ...,  0. ,  0. ,  0. ],\n",
       "       [ 0. ,  0. ,  0. , ...,  0. ,  0. ,  0. ],\n",
       "       [ 0. ,  1. ,  0. , ...,  0. ,  0. ,  0. ]])"
      ]
     },
     "execution_count": 20,
     "metadata": {},
     "output_type": "execute_result"
    }
   ],
   "source": [
    "# Normalization\n",
    "from sklearn import preprocessing\n",
    "min_max_scaler = preprocessing.MinMaxScaler().fit(rating_mat)\n",
    "rating_mat_norm = min_max_scaler.transform(rating_mat)\n",
    "rating_mat_norm"
   ]
  },
  {
   "cell_type": "code",
   "execution_count": 21,
   "metadata": {
    "collapsed": false
   },
   "outputs": [],
   "source": [
    "# kNN predict\n",
    "def kNNPredict(data,k,userId,movieId,distMea=cosDist,weighted=False):\n",
    "    dists = []\n",
    "    index = []\n",
    "    for i in range(len(users)):\n",
    "        if i != userId and data[i,movieId] != 0:\n",
    "            dists.append(distMea(data[userId,:],data[i,:]))\n",
    "            index.append(i)\n",
    "\n",
    "    topKIndex = np.argsort(dists)[:k]\n",
    "    \n",
    "    rating = 0    \n",
    "    for i in topKIndex:\n",
    "        rating += data[index[i],movieId]\n",
    "    rating = int(round(rating/len(topKIndex)))\n",
    "    return rating\n",
    "\n",
    "def kNNErrStat(data,uList,mList,k):\n",
    "    errCnt = 0\n",
    "    totCnt = 0\n",
    "    errRate = 0\n",
    "    err = 0\n",
    "    rsme = 0\n",
    "\n",
    "    for i in uList:\n",
    "        for j in mList:\n",
    "            pred = kNNPredict(data,k,i,j)\n",
    "            actl = int(data[i-1,j-1])\n",
    "            if actl != 0:\n",
    "                totCnt += 1\n",
    "                if pred != actl:\n",
    "                    errCnt += 1\n",
    "                    err += (actl-pred)*(actl-pred)\n",
    "            # print \"user\" + str(i) +\"/\" + movies.title[j] + \" prediction : \" + str(pred) + \" vs actual: \" + str(actl)\n",
    "    rmse = np.sqrt(err/totCnt)\n",
    "    errRate = errCnt/float(totCnt)\n",
    "    print \"the total error rate with k=%d is: %f, rmse is %f\" % (k,errRate,rmse)\n",
    "    return errRate,rmse"
   ]
  },
  {
   "cell_type": "code",
   "execution_count": 22,
   "metadata": {
    "collapsed": false
   },
   "outputs": [
    {
     "name": "stdout",
     "output_type": "stream",
     "text": [
      "the total error rate with k=1 is: 0.807018, rmse is 1.414214\n",
      "the total error rate with k=6 is: 0.719298, rmse is 1.000000\n",
      "the total error rate with k=11 is: 0.684211, rmse is 1.000000\n",
      "the total error rate with k=16 is: 0.649123, rmse is 1.000000\n",
      "the total error rate with k=21 is: 0.684211, rmse is 1.000000\n",
      "the total error rate with k=26 is: 0.701754, rmse is 1.000000\n",
      "the total error rate with k=31 is: 0.701754, rmse is 1.000000\n",
      "the total error rate with k=36 is: 0.684211, rmse is 1.000000\n",
      "the total error rate with k=41 is: 0.701754, rmse is 1.000000\n",
      "the total error rate with k=46 is: 0.684211, rmse is 1.000000\n"
     ]
    }
   ],
   "source": [
    "errsList = []\n",
    "rmseList = []\n",
    "uList = list(range(1,11))\n",
    "mList = list(range(1,21))\n",
    "k = range(1,51,5)\n",
    "\n",
    "for i in k:\n",
    "    err, rmse = kNNErrStat(rating_mat,uList,mList,i)\n",
    "    errsList.append(err)\n",
    "    rmseList.append(rmse)"
   ]
  },
  {
   "cell_type": "code",
   "execution_count": 23,
   "metadata": {
    "collapsed": false
   },
   "outputs": [
    {
     "data": {
      "image/png": "[encoded data removed]",
      "text/plain": [
       "<matplotlib.figure.Figure at 0x11d94df50>"
      ]
     },
     "metadata": {},
     "output_type": "display_data"
    }
   ],
   "source": [
    "%matplotlib inline\n",
    "plt.plot(k, errsList, label='error rate')\n",
    "plt.plot(k, rmseList, label='rmse')\n",
    "plt.legend(('error_rate', 'rmse'))\n",
    "plt.xlabel('K')\n",
    "plt.show()"
   ]
  },
  {
   "cell_type": "code",
   "execution_count": null,
   "metadata": {
    "collapsed": false
   },
   "outputs": [],
   "source": [
    "# The best k is 46, the error rate and rmse goes down as the k increases."
   ]
  }
 ],
 "metadata": {
  "kernelspec": {
   "display_name": "Python 2",
   "language": "python",
   "name": "python2"
  },
  "language_info": {
   "codemirror_mode": {
    "name": "ipython",
    "version": 2
   },
   "file_extension": ".py",
   "mimetype": "text/x-python",
   "name": "python",
   "nbconvert_exporter": "python",
   "pygments_lexer": "ipython2",
   "version": "2.7.11"
  }
 },
 "nbformat": 4,
 "nbformat_minor": 0
}
