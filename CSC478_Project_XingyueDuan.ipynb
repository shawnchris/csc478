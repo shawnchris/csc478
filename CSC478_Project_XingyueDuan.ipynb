{
 "cells": [
  {
   "cell_type": "code",
   "execution_count": 1,
   "metadata": {
    "collapsed": true
   },
   "outputs": [],
   "source": [
    "# CSC478 Final Project\n",
    "import os\n",
    "import numpy as np\n",
    "import scipy as sp\n",
    "import pandas as pd\n",
    "import matplotlib.pyplot as plt"
   ]
  },
  {
   "cell_type": "code",
   "execution_count": 7,
   "metadata": {
    "collapsed": false
   },
   "outputs": [],
   "source": [
    "# Load movieLens data\n",
    "path = 'F:\\Computer science\\csc478\\csc478 Final\\movielens\\Movielens-02'\n",
    "os.chdir(path)\n",
    "users = pd.read_table('u.user',delimiter='|',header=None,names=[\"id\",\"age\",\"gender\",\"job\",\"zip code\"])\n",
    "movies = pd.read_table('u.item',delimiter='|',header=None, names=[\"id\",\"title\",\"rl_date\",\"vrl_date\",\"url\",\n",
    "                                                                 \"unknown\",\"Action\",\"Adventure\",\"Animation\",\n",
    "                                                                 \"Children's \",\"Comedy\",\"Crime\",\"Documentary\",\n",
    "                                                                 \"Drama\",\"Fantasy\",\"Film-Noir\",\"Horror\",\n",
    "                                                                 \"Musical\",\"Mystery\",\"Romance\",\"Sci-Fi\",\n",
    "                                                                 \"Thriller\",\"War\",\"Western\"])\n",
    "ratings = pd.read_table('u.data',delimiter='\\t',header=None,names=[\"user\",\"movie\",\"rating\",\"timestamp\"])\n",
    "genres = pd.read_table('u.genre',delimiter='|',header=None,names=[\"genre\",\"id\"])"
   ]
  },
  {
   "cell_type": "code",
   "execution_count": 8,
   "metadata": {
    "collapsed": false
   },
   "outputs": [
    {
     "name": "stdout",
     "output_type": "stream",
     "text": [
      "   id  age gender         job zip code\n",
      "0   1   24      M  technician    85711\n",
      "1   2   53      F       other    94043\n",
      "2   3   23      M      writer    32067\n",
      "3   4   24      M  technician    43537\n",
      "4   5   33      F       other    15213\n"
     ]
    },
    {
     "data": {
      "text/html": [
       "<div>\n",
       "<table border=\"1\" class=\"dataframe\">\n",
       "  <thead>\n",
       "    <tr style=\"text-align: right;\">\n",
       "      <th></th>\n",
       "      <th>id</th>\n",
       "      <th>age</th>\n",
       "      <th>gender</th>\n",
       "      <th>job</th>\n",
       "      <th>zip code</th>\n",
       "    </tr>\n",
       "  </thead>\n",
       "  <tbody>\n",
       "    <tr>\n",
       "      <th>count</th>\n",
       "      <td>943.000000</td>\n",
       "      <td>943.000000</td>\n",
       "      <td>943</td>\n",
       "      <td>943</td>\n",
       "      <td>943</td>\n",
       "    </tr>\n",
       "    <tr>\n",
       "      <th>unique</th>\n",
       "      <td>NaN</td>\n",
       "      <td>NaN</td>\n",
       "      <td>2</td>\n",
       "      <td>21</td>\n",
       "      <td>795</td>\n",
       "    </tr>\n",
       "    <tr>\n",
       "      <th>top</th>\n",
       "      <td>NaN</td>\n",
       "      <td>NaN</td>\n",
       "      <td>M</td>\n",
       "      <td>student</td>\n",
       "      <td>55414</td>\n",
       "    </tr>\n",
       "    <tr>\n",
       "      <th>freq</th>\n",
       "      <td>NaN</td>\n",
       "      <td>NaN</td>\n",
       "      <td>670</td>\n",
       "      <td>196</td>\n",
       "      <td>9</td>\n",
       "    </tr>\n",
       "    <tr>\n",
       "      <th>mean</th>\n",
       "      <td>472.000000</td>\n",
       "      <td>34.051962</td>\n",
       "      <td>NaN</td>\n",
       "      <td>NaN</td>\n",
       "      <td>NaN</td>\n",
       "    </tr>\n",
       "    <tr>\n",
       "      <th>std</th>\n",
       "      <td>272.364951</td>\n",
       "      <td>12.192740</td>\n",
       "      <td>NaN</td>\n",
       "      <td>NaN</td>\n",
       "      <td>NaN</td>\n",
       "    </tr>\n",
       "    <tr>\n",
       "      <th>min</th>\n",
       "      <td>1.000000</td>\n",
       "      <td>7.000000</td>\n",
       "      <td>NaN</td>\n",
       "      <td>NaN</td>\n",
       "      <td>NaN</td>\n",
       "    </tr>\n",
       "    <tr>\n",
       "      <th>25%</th>\n",
       "      <td>236.500000</td>\n",
       "      <td>25.000000</td>\n",
       "      <td>NaN</td>\n",
       "      <td>NaN</td>\n",
       "      <td>NaN</td>\n",
       "    </tr>\n",
       "    <tr>\n",
       "      <th>50%</th>\n",
       "      <td>472.000000</td>\n",
       "      <td>31.000000</td>\n",
       "      <td>NaN</td>\n",
       "      <td>NaN</td>\n",
       "      <td>NaN</td>\n",
       "    </tr>\n",
       "    <tr>\n",
       "      <th>75%</th>\n",
       "      <td>707.500000</td>\n",
       "      <td>43.000000</td>\n",
       "      <td>NaN</td>\n",
       "      <td>NaN</td>\n",
       "      <td>NaN</td>\n",
       "    </tr>\n",
       "    <tr>\n",
       "      <th>max</th>\n",
       "      <td>943.000000</td>\n",
       "      <td>73.000000</td>\n",
       "      <td>NaN</td>\n",
       "      <td>NaN</td>\n",
       "      <td>NaN</td>\n",
       "    </tr>\n",
       "  </tbody>\n",
       "</table>\n",
       "</div>"
      ],
      "text/plain": [
       "                id         age gender      job zip code\n",
       "count   943.000000  943.000000    943      943      943\n",
       "unique         NaN         NaN      2       21      795\n",
       "top            NaN         NaN      M  student    55414\n",
       "freq           NaN         NaN    670      196        9\n",
       "mean    472.000000   34.051962    NaN      NaN      NaN\n",
       "std     272.364951   12.192740    NaN      NaN      NaN\n",
       "min       1.000000    7.000000    NaN      NaN      NaN\n",
       "25%     236.500000   25.000000    NaN      NaN      NaN\n",
       "50%     472.000000   31.000000    NaN      NaN      NaN\n",
       "75%     707.500000   43.000000    NaN      NaN      NaN\n",
       "max     943.000000   73.000000    NaN      NaN      NaN"
      ]
     },
     "execution_count": 8,
     "metadata": {},
     "output_type": "execute_result"
    }
   ],
   "source": [
    "# Users data overview\n",
    "print users.head(5)\n",
    "users.describe(include=\"all\")"
   ]
  },
  {
   "cell_type": "code",
   "execution_count": 9,
   "metadata": {
    "collapsed": false
   },
   "outputs": [
    {
     "data": {
      "image/png": "[encoded data removed]",
      "text/plain": [
       "<matplotlib.figure.Figure at 0xa99f5c0>"
      ]
     },
     "metadata": {},
     "output_type": "display_data"
    }
   ],
   "source": [
    "# Distribution of user ages\n",
    "%matplotlib inline\n",
    "plt.hist(users[\"age\"])\n",
    "plt.show()"
   ]
  },
  {
   "cell_type": "code",
   "execution_count": 10,
   "metadata": {
    "collapsed": false
   },
   "outputs": [
    {
     "data": {
      "text/plain": [
       "<matplotlib.axes._subplots.AxesSubplot at 0xadb45c0>"
      ]
     },
     "execution_count": 10,
     "metadata": {},
     "output_type": "execute_result"
    },
    {
     "data": {
      "image/png": "[encoded data removed]",
      "text/plain": [
       "<matplotlib.figure.Figure at 0xae26ac8>"
      ]
     },
     "metadata": {},
     "output_type": "display_data"
    }
   ],
   "source": [
    "# Distribution of user genders\n",
    "users.gender.value_counts().plot(kind='bar')"
   ]
  },
  {
   "cell_type": "code",
   "execution_count": 11,
   "metadata": {
    "collapsed": false
   },
   "outputs": [
    {
     "data": {
      "text/plain": [
       "<matplotlib.axes._subplots.AxesSubplot at 0xad2c668>"
      ]
     },
     "execution_count": 11,
     "metadata": {},
     "output_type": "execute_result"
    },
    {
     "data": {
      "image/png": "[encoded data removed]",
      "text/plain": [
       "<matplotlib.figure.Figure at 0xad4b278>"
      ]
     },
     "metadata": {},
     "output_type": "display_data"
    }
   ],
   "source": [
    "# Distribution of user professions\n",
    "users.job.value_counts().plot(kind='bar')"
   ]
  },
  {
   "cell_type": "code",
   "execution_count": 12,
   "metadata": {
    "collapsed": false
   },
   "outputs": [
    {
     "data": {
      "text/html": [
       "<div>\n",
       "<table border=\"1\" class=\"dataframe\">\n",
       "  <thead>\n",
       "    <tr style=\"text-align: right;\">\n",
       "      <th></th>\n",
       "      <th>id</th>\n",
       "      <th>title</th>\n",
       "      <th>rl_date</th>\n",
       "      <th>vrl_date</th>\n",
       "      <th>url</th>\n",
       "      <th>unknown</th>\n",
       "      <th>Action</th>\n",
       "      <th>Adventure</th>\n",
       "      <th>Animation</th>\n",
       "      <th>Children's</th>\n",
       "      <th>...</th>\n",
       "      <th>Fantasy</th>\n",
       "      <th>Film-Noir</th>\n",
       "      <th>Horror</th>\n",
       "      <th>Musical</th>\n",
       "      <th>Mystery</th>\n",
       "      <th>Romance</th>\n",
       "      <th>Sci-Fi</th>\n",
       "      <th>Thriller</th>\n",
       "      <th>War</th>\n",
       "      <th>Western</th>\n",
       "    </tr>\n",
       "  </thead>\n",
       "  <tbody>\n",
       "    <tr>\n",
       "      <th>0</th>\n",
       "      <td>1</td>\n",
       "      <td>Toy Story (1995)</td>\n",
       "      <td>01-Jan-1995</td>\n",
       "      <td>NaN</td>\n",
       "      <td>http://us.imdb.com/M/title-exact?Toy%20Story%2...</td>\n",
       "      <td>0</td>\n",
       "      <td>0</td>\n",
       "      <td>0</td>\n",
       "      <td>1</td>\n",
       "      <td>1</td>\n",
       "      <td>...</td>\n",
       "      <td>0</td>\n",
       "      <td>0</td>\n",
       "      <td>0</td>\n",
       "      <td>0</td>\n",
       "      <td>0</td>\n",
       "      <td>0</td>\n",
       "      <td>0</td>\n",
       "      <td>0</td>\n",
       "      <td>0</td>\n",
       "      <td>0</td>\n",
       "    </tr>\n",
       "    <tr>\n",
       "      <th>1</th>\n",
       "      <td>2</td>\n",
       "      <td>GoldenEye (1995)</td>\n",
       "      <td>01-Jan-1995</td>\n",
       "      <td>NaN</td>\n",
       "      <td>http://us.imdb.com/M/title-exact?GoldenEye%20(...</td>\n",
       "      <td>0</td>\n",
       "      <td>1</td>\n",
       "      <td>1</td>\n",
       "      <td>0</td>\n",
       "      <td>0</td>\n",
       "      <td>...</td>\n",
       "      <td>0</td>\n",
       "      <td>0</td>\n",
       "      <td>0</td>\n",
       "      <td>0</td>\n",
       "      <td>0</td>\n",
       "      <td>0</td>\n",
       "      <td>0</td>\n",
       "      <td>1</td>\n",
       "      <td>0</td>\n",
       "      <td>0</td>\n",
       "    </tr>\n",
       "    <tr>\n",
       "      <th>2</th>\n",
       "      <td>3</td>\n",
       "      <td>Four Rooms (1995)</td>\n",
       "      <td>01-Jan-1995</td>\n",
       "      <td>NaN</td>\n",
       "      <td>http://us.imdb.com/M/title-exact?Four%20Rooms%...</td>\n",
       "      <td>0</td>\n",
       "      <td>0</td>\n",
       "      <td>0</td>\n",
       "      <td>0</td>\n",
       "      <td>0</td>\n",
       "      <td>...</td>\n",
       "      <td>0</td>\n",
       "      <td>0</td>\n",
       "      <td>0</td>\n",
       "      <td>0</td>\n",
       "      <td>0</td>\n",
       "      <td>0</td>\n",
       "      <td>0</td>\n",
       "      <td>1</td>\n",
       "      <td>0</td>\n",
       "      <td>0</td>\n",
       "    </tr>\n",
       "    <tr>\n",
       "      <th>3</th>\n",
       "      <td>4</td>\n",
       "      <td>Get Shorty (1995)</td>\n",
       "      <td>01-Jan-1995</td>\n",
       "      <td>NaN</td>\n",
       "      <td>http://us.imdb.com/M/title-exact?Get%20Shorty%...</td>\n",
       "      <td>0</td>\n",
       "      <td>1</td>\n",
       "      <td>0</td>\n",
       "      <td>0</td>\n",
       "      <td>0</td>\n",
       "      <td>...</td>\n",
       "      <td>0</td>\n",
       "      <td>0</td>\n",
       "      <td>0</td>\n",
       "      <td>0</td>\n",
       "      <td>0</td>\n",
       "      <td>0</td>\n",
       "      <td>0</td>\n",
       "      <td>0</td>\n",
       "      <td>0</td>\n",
       "      <td>0</td>\n",
       "    </tr>\n",
       "    <tr>\n",
       "      <th>4</th>\n",
       "      <td>5</td>\n",
       "      <td>Copycat (1995)</td>\n",
       "      <td>01-Jan-1995</td>\n",
       "      <td>NaN</td>\n",
       "      <td>http://us.imdb.com/M/title-exact?Copycat%20(1995)</td>\n",
       "      <td>0</td>\n",
       "      <td>0</td>\n",
       "      <td>0</td>\n",
       "      <td>0</td>\n",
       "      <td>0</td>\n",
       "      <td>...</td>\n",
       "      <td>0</td>\n",
       "      <td>0</td>\n",
       "      <td>0</td>\n",
       "      <td>0</td>\n",
       "      <td>0</td>\n",
       "      <td>0</td>\n",
       "      <td>0</td>\n",
       "      <td>1</td>\n",
       "      <td>0</td>\n",
       "      <td>0</td>\n",
       "    </tr>\n",
       "  </tbody>\n",
       "</table>\n",
       "<p>5 rows × 24 columns</p>\n",
       "</div>"
      ],
      "text/plain": [
       "   id              title      rl_date  vrl_date  \\\n",
       "0   1   Toy Story (1995)  01-Jan-1995       NaN   \n",
       "1   2   GoldenEye (1995)  01-Jan-1995       NaN   \n",
       "2   3  Four Rooms (1995)  01-Jan-1995       NaN   \n",
       "3   4  Get Shorty (1995)  01-Jan-1995       NaN   \n",
       "4   5     Copycat (1995)  01-Jan-1995       NaN   \n",
       "\n",
       "                                                 url  unknown  Action  \\\n",
       "0  http://us.imdb.com/M/title-exact?Toy%20Story%2...        0       0   \n",
       "1  http://us.imdb.com/M/title-exact?GoldenEye%20(...        0       1   \n",
       "2  http://us.imdb.com/M/title-exact?Four%20Rooms%...        0       0   \n",
       "3  http://us.imdb.com/M/title-exact?Get%20Shorty%...        0       1   \n",
       "4  http://us.imdb.com/M/title-exact?Copycat%20(1995)        0       0   \n",
       "\n",
       "   Adventure  Animation  Children's    ...     Fantasy  Film-Noir  Horror  \\\n",
       "0          0          1            1   ...           0          0       0   \n",
       "1          1          0            0   ...           0          0       0   \n",
       "2          0          0            0   ...           0          0       0   \n",
       "3          0          0            0   ...           0          0       0   \n",
       "4          0          0            0   ...           0          0       0   \n",
       "\n",
       "   Musical  Mystery  Romance  Sci-Fi  Thriller  War  Western  \n",
       "0        0        0        0       0         0    0        0  \n",
       "1        0        0        0       0         1    0        0  \n",
       "2        0        0        0       0         1    0        0  \n",
       "3        0        0        0       0         0    0        0  \n",
       "4        0        0        0       0         1    0        0  \n",
       "\n",
       "[5 rows x 24 columns]"
      ]
     },
     "execution_count": 12,
     "metadata": {},
     "output_type": "execute_result"
    }
   ],
   "source": [
    "# 0: id, 1: name, 2: relase date, 3: video release date, 4: url, 5-23: genre\n",
    "# Movie data\n",
    "movies.head(5)"
   ]
  },
  {
   "cell_type": "code",
   "execution_count": 13,
   "metadata": {
    "collapsed": false
   },
   "outputs": [
    {
     "data": {
      "text/html": [
       "<div>\n",
       "<table border=\"1\" class=\"dataframe\">\n",
       "  <thead>\n",
       "    <tr style=\"text-align: right;\">\n",
       "      <th></th>\n",
       "      <th>id</th>\n",
       "      <th>title</th>\n",
       "      <th>rl_date</th>\n",
       "      <th>vrl_date</th>\n",
       "      <th>url</th>\n",
       "      <th>unknown</th>\n",
       "      <th>Action</th>\n",
       "      <th>Adventure</th>\n",
       "      <th>Animation</th>\n",
       "      <th>Children's</th>\n",
       "      <th>...</th>\n",
       "      <th>Fantasy</th>\n",
       "      <th>Film-Noir</th>\n",
       "      <th>Horror</th>\n",
       "      <th>Musical</th>\n",
       "      <th>Mystery</th>\n",
       "      <th>Romance</th>\n",
       "      <th>Sci-Fi</th>\n",
       "      <th>Thriller</th>\n",
       "      <th>War</th>\n",
       "      <th>Western</th>\n",
       "    </tr>\n",
       "  </thead>\n",
       "  <tbody>\n",
       "    <tr>\n",
       "      <th>count</th>\n",
       "      <td>1682.000000</td>\n",
       "      <td>1682</td>\n",
       "      <td>1681</td>\n",
       "      <td>0</td>\n",
       "      <td>1679</td>\n",
       "      <td>1682.000000</td>\n",
       "      <td>1682.000000</td>\n",
       "      <td>1682.000000</td>\n",
       "      <td>1682.000000</td>\n",
       "      <td>1682.000000</td>\n",
       "      <td>...</td>\n",
       "      <td>1682.00000</td>\n",
       "      <td>1682.000000</td>\n",
       "      <td>1682.000000</td>\n",
       "      <td>1682.000000</td>\n",
       "      <td>1682.000000</td>\n",
       "      <td>1682.000000</td>\n",
       "      <td>1682.000000</td>\n",
       "      <td>1682.000000</td>\n",
       "      <td>1682.000000</td>\n",
       "      <td>1682.000000</td>\n",
       "    </tr>\n",
       "    <tr>\n",
       "      <th>unique</th>\n",
       "      <td>NaN</td>\n",
       "      <td>1664</td>\n",
       "      <td>240</td>\n",
       "      <td>NaN</td>\n",
       "      <td>1660</td>\n",
       "      <td>NaN</td>\n",
       "      <td>NaN</td>\n",
       "      <td>NaN</td>\n",
       "      <td>NaN</td>\n",
       "      <td>NaN</td>\n",
       "      <td>...</td>\n",
       "      <td>NaN</td>\n",
       "      <td>NaN</td>\n",
       "      <td>NaN</td>\n",
       "      <td>NaN</td>\n",
       "      <td>NaN</td>\n",
       "      <td>NaN</td>\n",
       "      <td>NaN</td>\n",
       "      <td>NaN</td>\n",
       "      <td>NaN</td>\n",
       "      <td>NaN</td>\n",
       "    </tr>\n",
       "    <tr>\n",
       "      <th>top</th>\n",
       "      <td>NaN</td>\n",
       "      <td>Money Talks (1997)</td>\n",
       "      <td>01-Jan-1995</td>\n",
       "      <td>NaN</td>\n",
       "      <td>http://us.imdb.com/Title?Sliding+Doors+(1998)</td>\n",
       "      <td>NaN</td>\n",
       "      <td>NaN</td>\n",
       "      <td>NaN</td>\n",
       "      <td>NaN</td>\n",
       "      <td>NaN</td>\n",
       "      <td>...</td>\n",
       "      <td>NaN</td>\n",
       "      <td>NaN</td>\n",
       "      <td>NaN</td>\n",
       "      <td>NaN</td>\n",
       "      <td>NaN</td>\n",
       "      <td>NaN</td>\n",
       "      <td>NaN</td>\n",
       "      <td>NaN</td>\n",
       "      <td>NaN</td>\n",
       "      <td>NaN</td>\n",
       "    </tr>\n",
       "    <tr>\n",
       "      <th>freq</th>\n",
       "      <td>NaN</td>\n",
       "      <td>2</td>\n",
       "      <td>215</td>\n",
       "      <td>NaN</td>\n",
       "      <td>2</td>\n",
       "      <td>NaN</td>\n",
       "      <td>NaN</td>\n",
       "      <td>NaN</td>\n",
       "      <td>NaN</td>\n",
       "      <td>NaN</td>\n",
       "      <td>...</td>\n",
       "      <td>NaN</td>\n",
       "      <td>NaN</td>\n",
       "      <td>NaN</td>\n",
       "      <td>NaN</td>\n",
       "      <td>NaN</td>\n",
       "      <td>NaN</td>\n",
       "      <td>NaN</td>\n",
       "      <td>NaN</td>\n",
       "      <td>NaN</td>\n",
       "      <td>NaN</td>\n",
       "    </tr>\n",
       "    <tr>\n",
       "      <th>mean</th>\n",
       "      <td>841.500000</td>\n",
       "      <td>NaN</td>\n",
       "      <td>NaN</td>\n",
       "      <td>NaN</td>\n",
       "      <td>NaN</td>\n",
       "      <td>0.001189</td>\n",
       "      <td>0.149227</td>\n",
       "      <td>0.080262</td>\n",
       "      <td>0.024970</td>\n",
       "      <td>0.072533</td>\n",
       "      <td>...</td>\n",
       "      <td>0.01308</td>\n",
       "      <td>0.014269</td>\n",
       "      <td>0.054697</td>\n",
       "      <td>0.033294</td>\n",
       "      <td>0.036266</td>\n",
       "      <td>0.146849</td>\n",
       "      <td>0.060048</td>\n",
       "      <td>0.149227</td>\n",
       "      <td>0.042212</td>\n",
       "      <td>0.016052</td>\n",
       "    </tr>\n",
       "    <tr>\n",
       "      <th>std</th>\n",
       "      <td>485.695893</td>\n",
       "      <td>NaN</td>\n",
       "      <td>NaN</td>\n",
       "      <td>NaN</td>\n",
       "      <td>NaN</td>\n",
       "      <td>0.034473</td>\n",
       "      <td>0.356418</td>\n",
       "      <td>0.271779</td>\n",
       "      <td>0.156081</td>\n",
       "      <td>0.259445</td>\n",
       "      <td>...</td>\n",
       "      <td>0.11365</td>\n",
       "      <td>0.118632</td>\n",
       "      <td>0.227455</td>\n",
       "      <td>0.179456</td>\n",
       "      <td>0.187008</td>\n",
       "      <td>0.354061</td>\n",
       "      <td>0.237646</td>\n",
       "      <td>0.356418</td>\n",
       "      <td>0.201131</td>\n",
       "      <td>0.125714</td>\n",
       "    </tr>\n",
       "    <tr>\n",
       "      <th>min</th>\n",
       "      <td>1.000000</td>\n",
       "      <td>NaN</td>\n",
       "      <td>NaN</td>\n",
       "      <td>NaN</td>\n",
       "      <td>NaN</td>\n",
       "      <td>0.000000</td>\n",
       "      <td>0.000000</td>\n",
       "      <td>0.000000</td>\n",
       "      <td>0.000000</td>\n",
       "      <td>0.000000</td>\n",
       "      <td>...</td>\n",
       "      <td>0.00000</td>\n",
       "      <td>0.000000</td>\n",
       "      <td>0.000000</td>\n",
       "      <td>0.000000</td>\n",
       "      <td>0.000000</td>\n",
       "      <td>0.000000</td>\n",
       "      <td>0.000000</td>\n",
       "      <td>0.000000</td>\n",
       "      <td>0.000000</td>\n",
       "      <td>0.000000</td>\n",
       "    </tr>\n",
       "    <tr>\n",
       "      <th>25%</th>\n",
       "      <td>421.250000</td>\n",
       "      <td>NaN</td>\n",
       "      <td>NaN</td>\n",
       "      <td>NaN</td>\n",
       "      <td>NaN</td>\n",
       "      <td>0.000000</td>\n",
       "      <td>0.000000</td>\n",
       "      <td>0.000000</td>\n",
       "      <td>0.000000</td>\n",
       "      <td>0.000000</td>\n",
       "      <td>...</td>\n",
       "      <td>0.00000</td>\n",
       "      <td>0.000000</td>\n",
       "      <td>0.000000</td>\n",
       "      <td>0.000000</td>\n",
       "      <td>0.000000</td>\n",
       "      <td>0.000000</td>\n",
       "      <td>0.000000</td>\n",
       "      <td>0.000000</td>\n",
       "      <td>0.000000</td>\n",
       "      <td>0.000000</td>\n",
       "    </tr>\n",
       "    <tr>\n",
       "      <th>50%</th>\n",
       "      <td>841.500000</td>\n",
       "      <td>NaN</td>\n",
       "      <td>NaN</td>\n",
       "      <td>NaN</td>\n",
       "      <td>NaN</td>\n",
       "      <td>0.000000</td>\n",
       "      <td>0.000000</td>\n",
       "      <td>0.000000</td>\n",
       "      <td>0.000000</td>\n",
       "      <td>0.000000</td>\n",
       "      <td>...</td>\n",
       "      <td>0.00000</td>\n",
       "      <td>0.000000</td>\n",
       "      <td>0.000000</td>\n",
       "      <td>0.000000</td>\n",
       "      <td>0.000000</td>\n",
       "      <td>0.000000</td>\n",
       "      <td>0.000000</td>\n",
       "      <td>0.000000</td>\n",
       "      <td>0.000000</td>\n",
       "      <td>0.000000</td>\n",
       "    </tr>\n",
       "    <tr>\n",
       "      <th>75%</th>\n",
       "      <td>1261.750000</td>\n",
       "      <td>NaN</td>\n",
       "      <td>NaN</td>\n",
       "      <td>NaN</td>\n",
       "      <td>NaN</td>\n",
       "      <td>0.000000</td>\n",
       "      <td>0.000000</td>\n",
       "      <td>0.000000</td>\n",
       "      <td>0.000000</td>\n",
       "      <td>0.000000</td>\n",
       "      <td>...</td>\n",
       "      <td>0.00000</td>\n",
       "      <td>0.000000</td>\n",
       "      <td>0.000000</td>\n",
       "      <td>0.000000</td>\n",
       "      <td>0.000000</td>\n",
       "      <td>0.000000</td>\n",
       "      <td>0.000000</td>\n",
       "      <td>0.000000</td>\n",
       "      <td>0.000000</td>\n",
       "      <td>0.000000</td>\n",
       "    </tr>\n",
       "    <tr>\n",
       "      <th>max</th>\n",
       "      <td>1682.000000</td>\n",
       "      <td>NaN</td>\n",
       "      <td>NaN</td>\n",
       "      <td>NaN</td>\n",
       "      <td>NaN</td>\n",
       "      <td>1.000000</td>\n",
       "      <td>1.000000</td>\n",
       "      <td>1.000000</td>\n",
       "      <td>1.000000</td>\n",
       "      <td>1.000000</td>\n",
       "      <td>...</td>\n",
       "      <td>1.00000</td>\n",
       "      <td>1.000000</td>\n",
       "      <td>1.000000</td>\n",
       "      <td>1.000000</td>\n",
       "      <td>1.000000</td>\n",
       "      <td>1.000000</td>\n",
       "      <td>1.000000</td>\n",
       "      <td>1.000000</td>\n",
       "      <td>1.000000</td>\n",
       "      <td>1.000000</td>\n",
       "    </tr>\n",
       "  </tbody>\n",
       "</table>\n",
       "<p>11 rows × 24 columns</p>\n",
       "</div>"
      ],
      "text/plain": [
       "                 id               title      rl_date  vrl_date  \\\n",
       "count   1682.000000                1682         1681         0   \n",
       "unique          NaN                1664          240       NaN   \n",
       "top             NaN  Money Talks (1997)  01-Jan-1995       NaN   \n",
       "freq            NaN                   2          215       NaN   \n",
       "mean     841.500000                 NaN          NaN       NaN   \n",
       "std      485.695893                 NaN          NaN       NaN   \n",
       "min        1.000000                 NaN          NaN       NaN   \n",
       "25%      421.250000                 NaN          NaN       NaN   \n",
       "50%      841.500000                 NaN          NaN       NaN   \n",
       "75%     1261.750000                 NaN          NaN       NaN   \n",
       "max     1682.000000                 NaN          NaN       NaN   \n",
       "\n",
       "                                                  url      unknown  \\\n",
       "count                                            1679  1682.000000   \n",
       "unique                                           1660          NaN   \n",
       "top     http://us.imdb.com/Title?Sliding+Doors+(1998)          NaN   \n",
       "freq                                                2          NaN   \n",
       "mean                                              NaN     0.001189   \n",
       "std                                               NaN     0.034473   \n",
       "min                                               NaN     0.000000   \n",
       "25%                                               NaN     0.000000   \n",
       "50%                                               NaN     0.000000   \n",
       "75%                                               NaN     0.000000   \n",
       "max                                               NaN     1.000000   \n",
       "\n",
       "             Action    Adventure    Animation  Children's      ...       \\\n",
       "count   1682.000000  1682.000000  1682.000000  1682.000000     ...        \n",
       "unique          NaN          NaN          NaN          NaN     ...        \n",
       "top             NaN          NaN          NaN          NaN     ...        \n",
       "freq            NaN          NaN          NaN          NaN     ...        \n",
       "mean       0.149227     0.080262     0.024970     0.072533     ...        \n",
       "std        0.356418     0.271779     0.156081     0.259445     ...        \n",
       "min        0.000000     0.000000     0.000000     0.000000     ...        \n",
       "25%        0.000000     0.000000     0.000000     0.000000     ...        \n",
       "50%        0.000000     0.000000     0.000000     0.000000     ...        \n",
       "75%        0.000000     0.000000     0.000000     0.000000     ...        \n",
       "max        1.000000     1.000000     1.000000     1.000000     ...        \n",
       "\n",
       "           Fantasy    Film-Noir       Horror      Musical      Mystery  \\\n",
       "count   1682.00000  1682.000000  1682.000000  1682.000000  1682.000000   \n",
       "unique         NaN          NaN          NaN          NaN          NaN   \n",
       "top            NaN          NaN          NaN          NaN          NaN   \n",
       "freq           NaN          NaN          NaN          NaN          NaN   \n",
       "mean       0.01308     0.014269     0.054697     0.033294     0.036266   \n",
       "std        0.11365     0.118632     0.227455     0.179456     0.187008   \n",
       "min        0.00000     0.000000     0.000000     0.000000     0.000000   \n",
       "25%        0.00000     0.000000     0.000000     0.000000     0.000000   \n",
       "50%        0.00000     0.000000     0.000000     0.000000     0.000000   \n",
       "75%        0.00000     0.000000     0.000000     0.000000     0.000000   \n",
       "max        1.00000     1.000000     1.000000     1.000000     1.000000   \n",
       "\n",
       "            Romance       Sci-Fi     Thriller          War      Western  \n",
       "count   1682.000000  1682.000000  1682.000000  1682.000000  1682.000000  \n",
       "unique          NaN          NaN          NaN          NaN          NaN  \n",
       "top             NaN          NaN          NaN          NaN          NaN  \n",
       "freq            NaN          NaN          NaN          NaN          NaN  \n",
       "mean       0.146849     0.060048     0.149227     0.042212     0.016052  \n",
       "std        0.354061     0.237646     0.356418     0.201131     0.125714  \n",
       "min        0.000000     0.000000     0.000000     0.000000     0.000000  \n",
       "25%        0.000000     0.000000     0.000000     0.000000     0.000000  \n",
       "50%        0.000000     0.000000     0.000000     0.000000     0.000000  \n",
       "75%        0.000000     0.000000     0.000000     0.000000     0.000000  \n",
       "max        1.000000     1.000000     1.000000     1.000000     1.000000  \n",
       "\n",
       "[11 rows x 24 columns]"
      ]
     },
     "execution_count": 13,
     "metadata": {},
     "output_type": "execute_result"
    }
   ],
   "source": [
    "# Movie data overview\n",
    "movies.describe(include=\"all\")"
   ]
  },
  {
   "cell_type": "code",
   "execution_count": 14,
   "metadata": {
    "collapsed": false
   },
   "outputs": [
    {
     "name": "stdout",
     "output_type": "stream",
     "text": [
      "   user  movie  rating  timestamp\n",
      "0   196    242       3  881250949\n",
      "1   186    302       3  891717742\n",
      "2    22    377       1  878887116\n",
      "3   244     51       2  880606923\n",
      "4   166    346       1  886397596\n"
     ]
    },
    {
     "data": {
      "text/html": [
       "<div>\n",
       "<table border=\"1\" class=\"dataframe\">\n",
       "  <thead>\n",
       "    <tr style=\"text-align: right;\">\n",
       "      <th></th>\n",
       "      <th>user</th>\n",
       "      <th>movie</th>\n",
       "      <th>rating</th>\n",
       "      <th>timestamp</th>\n",
       "    </tr>\n",
       "  </thead>\n",
       "  <tbody>\n",
       "    <tr>\n",
       "      <th>count</th>\n",
       "      <td>100000.00000</td>\n",
       "      <td>100000.000000</td>\n",
       "      <td>100000.000000</td>\n",
       "      <td>1.000000e+05</td>\n",
       "    </tr>\n",
       "    <tr>\n",
       "      <th>mean</th>\n",
       "      <td>462.48475</td>\n",
       "      <td>425.530130</td>\n",
       "      <td>3.529860</td>\n",
       "      <td>8.835289e+08</td>\n",
       "    </tr>\n",
       "    <tr>\n",
       "      <th>std</th>\n",
       "      <td>266.61442</td>\n",
       "      <td>330.798356</td>\n",
       "      <td>1.125674</td>\n",
       "      <td>5.343856e+06</td>\n",
       "    </tr>\n",
       "    <tr>\n",
       "      <th>min</th>\n",
       "      <td>1.00000</td>\n",
       "      <td>1.000000</td>\n",
       "      <td>1.000000</td>\n",
       "      <td>8.747247e+08</td>\n",
       "    </tr>\n",
       "    <tr>\n",
       "      <th>25%</th>\n",
       "      <td>254.00000</td>\n",
       "      <td>175.000000</td>\n",
       "      <td>3.000000</td>\n",
       "      <td>8.794487e+08</td>\n",
       "    </tr>\n",
       "    <tr>\n",
       "      <th>50%</th>\n",
       "      <td>447.00000</td>\n",
       "      <td>322.000000</td>\n",
       "      <td>4.000000</td>\n",
       "      <td>8.828269e+08</td>\n",
       "    </tr>\n",
       "    <tr>\n",
       "      <th>75%</th>\n",
       "      <td>682.00000</td>\n",
       "      <td>631.000000</td>\n",
       "      <td>4.000000</td>\n",
       "      <td>8.882600e+08</td>\n",
       "    </tr>\n",
       "    <tr>\n",
       "      <th>max</th>\n",
       "      <td>943.00000</td>\n",
       "      <td>1682.000000</td>\n",
       "      <td>5.000000</td>\n",
       "      <td>8.932866e+08</td>\n",
       "    </tr>\n",
       "  </tbody>\n",
       "</table>\n",
       "</div>"
      ],
      "text/plain": [
       "               user          movie         rating     timestamp\n",
       "count  100000.00000  100000.000000  100000.000000  1.000000e+05\n",
       "mean      462.48475     425.530130       3.529860  8.835289e+08\n",
       "std       266.61442     330.798356       1.125674  5.343856e+06\n",
       "min         1.00000       1.000000       1.000000  8.747247e+08\n",
       "25%       254.00000     175.000000       3.000000  8.794487e+08\n",
       "50%       447.00000     322.000000       4.000000  8.828269e+08\n",
       "75%       682.00000     631.000000       4.000000  8.882600e+08\n",
       "max       943.00000    1682.000000       5.000000  8.932866e+08"
      ]
     },
     "execution_count": 14,
     "metadata": {},
     "output_type": "execute_result"
    }
   ],
   "source": [
    "# Rating data overview\n",
    "print ratings.head(5)\n",
    "ratings.describe(include=\"all\")"
   ]
  },
  {
   "cell_type": "code",
   "execution_count": 15,
   "metadata": {
    "collapsed": false
   },
   "outputs": [
    {
     "data": {
      "image/png": "[encoded data removed]",
      "text/plain": [
       "<matplotlib.figure.Figure at 0xb01f198>"
      ]
     },
     "metadata": {},
     "output_type": "display_data"
    }
   ],
   "source": [
    "# Distribution of movie ratings(for different movies)\n",
    "plt.hist(ratings[\"rating\"])\n",
    "plt.show()"
   ]
  },
  {
   "cell_type": "code",
   "execution_count": 16,
   "metadata": {
    "collapsed": false,
    "scrolled": true
   },
   "outputs": [
    {
     "name": "stdout",
     "output_type": "stream",
     "text": [
      "        genre  id\n",
      "0     unknown   0\n",
      "1      Action   1\n",
      "2   Adventure   2\n",
      "3   Animation   3\n",
      "4  Children's   4\n"
     ]
    },
    {
     "data": {
      "text/html": [
       "<div>\n",
       "<table border=\"1\" class=\"dataframe\">\n",
       "  <thead>\n",
       "    <tr style=\"text-align: right;\">\n",
       "      <th></th>\n",
       "      <th>genre</th>\n",
       "      <th>id</th>\n",
       "    </tr>\n",
       "  </thead>\n",
       "  <tbody>\n",
       "    <tr>\n",
       "      <th>count</th>\n",
       "      <td>19</td>\n",
       "      <td>19.000000</td>\n",
       "    </tr>\n",
       "    <tr>\n",
       "      <th>unique</th>\n",
       "      <td>19</td>\n",
       "      <td>NaN</td>\n",
       "    </tr>\n",
       "    <tr>\n",
       "      <th>top</th>\n",
       "      <td>Thriller</td>\n",
       "      <td>NaN</td>\n",
       "    </tr>\n",
       "    <tr>\n",
       "      <th>freq</th>\n",
       "      <td>1</td>\n",
       "      <td>NaN</td>\n",
       "    </tr>\n",
       "    <tr>\n",
       "      <th>mean</th>\n",
       "      <td>NaN</td>\n",
       "      <td>9.000000</td>\n",
       "    </tr>\n",
       "    <tr>\n",
       "      <th>std</th>\n",
       "      <td>NaN</td>\n",
       "      <td>5.627314</td>\n",
       "    </tr>\n",
       "    <tr>\n",
       "      <th>min</th>\n",
       "      <td>NaN</td>\n",
       "      <td>0.000000</td>\n",
       "    </tr>\n",
       "    <tr>\n",
       "      <th>25%</th>\n",
       "      <td>NaN</td>\n",
       "      <td>4.500000</td>\n",
       "    </tr>\n",
       "    <tr>\n",
       "      <th>50%</th>\n",
       "      <td>NaN</td>\n",
       "      <td>9.000000</td>\n",
       "    </tr>\n",
       "    <tr>\n",
       "      <th>75%</th>\n",
       "      <td>NaN</td>\n",
       "      <td>13.500000</td>\n",
       "    </tr>\n",
       "    <tr>\n",
       "      <th>max</th>\n",
       "      <td>NaN</td>\n",
       "      <td>18.000000</td>\n",
       "    </tr>\n",
       "  </tbody>\n",
       "</table>\n",
       "</div>"
      ],
      "text/plain": [
       "           genre         id\n",
       "count         19  19.000000\n",
       "unique        19        NaN\n",
       "top     Thriller        NaN\n",
       "freq           1        NaN\n",
       "mean         NaN   9.000000\n",
       "std          NaN   5.627314\n",
       "min          NaN   0.000000\n",
       "25%          NaN   4.500000\n",
       "50%          NaN   9.000000\n",
       "75%          NaN  13.500000\n",
       "max          NaN  18.000000"
      ]
     },
     "execution_count": 16,
     "metadata": {},
     "output_type": "execute_result"
    }
   ],
   "source": [
    "# Genres of movie\n",
    "print genres.head(5)\n",
    "genres.describe(include=\"all\")"
   ]
  },
  {
   "cell_type": "code",
   "execution_count": null,
   "metadata": {
    "collapsed": false
   },
   "outputs": [],
   "source": [
    "# Correlation analysis"
   ]
  },
  {
   "cell_type": "code",
   "execution_count": 18,
   "metadata": {
    "collapsed": false
   },
   "outputs": [
    {
     "data": {
      "text/html": [
       "<div>\n",
       "<table border=\"1\" class=\"dataframe\">\n",
       "  <thead>\n",
       "    <tr style=\"text-align: right;\">\n",
       "      <th></th>\n",
       "      <th>id</th>\n",
       "      <th>age</th>\n",
       "      <th>gender</th>\n",
       "      <th>job</th>\n",
       "      <th>zip code</th>\n",
       "    </tr>\n",
       "  </thead>\n",
       "  <tbody>\n",
       "    <tr>\n",
       "      <th>0</th>\n",
       "      <td>1</td>\n",
       "      <td>24</td>\n",
       "      <td>M</td>\n",
       "      <td>technician</td>\n",
       "      <td>85711</td>\n",
       "    </tr>\n",
       "    <tr>\n",
       "      <th>1</th>\n",
       "      <td>2</td>\n",
       "      <td>53</td>\n",
       "      <td>F</td>\n",
       "      <td>other</td>\n",
       "      <td>94043</td>\n",
       "    </tr>\n",
       "    <tr>\n",
       "      <th>2</th>\n",
       "      <td>3</td>\n",
       "      <td>23</td>\n",
       "      <td>M</td>\n",
       "      <td>writer</td>\n",
       "      <td>32067</td>\n",
       "    </tr>\n",
       "    <tr>\n",
       "      <th>3</th>\n",
       "      <td>4</td>\n",
       "      <td>24</td>\n",
       "      <td>M</td>\n",
       "      <td>technician</td>\n",
       "      <td>43537</td>\n",
       "    </tr>\n",
       "    <tr>\n",
       "      <th>4</th>\n",
       "      <td>5</td>\n",
       "      <td>33</td>\n",
       "      <td>F</td>\n",
       "      <td>other</td>\n",
       "      <td>15213</td>\n",
       "    </tr>\n",
       "  </tbody>\n",
       "</table>\n",
       "</div>"
      ],
      "text/plain": [
       "   id  age gender         job zip code\n",
       "0   1   24      M  technician    85711\n",
       "1   2   53      F       other    94043\n",
       "2   3   23      M      writer    32067\n",
       "3   4   24      M  technician    43537\n",
       "4   5   33      F       other    15213"
      ]
     },
     "execution_count": 18,
     "metadata": {},
     "output_type": "execute_result"
    }
   ],
   "source": [
    "users.head(5)"
   ]
  },
  {
   "cell_type": "code",
   "execution_count": 25,
   "metadata": {
    "collapsed": false
   },
   "outputs": [
    {
     "name": "stderr",
     "output_type": "stream",
     "text": [
      "e:\\Anaconda2\\lib\\site-packages\\ipykernel\\__main__.py:1: FutureWarning: sort(columns=....) is deprecated, use sort_values(by=.....)\n",
      "  if __name__ == '__main__':\n"
     ]
    }
   ],
   "source": [
    "rates = ratings.sort('user')"
   ]
  },
  {
   "cell_type": "code",
   "execution_count": 27,
   "metadata": {
    "collapsed": false
   },
   "outputs": [],
   "source": [
    "r2 =ratings.groupby('user')"
   ]
  },
  {
   "cell_type": "markdown",
   "metadata": {},
   "source": [
    "r2"
   ]
  },
  {
   "cell_type": "code",
   "execution_count": 30,
   "metadata": {
    "collapsed": false
   },
   "outputs": [
    {
     "data": {
      "text/html": [
       "<div>\n",
       "<table border=\"1\" class=\"dataframe\">\n",
       "  <thead>\n",
       "    <tr style=\"text-align: right;\">\n",
       "      <th></th>\n",
       "      <th>user</th>\n",
       "      <th>movie</th>\n",
       "      <th>rating</th>\n",
       "      <th>timestamp</th>\n",
       "    </tr>\n",
       "  </thead>\n",
       "  <tbody>\n",
       "    <tr>\n",
       "      <th>66567</th>\n",
       "      <td>1</td>\n",
       "      <td>55</td>\n",
       "      <td>5</td>\n",
       "      <td>875072688</td>\n",
       "    </tr>\n",
       "    <tr>\n",
       "      <th>62820</th>\n",
       "      <td>1</td>\n",
       "      <td>203</td>\n",
       "      <td>4</td>\n",
       "      <td>878542231</td>\n",
       "    </tr>\n",
       "    <tr>\n",
       "      <th>10207</th>\n",
       "      <td>1</td>\n",
       "      <td>183</td>\n",
       "      <td>5</td>\n",
       "      <td>875072262</td>\n",
       "    </tr>\n",
       "    <tr>\n",
       "      <th>9971</th>\n",
       "      <td>1</td>\n",
       "      <td>150</td>\n",
       "      <td>5</td>\n",
       "      <td>876892196</td>\n",
       "    </tr>\n",
       "    <tr>\n",
       "      <th>22496</th>\n",
       "      <td>1</td>\n",
       "      <td>68</td>\n",
       "      <td>4</td>\n",
       "      <td>875072688</td>\n",
       "    </tr>\n",
       "  </tbody>\n",
       "</table>\n",
       "</div>"
      ],
      "text/plain": [
       "       user  movie  rating  timestamp\n",
       "66567     1     55       5  875072688\n",
       "62820     1    203       4  878542231\n",
       "10207     1    183       5  875072262\n",
       "9971      1    150       5  876892196\n",
       "22496     1     68       4  875072688"
      ]
     },
     "execution_count": 30,
     "metadata": {},
     "output_type": "execute_result"
    }
   ],
   "source": [
    "r2.head(5)\n",
    "rates.head(5)"
   ]
  },
  {
   "cell_type": "code",
   "execution_count": 43,
   "metadata": {
    "collapsed": false
   },
   "outputs": [],
   "source": [
    "npmovies = np.genfromtxt('u.item',delimiter='|',dtype=str)"
   ]
  },
  {
   "cell_type": "code",
   "execution_count": 44,
   "metadata": {
    "collapsed": false
   },
   "outputs": [
    {
     "data": {
      "text/plain": [
       "(1682L, 24L)"
      ]
     },
     "execution_count": 44,
     "metadata": {},
     "output_type": "execute_result"
    }
   ],
   "source": [
    "npmovies.shape"
   ]
  },
  {
   "cell_type": "code",
   "execution_count": 72,
   "metadata": {
    "collapsed": false
   },
   "outputs": [],
   "source": [
    "a =[]"
   ]
  },
  {
   "cell_type": "code",
   "execution_count": 73,
   "metadata": {
    "collapsed": true
   },
   "outputs": [],
   "source": [
    "b= [1,2,3]"
   ]
  },
  {
   "cell_type": "code",
   "execution_count": 74,
   "metadata": {
    "collapsed": false
   },
   "outputs": [],
   "source": [
    "a.append(b)"
   ]
  },
  {
   "cell_type": "code",
   "execution_count": 75,
   "metadata": {
    "collapsed": false
   },
   "outputs": [
    {
     "data": {
      "text/plain": [
       "[[1, 2, 3]]"
      ]
     },
     "execution_count": 75,
     "metadata": {},
     "output_type": "execute_result"
    }
   ],
   "source": [
    "a"
   ]
  },
  {
   "cell_type": "code",
   "execution_count": 76,
   "metadata": {
    "collapsed": true
   },
   "outputs": [],
   "source": [
    "npuser = np.genfromtxt('u.user',delimiter='|',dtype=str)"
   ]
  },
  {
   "cell_type": "code",
   "execution_count": 77,
   "metadata": {
    "collapsed": false
   },
   "outputs": [
    {
     "data": {
      "text/plain": [
       "array([['1', '24', 'M', 'technician', '85711'],\n",
       "       ['2', '53', 'F', 'other', '94043'],\n",
       "       ['3', '23', 'M', 'writer', '32067'],\n",
       "       ..., \n",
       "       ['941', '20', 'M', 'student', '97229'],\n",
       "       ['942', '48', 'F', 'librarian', '78209'],\n",
       "       ['943', '22', 'M', 'student', '77841']], \n",
       "      dtype='|S13')"
      ]
     },
     "execution_count": 77,
     "metadata": {},
     "output_type": "execute_result"
    }
   ],
   "source": [
    "npuser\n"
   ]
  },
  {
   "cell_type": "code",
   "execution_count": null,
   "metadata": {
    "collapsed": true
   },
   "outputs": [],
   "source": []
  },
  {
   "cell_type": "code",
   "execution_count": null,
   "metadata": {
    "collapsed": false
   },
   "outputs": [],
   "source": [
    "#list1=ratelist(npratings,npmovies,npuser)"
   ]
  },
  {
   "cell_type": "code",
   "execution_count": 121,
   "metadata": {
    "collapsed": false
   },
   "outputs": [
    {
     "data": {
      "text/plain": [
       "(943L, 1682L)"
      ]
     },
     "execution_count": 121,
     "metadata": {},
     "output_type": "execute_result"
    }
   ],
   "source": [
    "rating_mat=np.zeros((len(users),len(movies)))\n",
    "rating_mat.shape"
   ]
  },
  {
   "cell_type": "code",
   "execution_count": 122,
   "metadata": {
    "collapsed": true
   },
   "outputs": [],
   "source": [
    "\n",
    "for i in range(len(ratings)):\n",
    "    user=int(ratings.user[i])-1\n",
    "    movie=int(ratings.movie[i])-1\n",
    "    rating=int(ratings.rating[i])\n",
    "    rating_mat[user,movie]=rating"
   ]
  },
  {
   "cell_type": "code",
   "execution_count": 123,
   "metadata": {
    "collapsed": false
   },
   "outputs": [
    {
     "data": {
      "text/plain": [
       "array([[ 5.,  3.,  4., ...,  0.,  0.,  0.],\n",
       "       [ 4.,  0.,  0., ...,  0.,  0.,  0.],\n",
       "       [ 0.,  0.,  0., ...,  0.,  0.,  0.],\n",
       "       ..., \n",
       "       [ 5.,  0.,  0., ...,  0.,  0.,  0.],\n",
       "       [ 0.,  0.,  0., ...,  0.,  0.,  0.],\n",
       "       [ 0.,  5.,  0., ...,  0.,  0.,  0.]])"
      ]
     },
     "execution_count": 123,
     "metadata": {},
     "output_type": "execute_result"
    }
   ],
   "source": [
    "rating_mat"
   ]
  },
  {
   "cell_type": "code",
   "execution_count": 124,
   "metadata": {
    "collapsed": false
   },
   "outputs": [
    {
     "data": {
      "text/plain": [
       "(943L, 1682L)"
      ]
     },
     "execution_count": 124,
     "metadata": {},
     "output_type": "execute_result"
    }
   ],
   "source": [
    "rating_mat.shape"
   ]
  },
  {
   "cell_type": "code",
   "execution_count": 125,
   "metadata": {
    "collapsed": true
   },
   "outputs": [],
   "source": [
    "import numpy as np\n",
    "import pylab as pl\n",
    "from sklearn .cluster import KMeans\n",
    "from sklearn import preprocessing\n",
    "\n",
    "from sklearn import metrics"
   ]
  },
  {
   "cell_type": "code",
   "execution_count": 104,
   "metadata": {
    "collapsed": false
   },
   "outputs": [],
   "source": [
    "min_max_scaler = preprocessing.MinMaxScaler()\n",
    "ratMat = min_max_scaler.fit_transform(rating_mat)"
   ]
  },
  {
   "cell_type": "raw",
   "metadata": {},
   "source": []
  },
  {
   "cell_type": "code",
   "execution_count": 152,
   "metadata": {
    "collapsed": false
   },
   "outputs": [
    {
     "data": {
      "text/plain": [
       "array([[ 5.,  3.,  4., ...,  0.,  0.,  0.],\n",
       "       [ 4.,  0.,  0., ...,  0.,  0.,  0.],\n",
       "       [ 0.,  0.,  0., ...,  0.,  0.,  0.],\n",
       "       ..., \n",
       "       [ 5.,  0.,  0., ...,  0.,  0.,  0.],\n",
       "       [ 0.,  0.,  0., ...,  0.,  0.,  0.],\n",
       "       [ 0.,  5.,  0., ...,  0.,  0.,  0.]])"
      ]
     },
     "execution_count": 152,
     "metadata": {},
     "output_type": "execute_result"
    }
   ],
   "source": [
    "rating_mat"
   ]
  },
  {
   "cell_type": "code",
   "execution_count": 183,
   "metadata": {
    "collapsed": false
   },
   "outputs": [],
   "source": [
    "from numpy import *\n",
    "from numpy import linalg as la\n",
    "import numpy as np\n",
    "\n",
    "def ecludSim(inA,inB):\n",
    "    return 1.0 / (1.0 + la.norm(inA - inB))\n",
    "\n",
    "def pearsSim(inA,inB):\n",
    "    if len(inA) < 3 : return 1.0\n",
    "    return 0.5 + 0.5 * corrcoef(inA, inB, rowvar = 0)[0][1]\n",
    "\n",
    "def cosSim(inA,inB):\n",
    "    num = float(inA.T * inB)\n",
    "    denom = la.norm(inA)*la.norm(inB)\n",
    "    return 0.5 + 0.5 * (num / denom)\n",
    "\n",
    "def standEst(dataMat, user, simMeas, item):\n",
    "    n = shape(dataMat)[1]\n",
    "    simTotal = 0.0; ratSimTotal = 0.0\n",
    "    for j in range(n):\n",
    "        userRating = dataMat[user,j]\n",
    "        if userRating == 0: continue\n",
    "        overLap = nonzero(logical_and(dataMat[:,item]>0, \\\n",
    "                                      dataMat[:,j]>0))[0]\n",
    "        if len(overLap) == 0: similarity = 0\n",
    "        else: similarity = simMeas(dataMat[overLap,item], \\\n",
    "                                   dataMat[overLap,j])\n",
    "        #print 'the %d and %d similarity is: %f' % (item, j, similarity)\n",
    "        simTotal += similarity\n",
    "        ratSimTotal += similarity * userRating\n",
    "    if simTotal == 0: return 0\n",
    "    else: return ratSimTotal/simTotal\n",
    "    \n",
    "def svdEst(dataMat, user, simMeas, item):\n",
    "    n = shape(dataMat)[1]\n",
    "    simTotal = 0.0; ratSimTotal = 0.0\n",
    "    data=mat(dataMat)\n",
    "    U,Sigma,VT = la.svd(data)\n",
    "    Sig4 = mat(eye(4)*Sigma[:4]) #arrange Sig4 into a diagonal matrix\n",
    "    xformedItems = data.T * U[:,:4] * Sig4.I  #create transformed items\n",
    "    for j in range(n):\n",
    "        userRating = data[user,j]\n",
    "        if userRating == 0 or j==item: continue\n",
    "        similarity = simMeas(xformedItems[item,:].T,\\\n",
    "                             xformedItems[j,:].T)\n",
    "        #print 'the %d and %d similarity is: %f' % (item, j, similarity)\n",
    "        simTotal += similarity\n",
    "        ratSimTotal += similarity * userRating\n",
    "    if simTotal == 0: return 0\n",
    "    else: return ratSimTotal/simTotal\n",
    "\n",
    "# This function is not needed for Assignment 4, but may be useful for experimentation\n",
    "def recommend(dataMat, user, N=3, simMeas=cosSim, estMethod=standEst):\n",
    "    unratedItems = nonzero(dataMat[user,:].A==0)[1] #find unrated items \n",
    "    if len(unratedItems) == 0: return 'you rated everything'\n",
    "    itemScores = []\n",
    "    for item in unratedItems:\n",
    "        estimatedScore = estMethod(dataMat, user, simMeas, item)\n",
    "        itemScores.append((item, estimatedScore))\n",
    "    return sorted(itemScores, key=lambda jj: jj[1], reverse=True)[:N]\n",
    "\n",
    "# This function performs cross-validation on a single user based on the test_ratio\n",
    "# For example, with test_ratio = 0.2, 5-fold x-validation is performed where in each fold, \n",
    "# 20 percent of rated items are withheld and the rest are used to estimate the withheld ratings\n",
    "\n",
    "def cross_validate_user(dataMat, user, test_ratio, estMethod=standEst, simMeas=pearsSim):\n",
    "    number_of_items = np.shape(dataMat)[1]\n",
    "    rated_items_by_user = np.array([i for i in range(number_of_items) if dataMat[user,i]>0])\n",
    "    test_size = test_ratio * len(rated_items_by_user)\n",
    "    test_indices = np.random.randint(0, len(rated_items_by_user), test_size)\n",
    "    withheld_items = rated_items_by_user[test_indices]\n",
    "    original_user_profile = np.copy(dataMat[user])\n",
    "    dataMat[user, withheld_items] = 0 # So that the withheld test items is not used in the rating estimation below\n",
    "    error_u = 0.0\n",
    "    count_u = len(withheld_items)\n",
    "# Compute absolute error for user u over all test items\n",
    "    for item in withheld_items:\n",
    "    # Estimate rating on the withheld item\n",
    "        estimatedScore = estMethod(dataMat, user, simMeas, item)\n",
    "        error_u = error_u + abs(estimatedScore - original_user_profile[item])\t\n",
    "\n",
    "# Now restore ratings of the withheld items to the user profile\n",
    "    for item in withheld_items:\n",
    "        dataMat[user, item] = original_user_profile[item]\n",
    "\n",
    "    # Return sum of absolute errors and the count of test cases for this user\n",
    "    # Note that these will have to be accumulated for each user to compute MAE\n",
    "    return error_u, count_u\n",
    "\n",
    "\n",
    "\n",
    "def test(MData, testRatio, method):\n",
    "    totalerror = 0.0\n",
    "    total = 0\n",
    "    for user in range(len(MData)):\n",
    "        \n",
    "        error, count = cross_validate_user(MData, user, testRatio, estMethod=method)\n",
    "        totalerror += error\n",
    "        total += count\n",
    "    MAE = totalerror / float(total)\n",
    "    print 'Mean Absoloute Error for ',method,' : ', MAE\n",
    "\n",
    "\n",
    "    \n",
    "def load_jokes(file):\n",
    "    jokes = genfromtxt(file, delimiter=',', dtype=str)\n",
    "    jokes = np.array(jokes[:,1])\n",
    "    return jokes\n",
    "\n",
    "def get_mv_text(movie, id):\n",
    "    return movie[id]\n"
   ]
  },
  {
   "cell_type": "code",
   "execution_count": 271,
   "metadata": {
    "collapsed": false
   },
   "outputs": [
    {
     "name": "stdout",
     "output_type": "stream",
     "text": [
      "Mean Absoloute Error for  <function standEst at 0x000000000E5ADF28>  :  nan\n"
     ]
    },
    {
     "name": "stderr",
     "output_type": "stream",
     "text": [
      "e:\\Anaconda2\\lib\\site-packages\\ipykernel\\__main__.py:67: DeprecationWarning: using a non-integer number instead of an integer will result in an error in the future\n"
     ]
    }
   ],
   "source": [
    "test(rating_mat, 0.2, standEst)\n"
   ]
  },
  {
   "cell_type": "code",
   "execution_count": 150,
   "metadata": {
    "collapsed": true
   },
   "outputs": [],
   "source": [
    "def print_most_similar_movies(dataMat, movie, querymovie, k, metric=pearsSim):\n",
    "    mv = get_mv_text(movie, querymovie)\n",
    "    print 'Selected Movie: \\n'\n",
    "    print mv[:5]\n",
    "    \n",
    "    simMovie = zeros(dataMat.shape[1])\n",
    "    for i in range(dataMat.shape[1]):\n",
    "        if i != querymovie:\n",
    "            simMovie[i] = metric(dataMat[:,i], dataMat[:, querymovie])\n",
    "    sortedVec = simMovie.argsort()[::-1]\n",
    "    print '\\nTop 5 Recommended movies are :\\n'\n",
    "    for i in range(k):\n",
    "        print movie[sortedVec[i]][:5], '\\n_______________\\n'"
   ]
  },
  {
   "cell_type": "code",
   "execution_count": null,
   "metadata": {
    "collapsed": true
   },
   "outputs": [],
   "source": [
    "# Count Knn by pearsSim, then recommand the most sim n.\n",
    "# The sim is based on the movoe's rating"
   ]
  },
  {
   "cell_type": "code",
   "execution_count": 222,
   "metadata": {
    "collapsed": false
   },
   "outputs": [
    {
     "name": "stdout",
     "output_type": "stream",
     "text": [
      "Selected Movie: \n",
      "\n",
      "['4' 'Get Shorty (1995)' '01-Jan-1995' ''\n",
      " 'http://us.imdb.com/M/title-exact?Get%20Shorty%20(1995)']\n",
      "\n",
      "Top 5 Recommended movies are :\n",
      "\n",
      "['56' 'Pulp Fiction (1994)' '01-Jan-1994' ''\n",
      " 'http://us.imdb.com/M/title-exact?Pulp%20Fiction%20(1994)'] \n",
      "_______________\n",
      "\n",
      "['202' 'Groundhog Day (1993)' '01-Jan-1993' ''\n",
      " 'http://us.imdb.com/M/title-exact?Groundhog%20Day%20(1993)'] \n",
      "_______________\n",
      "\n",
      "['204' 'Back to the Future (1985)' '01-Jan-1985' ''\n",
      " 'http://us.imdb.com/M/title-exact?Back%20to%20the%20Future%20(1985)'] \n",
      "_______________\n",
      "\n",
      "['385' 'True Lies (1994)' '01-Jan-1994' ''\n",
      " 'http://us.imdb.com/M/title-exact?True%20Lies%20(1994)'] \n",
      "_______________\n",
      "\n",
      "['96' 'Terminator 2: Judgment Day (1991)' '01-Jan-1991' ''\n",
      " 'http://us.imdb.com/M/title-exact?Terminator%202:%20Judgment%20Day%20(1991)'] \n",
      "_______________\n",
      "\n"
     ]
    }
   ],
   "source": [
    " print_most_similar_movies(rating_mat,npmovies,3,5,pearsSim)"
   ]
  },
  {
   "cell_type": "code",
   "execution_count": null,
   "metadata": {
    "collapsed": true
   },
   "outputs": [],
   "source": [
    "def unratedMovies(userId,movies,datamat):\n",
    "    unrated = []\n",
    "    for i in range(len(movies)):\n",
    "        if datamat[userId,i] ==0:\n",
    "            unrated.append(i)\n",
    "    return unrated"
   ]
  },
  {
   "cell_type": "code",
   "execution_count": 279,
   "metadata": {
    "collapsed": false
   },
   "outputs": [],
   "source": [
    "# Predict all unrated movie for a user\n",
    "# predict based by that user 's rating on most similiar movies\n",
    "def PredictRateForUser(dataMat, movie, userId, metric=pearsSim):\n",
    "    #mv = get_mv_text(movie, querymovie)\n",
    "    #print 'Selected Movie: \\n'\n",
    "    #print mv[:5]\n",
    "    \n",
    "    unrated = unratedMovies(userId,movies,dataMat)\n",
    "    simMovie = zeros(dataMat.shape[1])\n",
    "    for querymovie in unrated:\n",
    "        \n",
    "        for i in range(dataMat.shape[1]):\n",
    "            if i != querymovie:\n",
    "                simMovie[i] = metric(dataMat[:,i], dataMat[:, querymovie])\n",
    "        sortedVec = simMovie.argsort()[::-1]\n",
    "        for j in sortedVec:\n",
    "            if dataMat[userId][j] !=0:\n",
    "                t = dataMat[userId][j]\n",
    "                break\n",
    "        print \"Predict rating for user # %d movie: %s is: %d \"%(userId,movie[querymovie][1],t)\n",
    "    \n",
    "   \n",
    "        \n",
    "        \n",
    "        \n",
    "    "
   ]
  },
  {
   "cell_type": "code",
   "execution_count": 282,
   "metadata": {
    "collapsed": false
   },
   "outputs": [
    {
     "name": "stdout",
     "output_type": "stream",
     "text": [
      "Predict rating for user # 1 movie: GoldenEye (1995) is: 5 \n",
      "Predict rating for user # 1 movie: Four Rooms (1995) is: 4 \n",
      "Predict rating for user # 1 movie: Get Shorty (1995) is: 5 \n",
      "Predict rating for user # 1 movie: Copycat (1995) is: 3 \n",
      "Predict rating for user # 1 movie: Shanghai Triad (Yao a yao yao dao waipo qiao) (1995) is: 4 \n",
      "Predict rating for user # 1 movie: Twelve Monkeys (1995) is: 5 \n",
      "Predict rating for user # 1 movie: Babe (1995) is: 5 \n",
      "Predict rating for user # 1 movie: Dead Man Walking (1995) is: 4 \n",
      "Predict rating for user # 1 movie: Seven (Se7en) (1995) is: 5 \n",
      "Predict rating for user # 1 movie: Usual Suspects, The (1995) is: 5 \n",
      "Predict rating for user # 1 movie: Mr. Holland's Opus (1995) is: 4 \n",
      "Predict rating for user # 1 movie: French Twist (Gazon maudit) (1995) is: 4 \n",
      "Predict rating for user # 1 movie: From Dusk Till Dawn (1996) is: 4 \n",
      "Predict rating for user # 1 movie: White Balloon, The (1995) is: 3 \n",
      "Predict rating for user # 1 movie: Angels and Insects (1995) is: 3 \n",
      "Predict rating for user # 1 movie: Muppet Treasure Island (1996) is: 4 \n",
      "Predict rating for user # 1 movie: Braveheart (1995) is: 5 \n",
      "Predict rating for user # 1 movie: Taxi Driver (1976) is: 5 \n",
      "Predict rating for user # 1 movie: Rumble in the Bronx (1995) is: 4 \n",
      "Predict rating for user # 1 movie: Brothers McMullen, The (1995) is: 4 \n",
      "Predict rating for user # 1 movie: Bad Boys (1995) is: 4 \n",
      "Predict rating for user # 1 movie: Apollo 13 (1995) is: 4 \n",
      "Predict rating for user # 1 movie: Batman Forever (1995) is: 4 \n",
      "Predict rating for user # 1 movie: Belle de jour (1967) is: 2 \n"
     ]
    },
    {
     "ename": "KeyboardInterrupt",
     "evalue": "",
     "output_type": "error",
     "traceback": [
      "\u001b[1;31m---------------------------------------------------------------------------\u001b[0m",
      "\u001b[1;31mKeyboardInterrupt\u001b[0m                         Traceback (most recent call last)",
      "\u001b[1;32m<ipython-input-282-aed2646f7759>\u001b[0m in \u001b[0;36m<module>\u001b[1;34m()\u001b[0m\n\u001b[1;32m----> 1\u001b[1;33m \u001b[0mPredictRateForUser\u001b[0m\u001b[1;33m(\u001b[0m\u001b[0mrating_mat\u001b[0m\u001b[1;33m,\u001b[0m\u001b[0mnpmovies\u001b[0m\u001b[1;33m,\u001b[0m\u001b[1;36m1\u001b[0m\u001b[1;33m,\u001b[0m\u001b[0mpearsSim\u001b[0m\u001b[1;33m)\u001b[0m\u001b[1;33m\u001b[0m\u001b[0m\n\u001b[0m",
      "\u001b[1;32m<ipython-input-279-29a63b4e2958>\u001b[0m in \u001b[0;36mPredictRateForUser\u001b[1;34m(dataMat, movie, userId, metric)\u001b[0m\n\u001b[0;32m     12\u001b[0m         \u001b[1;32mfor\u001b[0m \u001b[0mi\u001b[0m \u001b[1;32min\u001b[0m \u001b[0mrange\u001b[0m\u001b[1;33m(\u001b[0m\u001b[0mdataMat\u001b[0m\u001b[1;33m.\u001b[0m\u001b[0mshape\u001b[0m\u001b[1;33m[\u001b[0m\u001b[1;36m1\u001b[0m\u001b[1;33m]\u001b[0m\u001b[1;33m)\u001b[0m\u001b[1;33m:\u001b[0m\u001b[1;33m\u001b[0m\u001b[0m\n\u001b[0;32m     13\u001b[0m             \u001b[1;32mif\u001b[0m \u001b[0mi\u001b[0m \u001b[1;33m!=\u001b[0m \u001b[0mquerymovie\u001b[0m\u001b[1;33m:\u001b[0m\u001b[1;33m\u001b[0m\u001b[0m\n\u001b[1;32m---> 14\u001b[1;33m                 \u001b[0msimMovie\u001b[0m\u001b[1;33m[\u001b[0m\u001b[0mi\u001b[0m\u001b[1;33m]\u001b[0m \u001b[1;33m=\u001b[0m \u001b[0mmetric\u001b[0m\u001b[1;33m(\u001b[0m\u001b[0mdataMat\u001b[0m\u001b[1;33m[\u001b[0m\u001b[1;33m:\u001b[0m\u001b[1;33m,\u001b[0m\u001b[0mi\u001b[0m\u001b[1;33m]\u001b[0m\u001b[1;33m,\u001b[0m \u001b[0mdataMat\u001b[0m\u001b[1;33m[\u001b[0m\u001b[1;33m:\u001b[0m\u001b[1;33m,\u001b[0m \u001b[0mquerymovie\u001b[0m\u001b[1;33m]\u001b[0m\u001b[1;33m)\u001b[0m\u001b[1;33m\u001b[0m\u001b[0m\n\u001b[0m\u001b[0;32m     15\u001b[0m         \u001b[0msortedVec\u001b[0m \u001b[1;33m=\u001b[0m \u001b[0msimMovie\u001b[0m\u001b[1;33m.\u001b[0m\u001b[0margsort\u001b[0m\u001b[1;33m(\u001b[0m\u001b[1;33m)\u001b[0m\u001b[1;33m[\u001b[0m\u001b[1;33m:\u001b[0m\u001b[1;33m:\u001b[0m\u001b[1;33m-\u001b[0m\u001b[1;36m1\u001b[0m\u001b[1;33m]\u001b[0m\u001b[1;33m\u001b[0m\u001b[0m\n\u001b[0;32m     16\u001b[0m         \u001b[1;32mfor\u001b[0m \u001b[0mj\u001b[0m \u001b[1;32min\u001b[0m \u001b[0msortedVec\u001b[0m\u001b[1;33m:\u001b[0m\u001b[1;33m\u001b[0m\u001b[0m\n",
      "\u001b[1;32m<ipython-input-183-e6367618c250>\u001b[0m in \u001b[0;36mpearsSim\u001b[1;34m(inA, inB)\u001b[0m\n\u001b[0;32m      8\u001b[0m \u001b[1;32mdef\u001b[0m \u001b[0mpearsSim\u001b[0m\u001b[1;33m(\u001b[0m\u001b[0minA\u001b[0m\u001b[1;33m,\u001b[0m\u001b[0minB\u001b[0m\u001b[1;33m)\u001b[0m\u001b[1;33m:\u001b[0m\u001b[1;33m\u001b[0m\u001b[0m\n\u001b[0;32m      9\u001b[0m     \u001b[1;32mif\u001b[0m \u001b[0mlen\u001b[0m\u001b[1;33m(\u001b[0m\u001b[0minA\u001b[0m\u001b[1;33m)\u001b[0m \u001b[1;33m<\u001b[0m \u001b[1;36m3\u001b[0m \u001b[1;33m:\u001b[0m \u001b[1;32mreturn\u001b[0m \u001b[1;36m1.0\u001b[0m\u001b[1;33m\u001b[0m\u001b[0m\n\u001b[1;32m---> 10\u001b[1;33m     \u001b[1;32mreturn\u001b[0m \u001b[1;36m0.5\u001b[0m \u001b[1;33m+\u001b[0m \u001b[1;36m0.5\u001b[0m \u001b[1;33m*\u001b[0m \u001b[0mcorrcoef\u001b[0m\u001b[1;33m(\u001b[0m\u001b[0minA\u001b[0m\u001b[1;33m,\u001b[0m \u001b[0minB\u001b[0m\u001b[1;33m,\u001b[0m \u001b[0mrowvar\u001b[0m \u001b[1;33m=\u001b[0m \u001b[1;36m0\u001b[0m\u001b[1;33m)\u001b[0m\u001b[1;33m[\u001b[0m\u001b[1;36m0\u001b[0m\u001b[1;33m]\u001b[0m\u001b[1;33m[\u001b[0m\u001b[1;36m1\u001b[0m\u001b[1;33m]\u001b[0m\u001b[1;33m\u001b[0m\u001b[0m\n\u001b[0m\u001b[0;32m     11\u001b[0m \u001b[1;33m\u001b[0m\u001b[0m\n\u001b[0;32m     12\u001b[0m \u001b[1;32mdef\u001b[0m \u001b[0mcosSim\u001b[0m\u001b[1;33m(\u001b[0m\u001b[0minA\u001b[0m\u001b[1;33m,\u001b[0m\u001b[0minB\u001b[0m\u001b[1;33m)\u001b[0m\u001b[1;33m:\u001b[0m\u001b[1;33m\u001b[0m\u001b[0m\n",
      "\u001b[1;32me:\\Anaconda2\\lib\\site-packages\\numpy\\lib\\function_base.pyc\u001b[0m in \u001b[0;36mcorrcoef\u001b[1;34m(x, y, rowvar, bias, ddof)\u001b[0m\n\u001b[0;32m   2143\u001b[0m         warnings.warn('bias and ddof have no affect and are deprecated',\n\u001b[0;32m   2144\u001b[0m                       DeprecationWarning)\n\u001b[1;32m-> 2145\u001b[1;33m     \u001b[0mc\u001b[0m \u001b[1;33m=\u001b[0m \u001b[0mcov\u001b[0m\u001b[1;33m(\u001b[0m\u001b[0mx\u001b[0m\u001b[1;33m,\u001b[0m \u001b[0my\u001b[0m\u001b[1;33m,\u001b[0m \u001b[0mrowvar\u001b[0m\u001b[1;33m)\u001b[0m\u001b[1;33m\u001b[0m\u001b[0m\n\u001b[0m\u001b[0;32m   2146\u001b[0m     \u001b[1;32mtry\u001b[0m\u001b[1;33m:\u001b[0m\u001b[1;33m\u001b[0m\u001b[0m\n\u001b[0;32m   2147\u001b[0m         \u001b[0md\u001b[0m \u001b[1;33m=\u001b[0m \u001b[0mdiag\u001b[0m\u001b[1;33m(\u001b[0m\u001b[0mc\u001b[0m\u001b[1;33m)\u001b[0m\u001b[1;33m\u001b[0m\u001b[0m\n",
      "\u001b[1;32me:\\Anaconda2\\lib\\site-packages\\numpy\\lib\\function_base.pyc\u001b[0m in \u001b[0;36mcov\u001b[1;34m(m, y, rowvar, bias, ddof, fweights, aweights)\u001b[0m\n\u001b[0;32m   2085\u001b[0m     \u001b[1;32melse\u001b[0m\u001b[1;33m:\u001b[0m\u001b[1;33m\u001b[0m\u001b[0m\n\u001b[0;32m   2086\u001b[0m         \u001b[0mX_T\u001b[0m \u001b[1;33m=\u001b[0m \u001b[1;33m(\u001b[0m\u001b[0mX\u001b[0m\u001b[1;33m*\u001b[0m\u001b[0mw\u001b[0m\u001b[1;33m)\u001b[0m\u001b[1;33m.\u001b[0m\u001b[0mT\u001b[0m\u001b[1;33m\u001b[0m\u001b[0m\n\u001b[1;32m-> 2087\u001b[1;33m     \u001b[1;32mreturn\u001b[0m \u001b[1;33m(\u001b[0m\u001b[0mdot\u001b[0m\u001b[1;33m(\u001b[0m\u001b[0mX\u001b[0m\u001b[1;33m,\u001b[0m \u001b[0mX_T\u001b[0m\u001b[1;33m.\u001b[0m\u001b[0mconj\u001b[0m\u001b[1;33m(\u001b[0m\u001b[1;33m)\u001b[0m\u001b[1;33m)\u001b[0m\u001b[1;33m/\u001b[0m\u001b[0mfact\u001b[0m\u001b[1;33m)\u001b[0m\u001b[1;33m.\u001b[0m\u001b[0msqueeze\u001b[0m\u001b[1;33m(\u001b[0m\u001b[1;33m)\u001b[0m\u001b[1;33m\u001b[0m\u001b[0m\n\u001b[0m\u001b[0;32m   2088\u001b[0m \u001b[1;33m\u001b[0m\u001b[0m\n\u001b[0;32m   2089\u001b[0m \u001b[1;33m\u001b[0m\u001b[0m\n",
      "\u001b[1;31mKeyboardInterrupt\u001b[0m: "
     ]
    }
   ],
   "source": [
    " PredictRateForUser(rating_mat,npmovies,1,pearsSim)"
   ]
  },
  {
   "cell_type": "code",
   "execution_count": 269,
   "metadata": {
    "collapsed": false
   },
   "outputs": [],
   "source": [
    "# Predict all unrated movie for a user and a specific movie\n",
    "def PredictRateForUserMovie(dataMat, movie, userId,querymovie,metric=pearsSim):\n",
    "    #mv = get_mv_text(movie, querymovie)\n",
    "    #print 'Selected Movie: \\n'\n",
    "    #print mv[:5]\n",
    "    \n",
    "    unrated = unratedMovies(userId,movies,dataMat)\n",
    "    simMovie = zeros(dataMat.shape[1])\n",
    "    if querymovie not in unrated:\n",
    "        print \"User # %d has rated the movie, the rating is %d \"%(userId,dataMat[userId][querymovie])\n",
    "    else:   \n",
    "        for i in range(dataMat.shape[1]):\n",
    "            if i != querymovie:\n",
    "                simMovie[i] = metric(dataMat[:,i], dataMat[:, querymovie])\n",
    "        sortedVec = simMovie.argsort()[::-1]\n",
    "        for j in sortedVec:\n",
    "            if dataMat[userId][j] !=0:\n",
    "                t = dataMat[userId][j]\n",
    "                break\n",
    "        print \"Predict rating for user # %d, movie:  %s is: %d \"%(userId,movie[querymovie][1],t)\n",
    "    \n",
    "   \n",
    "        "
   ]
  },
  {
   "cell_type": "code",
   "execution_count": 270,
   "metadata": {
    "collapsed": false
   },
   "outputs": [
    {
     "name": "stdout",
     "output_type": "stream",
     "text": [
      "Predict rating for user # 1, movie:  Four Rooms (1995) is: 4 \n"
     ]
    }
   ],
   "source": [
    "PredictRateForUserMovie(rating_mat,npmovies,1,2,pearsSim)"
   ]
  },
  {
   "cell_type": "code",
   "execution_count": 285,
   "metadata": {
    "collapsed": false
   },
   "outputs": [],
   "source": [
    "def PredictTest(dataMat, movie, userId, metric=pearsSim):\n",
    "    #mv = get_mv_text(movie, querymovie)\n",
    "    #print 'Selected Movie: \\n'\n",
    "    #print mv[:5]\n",
    "    \n",
    "    unrated = unratedMovies(userId,movies,dataMat)\n",
    "    simMovie = zeros(dataMat.shape[1])\n",
    "    \n",
    "    for j in range(dataMat.shape[1]) :\n",
    "        if j not in unrated:\n",
    "            for i in range(dataMat.shape[1]):\n",
    "                if i not in unrated and i !=j:\n",
    "                    simMovie[i] = metric(dataMat[:,i], dataMat[:, j])\n",
    "            sortedVec = simMovie.argsort()[::-1]\n",
    "            for k in sortedVec:\n",
    "                if dataMat[userId][k] !=0:\n",
    "                    t = dataMat[userId][k]\n",
    "                    break\n",
    "            print \"Predict rating for user # %d movie: %s is: %d \"%(userId,movie[j][1],t)\n",
    "            print \"Actual rating for user # %d movie: %s is %d\"%(userId,movie[j][1],dataMat[userId][j])\n",
    "            print \"\""
   ]
  },
  {
   "cell_type": "code",
   "execution_count": 286,
   "metadata": {
    "collapsed": false
   },
   "outputs": [
    {
     "name": "stdout",
     "output_type": "stream",
     "text": [
      "Predict rating for user # 1 movie: Toy Story (1995) is: 5 \n",
      "Actual rating for user # 1 movie: Toy Story (1995) is 4\n",
      "\n",
      "Predict rating for user # 1 movie: Richard III (1995) is: 4 \n",
      "Actual rating for user # 1 movie: Richard III (1995) is 2\n",
      "\n",
      "Predict rating for user # 1 movie: Mighty Aphrodite (1995) is: 5 \n",
      "Actual rating for user # 1 movie: Mighty Aphrodite (1995) is 4\n",
      "\n",
      "Predict rating for user # 1 movie: Postino, Il (1994) is: 5 \n",
      "Actual rating for user # 1 movie: Postino, Il (1994) is 4\n",
      "\n",
      "Predict rating for user # 1 movie: Antonia's Line (1995) is: 3 \n",
      "Actual rating for user # 1 movie: Antonia's Line (1995) is 3\n",
      "\n",
      "Predict rating for user # 1 movie: Birdcage, The (1996) is: 4 \n",
      "Actual rating for user # 1 movie: Birdcage, The (1996) is 4\n",
      "\n",
      "Predict rating for user # 1 movie: Star Wars (1977) is: 4 \n",
      "Actual rating for user # 1 movie: Star Wars (1977) is 5\n",
      "\n",
      "Predict rating for user # 1 movie: Fargo (1996) is: 4 \n",
      "Actual rating for user # 1 movie: Fargo (1996) is 5\n",
      "\n",
      "Predict rating for user # 1 movie: Truth About Cats & Dogs, The (1996) is: 3 \n",
      "Actual rating for user # 1 movie: Truth About Cats & Dogs, The (1996) is 4\n",
      "\n",
      "Predict rating for user # 1 movie: Godfather, The (1972) is: 5 \n",
      "Actual rating for user # 1 movie: Godfather, The (1972) is 5\n",
      "\n",
      "Predict rating for user # 1 movie: Jerry Maguire (1996) is: 4 \n",
      "Actual rating for user # 1 movie: Jerry Maguire (1996) is 4\n",
      "\n",
      "Predict rating for user # 1 movie: Kolya (1996) is: 3 \n",
      "Actual rating for user # 1 movie: Kolya (1996) is 5\n",
      "\n",
      "Predict rating for user # 1 movie: Shall We Dance? (1996) is: 4 \n",
      "Actual rating for user # 1 movie: Shall We Dance? (1996) is 5\n",
      "\n",
      "Predict rating for user # 1 movie: My Best Friend's Wedding (1997) is: 4 \n",
      "Actual rating for user # 1 movie: My Best Friend's Wedding (1997) is 4\n",
      "\n",
      "Predict rating for user # 1 movie: Men in Black (1997) is: 5 \n",
      "Actual rating for user # 1 movie: Men in Black (1997) is 4\n",
      "\n",
      "Predict rating for user # 1 movie: Contact (1997) is: 4 \n",
      "Actual rating for user # 1 movie: Contact (1997) is 3\n",
      "\n",
      "Predict rating for user # 1 movie: Full Monty, The (1997) is: 5 \n",
      "Actual rating for user # 1 movie: Full Monty, The (1997) is 4\n",
      "\n",
      "Predict rating for user # 1 movie: Good Will Hunting (1997) is: 1 \n",
      "Actual rating for user # 1 movie: Good Will Hunting (1997) is 5\n",
      "\n",
      "Predict rating for user # 1 movie: Heat (1995) is: 4 \n",
      "Actual rating for user # 1 movie: Heat (1995) is 4\n",
      "\n",
      "Predict rating for user # 1 movie: Sabrina (1995) is: 4 \n",
      "Actual rating for user # 1 movie: Sabrina (1995) is 3\n",
      "\n",
      "Predict rating for user # 1 movie: Sense and Sensibility (1995) is: 5 \n",
      "Actual rating for user # 1 movie: Sense and Sensibility (1995) is 5\n",
      "\n",
      "Predict rating for user # 1 movie: Leaving Las Vegas (1995) is: 5 \n",
      "Actual rating for user # 1 movie: Leaving Las Vegas (1995) is 4\n",
      "\n",
      "Predict rating for user # 1 movie: Restoration (1995) is: 3 \n",
      "Actual rating for user # 1 movie: Restoration (1995) is 4\n",
      "\n",
      "Predict rating for user # 1 movie: Bed of Roses (1996) is: 3 \n",
      "Actual rating for user # 1 movie: Bed of Roses (1996) is 3\n",
      "\n",
      "Predict rating for user # 1 movie: Once Upon a Time... When We Were Colored (1995) is: 1 \n",
      "Actual rating for user # 1 movie: Once Upon a Time... When We Were Colored (1995) is 4\n",
      "\n",
      "Predict rating for user # 1 movie: Up Close and Personal (1996) is: 3 \n",
      "Actual rating for user # 1 movie: Up Close and Personal (1996) is 3\n",
      "\n",
      "Predict rating for user # 1 movie: River Wild, The (1994) is: 4 \n",
      "Actual rating for user # 1 movie: River Wild, The (1994) is 3\n",
      "\n",
      "Predict rating for user # 1 movie: Time to Kill, A (1996) is: 4 \n",
      "Actual rating for user # 1 movie: Time to Kill, A (1996) is 4\n",
      "\n",
      "Predict rating for user # 1 movie: Emma (1996) is: 5 \n",
      "Actual rating for user # 1 movie: Emma (1996) is 5\n",
      "\n",
      "Predict rating for user # 1 movie: Tin Cup (1996) is: 4 \n",
      "Actual rating for user # 1 movie: Tin Cup (1996) is 4\n",
      "\n",
      "Predict rating for user # 1 movie: Secrets & Lies (1996) is: 4 \n",
      "Actual rating for user # 1 movie: Secrets & Lies (1996) is 5\n",
      "\n",
      "Predict rating for user # 1 movie: English Patient, The (1996) is: 4 \n",
      "Actual rating for user # 1 movie: English Patient, The (1996) is 4\n",
      "\n",
      "Predict rating for user # 1 movie: Marvin's Room (1996) is: 5 \n",
      "Actual rating for user # 1 movie: Marvin's Room (1996) is 3\n",
      "\n",
      "Predict rating for user # 1 movie: Scream (1996) is: 1 \n",
      "Actual rating for user # 1 movie: Scream (1996) is 3\n",
      "\n",
      "Predict rating for user # 1 movie: Evita (1996) is: 4 \n",
      "Actual rating for user # 1 movie: Evita (1996) is 3\n",
      "\n",
      "Predict rating for user # 1 movie: Fierce Creatures (1997) is: 3 \n",
      "Actual rating for user # 1 movie: Fierce Creatures (1997) is 3\n",
      "\n",
      "Predict rating for user # 1 movie: Absolute Power (1997) is: 4 \n",
      "Actual rating for user # 1 movie: Absolute Power (1997) is 3\n",
      "\n",
      "Predict rating for user # 1 movie: Rosewood (1997) is: 4 \n",
      "Actual rating for user # 1 movie: Rosewood (1997) is 4\n",
      "\n",
      "Predict rating for user # 1 movie: Donnie Brasco (1997) is: 3 \n",
      "Actual rating for user # 1 movie: Donnie Brasco (1997) is 4\n",
      "\n",
      "Predict rating for user # 1 movie: Liar Liar (1997) is: 4 \n",
      "Actual rating for user # 1 movie: Liar Liar (1997) is 1\n",
      "\n",
      "Predict rating for user # 1 movie: Breakdown (1997) is: 3 \n",
      "Actual rating for user # 1 movie: Breakdown (1997) is 4\n",
      "\n",
      "Predict rating for user # 1 movie: Promesse, La (1996) is: 4 \n",
      "Actual rating for user # 1 movie: Promesse, La (1996) is 3\n",
      "\n",
      "Predict rating for user # 1 movie: Ulee's Gold (1997) is: 4 \n",
      "Actual rating for user # 1 movie: Ulee's Gold (1997) is 4\n",
      "\n",
      "Predict rating for user # 1 movie: Face/Off (1997) is: 4 \n",
      "Actual rating for user # 1 movie: Face/Off (1997) is 3\n",
      "\n",
      "Predict rating for user # 1 movie: Hoodlum (1997) is: 4 \n",
      "Actual rating for user # 1 movie: Hoodlum (1997) is 4\n",
      "\n",
      "Predict rating for user # 1 movie: Air Force One (1997) is: 1 \n",
      "Actual rating for user # 1 movie: Air Force One (1997) is 4\n",
      "\n",
      "Predict rating for user # 1 movie: In & Out (1997) is: 4 \n",
      "Actual rating for user # 1 movie: In & Out (1997) is 4\n",
      "\n",
      "Predict rating for user # 1 movie: L.A. Confidential (1997) is: 4 \n",
      "Actual rating for user # 1 movie: L.A. Confidential (1997) is 5\n",
      "\n",
      "Predict rating for user # 1 movie: Ulee's Gold (1997) is: 4 \n",
      "Actual rating for user # 1 movie: Ulee's Gold (1997) is 4\n",
      "\n",
      "Predict rating for user # 1 movie: Fly Away Home (1996) is: 4 \n",
      "Actual rating for user # 1 movie: Fly Away Home (1996) is 4\n",
      "\n",
      "Predict rating for user # 1 movie: Ice Storm, The (1997) is: 4 \n",
      "Actual rating for user # 1 movie: Ice Storm, The (1997) is 3\n",
      "\n",
      "Predict rating for user # 1 movie: Mrs. Brown (Her Majesty, Mrs. Brown) (1997) is: 4 \n",
      "Actual rating for user # 1 movie: Mrs. Brown (Her Majesty, Mrs. Brown) (1997) is 4\n",
      "\n",
      "Predict rating for user # 1 movie: Devil's Advocate, The (1997) is: 5 \n",
      "Actual rating for user # 1 movie: Devil's Advocate, The (1997) is 3\n",
      "\n",
      "Predict rating for user # 1 movie: FairyTale: A True Story (1997) is: 4 \n",
      "Actual rating for user # 1 movie: FairyTale: A True Story (1997) is 3\n",
      "\n",
      "Predict rating for user # 1 movie: Deceiver (1997) is: 3 \n",
      "Actual rating for user # 1 movie: Deceiver (1997) is 1\n",
      "\n",
      "Predict rating for user # 1 movie: Rainmaker, The (1997) is: 5 \n",
      "Actual rating for user # 1 movie: Rainmaker, The (1997) is 4\n",
      "\n",
      "Predict rating for user # 1 movie: Wings of the Dove, The (1997) is: 3 \n",
      "Actual rating for user # 1 movie: Wings of the Dove, The (1997) is 5\n",
      "\n",
      "Predict rating for user # 1 movie: Midnight in the Garden of Good and Evil (1997) is: 5 \n",
      "Actual rating for user # 1 movie: Midnight in the Garden of Good and Evil (1997) is 3\n",
      "\n",
      "Predict rating for user # 1 movie: Titanic (1997) is: 5 \n",
      "Actual rating for user # 1 movie: Titanic (1997) is 5\n",
      "\n",
      "Predict rating for user # 1 movie: 3 Ninjas: High Noon At Mega Mountain (1998) is: 4 \n",
      "Actual rating for user # 1 movie: 3 Ninjas: High Noon At Mega Mountain (1998) is 1\n",
      "\n",
      "Predict rating for user # 1 movie: Apt Pupil (1998) is: 5 \n",
      "Actual rating for user # 1 movie: Apt Pupil (1998) is 1\n",
      "\n",
      "Predict rating for user # 1 movie: As Good As It Gets (1997) is: 5 \n",
      "Actual rating for user # 1 movie: As Good As It Gets (1997) is 5\n",
      "\n"
     ]
    }
   ],
   "source": [
    " PredictTest(rating_mat,npmovies,1,pearsSim)"
   ]
  },
  {
   "cell_type": "code",
   "execution_count": 231,
   "metadata": {
    "collapsed": false
   },
   "outputs": [
    {
     "data": {
      "text/plain": [
       "1682L"
      ]
     },
     "execution_count": 231,
     "metadata": {},
     "output_type": "execute_result"
    }
   ],
   "source": [
    "rating_mat.shape[1]"
   ]
  },
  {
   "cell_type": "code",
   "execution_count": 240,
   "metadata": {
    "collapsed": false
   },
   "outputs": [
    {
     "data": {
      "text/plain": [
       "1620"
      ]
     },
     "execution_count": 240,
     "metadata": {},
     "output_type": "execute_result"
    }
   ],
   "source": [
    "len(t)"
   ]
  },
  {
   "cell_type": "code",
   "execution_count": 256,
   "metadata": {
    "collapsed": false
   },
   "outputs": [
    {
     "data": {
      "text/plain": [
       "'Four Rooms (1995)'"
      ]
     },
     "execution_count": 256,
     "metadata": {},
     "output_type": "execute_result"
    }
   ],
   "source": [
    "npmovies[2][1]"
   ]
  },
  {
   "cell_type": "code",
   "execution_count": null,
   "metadata": {
    "collapsed": true
   },
   "outputs": [],
   "source": []
  }
 ],
 "metadata": {
  "kernelspec": {
   "display_name": "Python 2",
   "language": "python",
   "name": "python2"
  }
 },
 "nbformat": 4,
 "nbformat_minor": 0
}
